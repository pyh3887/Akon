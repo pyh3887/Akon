{
 "cells": [
  {
   "cell_type": "code",
   "execution_count": 3,
   "metadata": {},
   "outputs": [
    {
     "data": {
      "text/plain": [
       "array([0.5, 0.5])"
      ]
     },
     "execution_count": 3,
     "metadata": {},
     "output_type": "execute_result"
    }
   ],
   "source": [
    "# scikits 중에 머신러닝 담당 sklearn\n",
    "from sklearn import linear_model\n",
    "reg = linear_model.LinearRegression()\n",
    "reg.fit([[0,0],[1,1],[2,2]],[0,1,2]) # 회귀 최소제곱법으로 기울기 , 절편 \n",
    "\n",
    "reg.coef_\n",
    "\n",
    "\n",
    "# OLM(ORDINARY 평범함) / GLM(GENRAL 일반화) : 정규성을 띄지 않는데이터"
   ]
  },
  {
   "cell_type": "code",
   "execution_count": null,
   "metadata": {},
   "outputs": [],
   "source": [
    "# 분류(classifier) 예측 (regression)\n",
    " a = sum((x-xbar)*(y-ybar)) / sum((x-xbar)^2) # 상관계수를 내는 공식 윗부분 / 분산 \n",
    " b = ybar - (xbar*a)"
   ]
  },
  {
   "cell_type": "code",
   "execution_count": 10,
   "metadata": {},
   "outputs": [
    {
     "name": "stdout",
     "output_type": "stream",
     "text": [
      "x의 평균값:  5.0\n",
      "y의 평균값:  90.5\n",
      "분모 : 20.0\n",
      "분자 : 46.0\n",
      "기울기 a =  2.3\n",
      "y 절편 b =  79.0\n"
     ]
    }
   ],
   "source": [
    "import numpy as np\n",
    "x= [2,4,6,8]\n",
    "y = [81,93,91,97]\n",
    "# y = ax + b \n",
    "mx = np.mean(x)\n",
    "my = np.mean(y)\n",
    "print(\"x의 평균값: \", mx)\n",
    "print(\"y의 평균값: \" , my)\n",
    "9 1 1 9 \n",
    "divisor = sum([(i-mx)**2 for i in x])\n",
    "def top(x, mx , y , my):\n",
    "    d = 0\n",
    "    for i in range(len(x)):\n",
    "        d += (x[i]- mx) * (y[i] - my) # 누적합 d  =d + (x[i]-mx) * (y[i] -my)        \n",
    "    return d \n",
    "\n",
    "dividend = top(x,mx,y,my)\n",
    "print(\"분모 :\", divisor)\n",
    "print(\"분자 :\" , dividend)\n",
    "a = dividend/divisor\n",
    "b= my -(mx*a)\n",
    "print(\"기울기 a = \" , a )\n",
    "print(\"y 절편 b = \" , b)"
   ]
  },
  {
   "cell_type": "code",
   "execution_count": 7,
   "metadata": {},
   "outputs": [
    {
     "name": "stderr",
     "output_type": "stream",
     "text": [
      "<ipython-input-7-9c96d50dc712>:6: FutureWarning: `rcond` parameter will change to the default of machine precision times ``max(M, N)`` where M and N are the input matrix dimensions.\n",
      "To use the future default and silence this warning we advise to pass `rcond=None`, to keep using the old, explicitly pass `rcond=-1`.\n",
      "  w = np.linalg.lstsq(A.T,y)[0]\n"
     ]
    },
    {
     "data": {
      "image/png": "[encoded data removed]",
      "text/plain": [
       "<Figure size 432x288 with 1 Axes>"
      ]
     },
     "metadata": {
      "needs_background": "light"
     },
     "output_type": "display_data"
    }
   ],
   "source": [
    "import numpy as np \n",
    "import matplotlib.pyplot as plt \n",
    "x = np.arange(0,9)\n",
    "A = np.array([x, np.ones(9)])\n",
    "y = [19,20,20.5,21.5,22,23,23,25.5,24]\n",
    "w = np.linalg.lstsq(A.T,y)[0]\n",
    "line = w[0] *x + w[1]\n",
    "plt.plot(x, line, 'r-')\n",
    "plt.plot(x,y,'o')\n",
    "plt.show()"
   ]
  },
  {
   "cell_type": "code",
   "execution_count": 11,
   "metadata": {},
   "outputs": [],
   "source": [
    "# 보스턴 집값예측"
   ]
  },
  {
   "cell_type": "code",
   "execution_count": 12,
   "metadata": {},
   "outputs": [
    {
     "name": "stdout",
     "output_type": "stream",
     "text": [
      "      CRIM    ZN  INDUS  CHAS    NOX     RM   AGE     DIS  RAD    TAX  \\\n",
      "0  0.00632  18.0   2.31   0.0  0.538  6.575  65.2  4.0900  1.0  296.0   \n",
      "1  0.02731   0.0   7.07   0.0  0.469  6.421  78.9  4.9671  2.0  242.0   \n",
      "2  0.02729   0.0   7.07   0.0  0.469  7.185  61.1  4.9671  2.0  242.0   \n",
      "3  0.03237   0.0   2.18   0.0  0.458  6.998  45.8  6.0622  3.0  222.0   \n",
      "4  0.06905   0.0   2.18   0.0  0.458  7.147  54.2  6.0622  3.0  222.0   \n",
      "\n",
      "   PTRATIO       B  LSTAT  \n",
      "0     15.3  396.90   4.98  \n",
      "1     17.8  396.90   9.14  \n",
      "2     17.8  392.83   4.03  \n",
      "3     18.7  394.63   2.94  \n",
      "4     18.7  396.90   5.33  \n"
     ]
    },
    {
     "data": {
      "text/html": [
       "<div>\n",
       "<style scoped>\n",
       "    .dataframe tbody tr th:only-of-type {\n",
       "        vertical-align: middle;\n",
       "    }\n",
       "\n",
       "    .dataframe tbody tr th {\n",
       "        vertical-align: top;\n",
       "    }\n",
       "\n",
       "    .dataframe thead th {\n",
       "        text-align: right;\n",
       "    }\n",
       "</style>\n",
       "<table border=\"1\" class=\"dataframe\">\n",
       "  <thead>\n",
       "    <tr style=\"text-align: right;\">\n",
       "      <th></th>\n",
       "      <th>MEDV</th>\n",
       "    </tr>\n",
       "  </thead>\n",
       "  <tbody>\n",
       "    <tr>\n",
       "      <th>0</th>\n",
       "      <td>24.0</td>\n",
       "    </tr>\n",
       "    <tr>\n",
       "      <th>1</th>\n",
       "      <td>21.6</td>\n",
       "    </tr>\n",
       "    <tr>\n",
       "      <th>2</th>\n",
       "      <td>34.7</td>\n",
       "    </tr>\n",
       "    <tr>\n",
       "      <th>3</th>\n",
       "      <td>33.4</td>\n",
       "    </tr>\n",
       "    <tr>\n",
       "      <th>4</th>\n",
       "      <td>36.2</td>\n",
       "    </tr>\n",
       "  </tbody>\n",
       "</table>\n",
       "</div>"
      ],
      "text/plain": [
       "   MEDV\n",
       "0  24.0\n",
       "1  21.6\n",
       "2  34.7\n",
       "3  33.4\n",
       "4  36.2"
      ]
     },
     "execution_count": 12,
     "metadata": {},
     "output_type": "execute_result"
    }
   ],
   "source": [
    "from sklearn.linear_model import LinearRegression\n",
    "from sklearn.datasets import load_boston #Bunch > 데이터 변환\n",
    "import matplotlib.pyplot as plt \n",
    "import pandas as pd \n",
    "boston = load_boston()\n",
    "# data 독립변수\n",
    "# target  종속변수\n",
    "# feture_name 변수 이름\n",
    "# DESCR 설명 \n",
    "dfX = pd.DataFrame(boston.data , columns = boston.feature_names) #독립변수\n",
    "dfy = pd.DataFrame(boston.target, columns=[\"MEDV\"]) # 종속변수\n",
    "print(dfX.head())\n",
    "dfy.head()"
   ]
  },
  {
   "cell_type": "code",
   "execution_count": 14,
   "metadata": {},
   "outputs": [
    {
     "name": "stdout",
     "output_type": "stream",
     "text": [
      "[-1.08011358e-01  4.64204584e-02  2.05586264e-02  2.68673382e+00\n",
      " -1.77666112e+01  3.80986521e+00  6.92224640e-04 -1.47556685e+00\n",
      "  3.06049479e-01 -1.23345939e-02 -9.52747232e-01  9.31168327e-03\n",
      " -5.24758378e-01]\n",
      "['CRIM' 'ZN' 'INDUS' 'CHAS' 'NOX' 'RM' 'AGE' 'DIS' 'RAD' 'TAX' 'PTRATIO'\n",
      " 'B' 'LSTAT']\n",
      "36.459488385089855\n"
     ]
    }
   ],
   "source": [
    "model_boston =LinearRegression().fit(boston.data, boston.target) # 독립변수 , 종속변수\n",
    "type(boston)\n",
    "print(model_boston.coef_) # 계수\n",
    "print(boston.feature_names) \n",
    "print(model_boston.intercept_) # 절편"
   ]
  },
  {
   "cell_type": "code",
   "execution_count": 15,
   "metadata": {},
   "outputs": [],
   "source": [
    "predictions = model_boston.predict(boston.data)"
   ]
  },
  {
   "cell_type": "code",
   "execution_count": 17,
   "metadata": {},
   "outputs": [
    {
     "name": "stderr",
     "output_type": "stream",
     "text": [
      "C:\\Users\\2-13\\anaconda3\\lib\\site-packages\\matplotlib\\backends\\backend_agg.py:214: RuntimeWarning: Glyph 51665 missing from current font.\n",
      "  font.set_text(s, 0.0, flags=flags)\n",
      "C:\\Users\\2-13\\anaconda3\\lib\\site-packages\\matplotlib\\backends\\backend_agg.py:214: RuntimeWarning: Glyph 44050 missing from current font.\n",
      "  font.set_text(s, 0.0, flags=flags)\n",
      "C:\\Users\\2-13\\anaconda3\\lib\\site-packages\\matplotlib\\backends\\backend_agg.py:214: RuntimeWarning: Glyph 50696 missing from current font.\n",
      "  font.set_text(s, 0.0, flags=flags)\n",
      "C:\\Users\\2-13\\anaconda3\\lib\\site-packages\\matplotlib\\backends\\backend_agg.py:214: RuntimeWarning: Glyph 52769 missing from current font.\n",
      "  font.set_text(s, 0.0, flags=flags)\n",
      "C:\\Users\\2-13\\anaconda3\\lib\\site-packages\\matplotlib\\backends\\backend_agg.py:214: RuntimeWarning: Glyph 52824 missing from current font.\n",
      "  font.set_text(s, 0.0, flags=flags)\n",
      "C:\\Users\\2-13\\anaconda3\\lib\\site-packages\\matplotlib\\backends\\backend_agg.py:214: RuntimeWarning: Glyph 50752 missing from current font.\n",
      "  font.set_text(s, 0.0, flags=flags)\n",
      "C:\\Users\\2-13\\anaconda3\\lib\\site-packages\\matplotlib\\backends\\backend_agg.py:214: RuntimeWarning: Glyph 49892 missing from current font.\n",
      "  font.set_text(s, 0.0, flags=flags)\n",
      "C:\\Users\\2-13\\anaconda3\\lib\\site-packages\\matplotlib\\backends\\backend_agg.py:214: RuntimeWarning: Glyph 51228 missing from current font.\n",
      "  font.set_text(s, 0.0, flags=flags)\n",
      "C:\\Users\\2-13\\anaconda3\\lib\\site-packages\\matplotlib\\backends\\backend_agg.py:214: RuntimeWarning: Glyph 51032 missing from current font.\n",
      "  font.set_text(s, 0.0, flags=flags)\n",
      "C:\\Users\\2-13\\anaconda3\\lib\\site-packages\\matplotlib\\backends\\backend_agg.py:214: RuntimeWarning: Glyph 44288 missing from current font.\n",
      "  font.set_text(s, 0.0, flags=flags)\n",
      "C:\\Users\\2-13\\anaconda3\\lib\\site-packages\\matplotlib\\backends\\backend_agg.py:214: RuntimeWarning: Glyph 44228 missing from current font.\n",
      "  font.set_text(s, 0.0, flags=flags)\n",
      "C:\\Users\\2-13\\anaconda3\\lib\\site-packages\\matplotlib\\backends\\backend_agg.py:183: RuntimeWarning: Glyph 49892 missing from current font.\n",
      "  font.set_text(s, 0, flags=flags)\n",
      "C:\\Users\\2-13\\anaconda3\\lib\\site-packages\\matplotlib\\backends\\backend_agg.py:183: RuntimeWarning: Glyph 51228 missing from current font.\n",
      "  font.set_text(s, 0, flags=flags)\n",
      "C:\\Users\\2-13\\anaconda3\\lib\\site-packages\\matplotlib\\backends\\backend_agg.py:183: RuntimeWarning: Glyph 51665 missing from current font.\n",
      "  font.set_text(s, 0, flags=flags)\n",
      "C:\\Users\\2-13\\anaconda3\\lib\\site-packages\\matplotlib\\backends\\backend_agg.py:183: RuntimeWarning: Glyph 44050 missing from current font.\n",
      "  font.set_text(s, 0, flags=flags)\n",
      "C:\\Users\\2-13\\anaconda3\\lib\\site-packages\\matplotlib\\backends\\backend_agg.py:183: RuntimeWarning: Glyph 50696 missing from current font.\n",
      "  font.set_text(s, 0, flags=flags)\n",
      "C:\\Users\\2-13\\anaconda3\\lib\\site-packages\\matplotlib\\backends\\backend_agg.py:183: RuntimeWarning: Glyph 52769 missing from current font.\n",
      "  font.set_text(s, 0, flags=flags)\n",
      "C:\\Users\\2-13\\anaconda3\\lib\\site-packages\\matplotlib\\backends\\backend_agg.py:183: RuntimeWarning: Glyph 52824 missing from current font.\n",
      "  font.set_text(s, 0, flags=flags)\n",
      "C:\\Users\\2-13\\anaconda3\\lib\\site-packages\\matplotlib\\backends\\backend_agg.py:183: RuntimeWarning: Glyph 50752 missing from current font.\n",
      "  font.set_text(s, 0, flags=flags)\n",
      "C:\\Users\\2-13\\anaconda3\\lib\\site-packages\\matplotlib\\backends\\backend_agg.py:183: RuntimeWarning: Glyph 51032 missing from current font.\n",
      "  font.set_text(s, 0, flags=flags)\n",
      "C:\\Users\\2-13\\anaconda3\\lib\\site-packages\\matplotlib\\backends\\backend_agg.py:183: RuntimeWarning: Glyph 44288 missing from current font.\n",
      "  font.set_text(s, 0, flags=flags)\n",
      "C:\\Users\\2-13\\anaconda3\\lib\\site-packages\\matplotlib\\backends\\backend_agg.py:183: RuntimeWarning: Glyph 44228 missing from current font.\n",
      "  font.set_text(s, 0, flags=flags)\n"
     ]
    },
    {
     "data": {
      "image/png": "[encoded data removed]",
      "text/plain": [
       "<Figure size 432x288 with 1 Axes>"
      ]
     },
     "metadata": {
      "needs_background": "light"
     },
     "output_type": "display_data"
    }
   ],
   "source": [
    "plt.scatter(boston.target,predictions)\n",
    "plt.xlabel(u\"실제 집값\")\n",
    "plt.ylabel(u\"집값 예측치\")\n",
    "plt.title(\"집값 예측치와 실제 집값의 관계\")\n",
    "plt.show()\n",
    "\n",
    "        \n",
    "           "
   ]
  },
  {
   "cell_type": "code",
   "execution_count": null,
   "metadata": {},
   "outputs": [],
   "source": [
    "# 문제 예측값과 실제값의 차를 출력해보시오 "
   ]
  },
  {
   "cell_type": "code",
   "execution_count": 19,
   "metadata": {},
   "outputs": [
    {
     "data": {
      "text/plain": [
       "array([0., 0., 0., 0., 0., 0., 0., 0., 0., 0., 0., 0., 0., 0., 0., 0., 0.,\n",
       "       0., 0., 0., 0., 0., 0., 0., 0., 0., 0., 0., 0., 0., 0., 0., 0., 0.,\n",
       "       0., 0., 0., 0., 0., 0., 0., 0., 0., 0., 0., 0., 0., 0., 0., 0., 0.,\n",
       "       0., 0., 0., 0., 0., 0., 0., 0., 0., 0., 0., 0., 0., 0., 0., 0., 0.,\n",
       "       0., 0., 0., 0., 0., 0., 0., 0., 0., 0., 0., 0., 0., 0., 0., 0., 0.,\n",
       "       0., 0., 0., 0., 0., 0., 0., 0., 0., 0., 0., 0., 0., 0., 0., 0., 0.,\n",
       "       0., 0., 0., 0., 0., 0., 0., 0., 0., 0., 0., 0., 0., 0., 0., 0., 0.,\n",
       "       0., 0., 0., 0., 0., 0., 0., 0., 0., 0., 0., 0., 0., 0., 0., 0., 0.,\n",
       "       0., 0., 0., 0., 0., 0., 0., 0., 0., 0., 0., 0., 0., 0., 0., 0., 0.,\n",
       "       0., 0., 0., 0., 0., 0., 0., 0., 0., 0., 0., 0., 0., 0., 0., 0., 0.,\n",
       "       0., 0., 0., 0., 0., 0., 0., 0., 0., 0., 0., 0., 0., 0., 0., 0., 0.,\n",
       "       0., 0., 0., 0., 0., 0., 0., 0., 0., 0., 0., 0., 0., 0., 0., 0., 0.,\n",
       "       0., 0., 0., 0., 0., 0., 0., 0., 0., 0., 0., 0., 0., 0., 0., 0., 0.,\n",
       "       0., 0., 0., 0., 0., 0., 0., 0., 0., 0., 0., 0., 0., 0., 0., 0., 0.,\n",
       "       0., 0., 0., 0., 0., 0., 0., 0., 0., 0., 0., 0., 0., 0., 0., 0., 0.,\n",
       "       0., 0., 0., 0., 0., 0., 0., 0., 0., 0., 0., 0., 0., 0., 0., 0., 0.,\n",
       "       0., 0., 0., 0., 0., 0., 0., 0., 0., 0., 0., 0., 0., 0., 0., 0., 0.,\n",
       "       0., 0., 0., 0., 0., 0., 0., 0., 0., 0., 0., 0., 0., 0., 0., 0., 0.,\n",
       "       0., 0., 0., 0., 0., 0., 0., 0., 0., 0., 0., 0., 0., 0., 0., 0., 0.,\n",
       "       0., 0., 0., 0., 0., 0., 0., 0., 0., 0., 0., 0., 0., 0., 0., 0., 0.,\n",
       "       0., 0., 0., 0., 0., 0., 0., 0., 0., 0., 0., 0., 0., 0., 0., 0., 0.,\n",
       "       0., 0., 0., 0., 0., 0., 0., 0., 0., 0., 0., 0., 0., 0., 0., 0., 0.,\n",
       "       0., 0., 0., 0., 0., 0., 0., 0., 0., 0., 0., 0., 0., 0., 0., 0., 0.,\n",
       "       0., 0., 0., 0., 0., 0., 0., 0., 0., 0., 0., 0., 0., 0., 0., 0., 0.,\n",
       "       0., 0., 0., 0., 0., 0., 0., 0., 0., 0., 0., 0., 0., 0., 0., 0., 0.,\n",
       "       0., 0., 0., 0., 0., 0., 0., 0., 0., 0., 0., 0., 0., 0., 0., 0., 0.,\n",
       "       0., 0., 0., 0., 0., 0., 0., 0., 0., 0., 0., 0., 0., 0., 0., 0., 0.,\n",
       "       0., 0., 0., 0., 0., 0., 0., 0., 0., 0., 0., 0., 0., 0., 0., 0., 0.,\n",
       "       0., 0., 0., 0., 0., 0., 0., 0., 0., 0., 0., 0., 0., 0., 0., 0., 0.,\n",
       "       0., 0., 0., 0., 0., 0., 0., 0., 0., 0., 0., 0., 0.])"
      ]
     },
     "execution_count": 19,
     "metadata": {},
     "output_type": "execute_result"
    }
   ],
   "source": [
    "predictions - boston.target"
   ]
  },
  {
   "cell_type": "code",
   "execution_count": null,
   "metadata": {},
   "outputs": [],
   "source": [
    "# Ridge = linear regression + regularization 규제 \n",
    "- 다중공선성으로 인한 과적합 방지 \n",
    "- 규제의 강도를 조절하는 매개변수가 alpha"
   ]
  },
  {
   "cell_type": "code",
   "execution_count": 34,
   "metadata": {},
   "outputs": [
    {
     "name": "stdout",
     "output_type": "stream",
     "text": [
      "훈련 세트 점수 : 0.78\n",
      "테스트 세트 점수 : 0.74\n"
     ]
    }
   ],
   "source": [
    "from sklearn.linear_model import Ridge\n",
    "from sklearn.datasets  import load_breast_cancer\n",
    "from sklearn.model_selection import train_test_split\n",
    "cancer = load_breast_cancer()\n",
    "X_train , X_test, y_train, y_test = train_test_split(\n",
    "    cancer.data, cancer.target, stratify=cancer.target,random_state=42) # stratify 층화분류 암인 사람과 암이 아닌사람을 골고루 \n",
    "                                                                        # random_state > 난수\n",
    "\n",
    "ridge = Ridge(alpha=0.01).fit(X_train,y_train) # 함수의 기울기와 절편이 구해짐\n",
    "# R^2 > 독립변수가 종속변수를 설명하는정도 설명력\n",
    "print(\"훈련 세트 점수 : {:.2f}\".format(ridge.score(X_train,y_train)))\n",
    "print(\"테스트 세트 점수 : {:.2f}\".format(ridge.score(X_test,y_test)))"
   ]
  },
  {
   "cell_type": "code",
   "execution_count": 43,
   "metadata": {},
   "outputs": [
    {
     "name": "stdout",
     "output_type": "stream",
     "text": [
      "훈련 세트점수 : 0.77\n",
      "테스트 세트점수 : 0.74\n"
     ]
    },
    {
     "name": "stderr",
     "output_type": "stream",
     "text": [
      "C:\\Users\\2-13\\anaconda3\\lib\\site-packages\\sklearn\\linear_model\\_coordinate_descent.py:529: ConvergenceWarning: Objective did not converge. You might want to increase the number of iterations. Duality gap: 0.06660758160603564, tolerance: 0.00996549295774648\n",
      "  model = cd_fast.enet_coordinate_descent(\n"
     ]
    }
   ],
   "source": [
    "from sklearn.linear_model import Lasso\n",
    "lasso = Lasso(alpha=0.0001, max_iter = 10000).fit(X_train,y_train)\n",
    "print(\"훈련 세트점수 : {:.2f}\".format(lasso.score(X_train,y_train)))\n",
    "print(\"테스트 세트점수 : {:.2f}\".format(lasso.score(X_test,y_test)))"
   ]
  },
  {
   "cell_type": "code",
   "execution_count": null,
   "metadata": {},
   "outputs": [],
   "source": [
    "# 비선형회귀"
   ]
  },
  {
   "cell_type": "code",
   "execution_count": 46,
   "metadata": {},
   "outputs": [],
   "source": [
    "from sklearn.preprocessing import PolynomialFeatures\n",
    "x = np.array([2,3,4])\n",
    "poly = PolynomialFeatures(3, include_bias = False)\n",
    "poly.fit_transform(x[:,None])\n",
    "from sklearn.pipeline import make_pipeline\n",
    "poly_model = make_pipeline(PolynomialFeatures(7), LinearRegression())"
   ]
  },
  {
   "cell_type": "code",
   "execution_count": 51,
   "metadata": {},
   "outputs": [
    {
     "data": {
      "text/plain": [
       "[<matplotlib.lines.Line2D at 0x1e7997368b0>]"
      ]
     },
     "execution_count": 51,
     "metadata": {},
     "output_type": "execute_result"
    },
    {
     "data": {
      "image/png": "[encoded data removed]",
      "text/plain": [
       "<Figure size 432x288 with 1 Axes>"
      ]
     },
     "metadata": {
      "needs_background": "light"
     },
     "output_type": "display_data"
    }
   ],
   "source": [
    "rng = np.random.RandomState(1)\n",
    "x= 10 * rng.rand(50)\n",
    "y = np.sin(x) + 0.1 * rng.randn(50)\n",
    "\n",
    "poly_model.fit(x[:,np.newaxis], y )\n",
    "yfit = poly_model.predict(x[:,np.newaxis])\n",
    "\n",
    "plt.scatter(x,y)\n",
    "plt.plot(x,yfit)"
   ]
  },
  {
   "cell_type": "code",
   "execution_count": null,
   "metadata": {},
   "outputs": [],
   "source": [
    "#          실제값\n",
    "# 예측값     TP       FP\n",
    "#            TN       FN\n",
    "#          recall   sensitivity(민감도)\n",
    "\n",
    "\n",
    "= TP/ (TP+TN) "
   ]
  },
  {
   "cell_type": "code",
   "execution_count": 55,
   "metadata": {},
   "outputs": [
    {
     "name": "stdout",
     "output_type": "stream",
     "text": [
      "0.5\n"
     ]
    },
    {
     "data": {
      "text/plain": [
       "2"
      ]
     },
     "execution_count": 55,
     "metadata": {},
     "output_type": "execute_result"
    }
   ],
   "source": [
    "from sklearn.metrics import accuracy_score # 모델평가 \n",
    "y_pred = [[0,2,1,3]\n",
    "y_true = [0,1,2,3]\n",
    "print(accuracy_score(y_true,y_pred,normalize=True))\n",
    "accuracy_score(y_true,y_pred,normalize=False)"
   ]
  },
  {
   "cell_type": "code",
   "execution_count": 58,
   "metadata": {},
   "outputs": [
    {
     "data": {
      "text/plain": [
       "array([0.96666667, 0.96666667, 0.96666667, 0.93333333, 1.        ])"
      ]
     },
     "execution_count": 58,
     "metadata": {},
     "output_type": "execute_result"
    }
   ],
   "source": [
    "from sklearn import svm, datasets # support vector machine(신경망) \n",
    "                                   # 서포트 벡터를 이용해서 그룹간 간격을 멀리 함     \n",
    "from sklearn.model_selection import cross_val_score\n",
    "iris = datasets.load_iris()\n",
    "X,y = iris.data, iris.target\n",
    "clf = svm.SVC(gamma='scale', random_state = 0) # SVC,SVR 분류 , 예측\n",
    "cross_val_score(clf,X,y,scoring='recall_macro', cv= 5) # 재현율을 이용해서 평가"
   ]
  },
  {
   "cell_type": "code",
   "execution_count": 74,
   "metadata": {},
   "outputs": [
    {
     "data": {
      "text/plain": [
       "array([[2, 0, 0],\n",
       "       [0, 0, 1],\n",
       "       [1, 0, 2]], dtype=int64)"
      ]
     },
     "execution_count": 74,
     "metadata": {},
     "output_type": "execute_result"
    }
   ],
   "source": [
    "import sklearn.metrics as metrics\n",
    "y_true = [2,0,2,2,0,1]\n",
    "y_pred = [0,0,2,2,0,2]\n",
    "confusion_matrix(y_true,y_pred) # 혼동행렬 : 대각선이 정분류율 "
   ]
  },
  {
   "cell_type": "code",
   "execution_count": 79,
   "metadata": {},
   "outputs": [
    {
     "name": "stdout",
     "output_type": "stream",
     "text": [
      "accuracy 0.6666666666666666\n",
      "precision 1.0\n",
      "recall 0.5\n",
      "f1 0.6666666666666666\n",
      "accuracy 0.6666666666666666\n",
      "precision 1.0\n",
      "recall 0.5\n",
      "f1 0.6666666666666666\n",
      "              precision    recall  f1-score   support\n",
      "\n",
      "           0       0.50      1.00      0.67         2\n",
      "           1       1.00      0.50      0.67         4\n",
      "\n",
      "    accuracy                           0.67         6\n",
      "   macro avg       0.75      0.75      0.67         6\n",
      "weighted avg       0.83      0.67      0.67         6\n",
      "\n",
      "[[2 0]\n",
      " [2 2]]\n"
     ]
    }
   ],
   "source": [
    "y = np.array([1,1,1,1,0,0])\n",
    "p = np.array([1,1,0,0,0,0])\n",
    "\n",
    "\n",
    "accuracy = np.mean(np.equal(y,p)) # 4/6\n",
    "right = np.sum(y * p == 1) # 2개 \n",
    "precision = right / np.sum(p) # 2/2\n",
    "recall = right/ np.sum(y) # 2/4\n",
    "f1 = 2 * precision * recall / (precision+recall) #평가 방법 (정밀도하고 재현율(민감도))\n",
    "print('accuracy', accuracy)\n",
    "print('precision', precision)\n",
    "print('recall', recall)\n",
    "print('f1',f1)\n",
    "# 분류에 대한 평가 함수들 : 범주형\n",
    "# 예측 : 연속형 : mse(mean square error)\n",
    "\n",
    "print('accuracy', metrics.accuracy_score(y,p)) # 정확도\n",
    "print('precision', metrics.precision_score(y,p)) #정밀도\n",
    "print('recall', metrics.recall_score(y,p)) # 재현율\n",
    "print('f1', metrics.f1_score(y,p)) # 에프원 스코어 정밀도+정확도 고려\n",
    "print(metrics.classification_report(y,p))\n",
    "print(metrics.confusion_matrix(y,p))\n",
    "\n",
    "\n",
    "\n"
   ]
  },
  {
   "cell_type": "code",
   "execution_count": null,
   "metadata": {},
   "outputs": [],
   "source": [
    "- macro avg : 단순평균 \n",
    "- weighted avg : 가중평균 \n",
    "    "
   ]
  },
  {
   "cell_type": "code",
   "execution_count": 85,
   "metadata": {},
   "outputs": [
    {
     "name": "stderr",
     "output_type": "stream",
     "text": [
      "C:\\Users\\2-13\\anaconda3\\lib\\site-packages\\sklearn\\utils\\deprecation.py:86: FutureWarning: Function make_blobs is deprecated; Please import make_blobs directly from scikit-learn\n",
      "  warnings.warn(msg, category=FutureWarning)\n",
      "C:\\Users\\2-13\\anaconda3\\lib\\site-packages\\sklearn\\svm\\_base.py:976: ConvergenceWarning: Liblinear failed to converge, increase the number of iterations.\n",
      "  warnings.warn(\"Liblinear failed to converge, increase \"\n"
     ]
    },
    {
     "data": {
      "text/plain": [
       "<matplotlib.legend.Legend at 0x1e79c87ac70>"
      ]
     },
     "execution_count": 85,
     "metadata": {},
     "output_type": "execute_result"
    },
    {
     "name": "stderr",
     "output_type": "stream",
     "text": [
      "C:\\Users\\2-13\\anaconda3\\lib\\site-packages\\matplotlib\\backends\\backend_agg.py:214: RuntimeWarning: Glyph 53945 missing from current font.\n",
      "  font.set_text(s, 0.0, flags=flags)\n",
      "C:\\Users\\2-13\\anaconda3\\lib\\site-packages\\matplotlib\\backends\\backend_agg.py:214: RuntimeWarning: Glyph 49457 missing from current font.\n",
      "  font.set_text(s, 0.0, flags=flags)\n",
      "C:\\Users\\2-13\\anaconda3\\lib\\site-packages\\matplotlib\\backends\\backend_agg.py:183: RuntimeWarning: Glyph 53945 missing from current font.\n",
      "  font.set_text(s, 0, flags=flags)\n",
      "C:\\Users\\2-13\\anaconda3\\lib\\site-packages\\matplotlib\\backends\\backend_agg.py:183: RuntimeWarning: Glyph 49457 missing from current font.\n",
      "  font.set_text(s, 0, flags=flags)\n"
     ]
    },
    {
     "data": {
      "image/png": "[encoded data removed]",
      "text/plain": [
       "<Figure size 720x216 with 2 Axes>"
      ]
     },
     "metadata": {},
     "output_type": "display_data"
    }
   ],
   "source": [
    "from sklearn.linear_model import LogisticRegression\n",
    "# 분류 : 독립변수가 연속형 , 종속변수가 범주형인 경우 \n",
    "# sigmoid : 0 ~ 1\n",
    "from sklearn.svm import LinearSVC # support vector machine\n",
    "import matplotlib.pyplot as plt \n",
    "import mglearn\n",
    "X , y = mglearn.datasets.make_forge()\n",
    "\n",
    "fig , axes = plt.subplots(1,2, figsize=(10,3))\n",
    "\n",
    "for model , ax in zip([LinearSVC(),LogisticRegression()], axes):\n",
    "    clf = model.fit(X,y)\n",
    "    mglearn.plots.plot_2d_separator(clf, X,fill=True,eps=0.5, ax= ax , alpha = .7)\n",
    "    mglearn.discrete_scatter(X[:,0], X[:,1], y , ax= ax)\n",
    "    ax.set_title(\"{}\".format(clf.__class__.__name__))\n",
    "    ax.set_xlabel(\"특성 0\")\n",
    "    ax.set_ylabel(\"특성1\")\n",
    "    \n",
    "axes[0].legend()\n",
    "\n",
    "\n"
   ]
  },
  {
   "cell_type": "code",
   "execution_count": 87,
   "metadata": {},
   "outputs": [
    {
     "data": {
      "text/html": [
       "<div>\n",
       "<style scoped>\n",
       "    .dataframe tbody tr th:only-of-type {\n",
       "        vertical-align: middle;\n",
       "    }\n",
       "\n",
       "    .dataframe tbody tr th {\n",
       "        vertical-align: top;\n",
       "    }\n",
       "\n",
       "    .dataframe thead th {\n",
       "        text-align: right;\n",
       "    }\n",
       "</style>\n",
       "<table border=\"1\" class=\"dataframe\">\n",
       "  <thead>\n",
       "    <tr style=\"text-align: right;\">\n",
       "      <th></th>\n",
       "      <th>name</th>\n",
       "      <th>status</th>\n",
       "      <th>MDVP:Fo(Hz)</th>\n",
       "      <th>MDVP:Fhi(Hz)</th>\n",
       "      <th>MDVP:Flo(Hz)</th>\n",
       "      <th>MDVP:Jitter(%)</th>\n",
       "      <th>MDVP:Jitter(Abs)</th>\n",
       "      <th>MDVP:RAP</th>\n",
       "      <th>MDVP:PPQ</th>\n",
       "      <th>Jitter:DDP</th>\n",
       "      <th>...</th>\n",
       "      <th>MDVP:APQ</th>\n",
       "      <th>Shimmer:DDA</th>\n",
       "      <th>NHR</th>\n",
       "      <th>HNR</th>\n",
       "      <th>RPDE</th>\n",
       "      <th>DFA</th>\n",
       "      <th>spread1</th>\n",
       "      <th>spread2</th>\n",
       "      <th>D2</th>\n",
       "      <th>PPE</th>\n",
       "    </tr>\n",
       "  </thead>\n",
       "  <tbody>\n",
       "    <tr>\n",
       "      <th>0</th>\n",
       "      <td>phon_R01_S01_1</td>\n",
       "      <td>1</td>\n",
       "      <td>-0.829300</td>\n",
       "      <td>-0.436165</td>\n",
       "      <td>-0.952037</td>\n",
       "      <td>0.334914</td>\n",
       "      <td>0.749759</td>\n",
       "      <td>0.132963</td>\n",
       "      <td>0.760800</td>\n",
       "      <td>0.131755</td>\n",
       "      <td>...</td>\n",
       "      <td>0.332985</td>\n",
       "      <td>0.607532</td>\n",
       "      <td>-0.067893</td>\n",
       "      <td>-0.193225</td>\n",
       "      <td>-0.807838</td>\n",
       "      <td>1.760814</td>\n",
       "      <td>0.801323</td>\n",
       "      <td>0.480477</td>\n",
       "      <td>-0.210531</td>\n",
       "      <td>0.868886</td>\n",
       "    </tr>\n",
       "    <tr>\n",
       "      <th>1</th>\n",
       "      <td>phon_R01_S01_2</td>\n",
       "      <td>1</td>\n",
       "      <td>-0.770972</td>\n",
       "      <td>-0.530974</td>\n",
       "      <td>-0.057721</td>\n",
       "      <td>0.715418</td>\n",
       "      <td>1.037674</td>\n",
       "      <td>0.453892</td>\n",
       "      <td>1.276809</td>\n",
       "      <td>0.452684</td>\n",
       "      <td>...</td>\n",
       "      <td>1.159454</td>\n",
       "      <td>1.548254</td>\n",
       "      <td>-0.137843</td>\n",
       "      <td>-0.634508</td>\n",
       "      <td>-0.387524</td>\n",
       "      <td>1.837562</td>\n",
       "      <td>1.479853</td>\n",
       "      <td>1.311185</td>\n",
       "      <td>0.275077</td>\n",
       "      <td>1.803605</td>\n",
       "    </tr>\n",
       "    <tr>\n",
       "      <th>2</th>\n",
       "      <td>phon_R01_S01_3</td>\n",
       "      <td>1</td>\n",
       "      <td>-0.909476</td>\n",
       "      <td>-0.723168</td>\n",
       "      <td>-0.109875</td>\n",
       "      <td>0.884991</td>\n",
       "      <td>1.325589</td>\n",
       "      <td>0.720770</td>\n",
       "      <td>1.585687</td>\n",
       "      <td>0.721813</td>\n",
       "      <td>...</td>\n",
       "      <td>0.699187</td>\n",
       "      <td>1.175323</td>\n",
       "      <td>-0.291633</td>\n",
       "      <td>-0.279760</td>\n",
       "      <td>-0.662075</td>\n",
       "      <td>1.942048</td>\n",
       "      <td>1.141445</td>\n",
       "      <td>1.017682</td>\n",
       "      <td>-0.103629</td>\n",
       "      <td>1.402661</td>\n",
       "    </tr>\n",
       "    <tr>\n",
       "      <th>3</th>\n",
       "      <td>phon_R01_S01_4</td>\n",
       "      <td>1</td>\n",
       "      <td>-0.909622</td>\n",
       "      <td>-0.649092</td>\n",
       "      <td>-0.114229</td>\n",
       "      <td>0.775389</td>\n",
       "      <td>1.325589</td>\n",
       "      <td>0.578885</td>\n",
       "      <td>1.284076</td>\n",
       "      <td>0.577677</td>\n",
       "      <td>...</td>\n",
       "      <td>0.806859</td>\n",
       "      <td>1.340229</td>\n",
       "      <td>-0.280719</td>\n",
       "      <td>-0.281346</td>\n",
       "      <td>-0.613134</td>\n",
       "      <td>1.832380</td>\n",
       "      <td>1.440945</td>\n",
       "      <td>1.293840</td>\n",
       "      <td>0.062145</td>\n",
       "      <td>1.806954</td>\n",
       "    </tr>\n",
       "    <tr>\n",
       "      <th>4</th>\n",
       "      <td>phon_R01_S01_5</td>\n",
       "      <td>1</td>\n",
       "      <td>-0.925657</td>\n",
       "      <td>-0.606245</td>\n",
       "      <td>-0.130608</td>\n",
       "      <td>1.368893</td>\n",
       "      <td>1.901418</td>\n",
       "      <td>1.095750</td>\n",
       "      <td>2.047187</td>\n",
       "      <td>1.096793</td>\n",
       "      <td>...</td>\n",
       "      <td>1.216839</td>\n",
       "      <td>1.899461</td>\n",
       "      <td>-0.178026</td>\n",
       "      <td>-0.506745</td>\n",
       "      <td>-0.783021</td>\n",
       "      <td>1.909364</td>\n",
       "      <td>1.780940</td>\n",
       "      <td>0.096195</td>\n",
       "      <td>-0.130026</td>\n",
       "      <td>2.267082</td>\n",
       "    </tr>\n",
       "    <tr>\n",
       "      <th>...</th>\n",
       "      <td>...</td>\n",
       "      <td>...</td>\n",
       "      <td>...</td>\n",
       "      <td>...</td>\n",
       "      <td>...</td>\n",
       "      <td>...</td>\n",
       "      <td>...</td>\n",
       "      <td>...</td>\n",
       "      <td>...</td>\n",
       "      <td>...</td>\n",
       "      <td>...</td>\n",
       "      <td>...</td>\n",
       "      <td>...</td>\n",
       "      <td>...</td>\n",
       "      <td>...</td>\n",
       "      <td>...</td>\n",
       "      <td>...</td>\n",
       "      <td>...</td>\n",
       "      <td>...</td>\n",
       "      <td>...</td>\n",
       "      <td>...</td>\n",
       "    </tr>\n",
       "    <tr>\n",
       "      <th>190</th>\n",
       "      <td>phon_R01_S50_2</td>\n",
       "      <td>0</td>\n",
       "      <td>0.483467</td>\n",
       "      <td>0.371185</td>\n",
       "      <td>-0.508265</td>\n",
       "      <td>-0.337173</td>\n",
       "      <td>-0.401899</td>\n",
       "      <td>-0.228505</td>\n",
       "      <td>-0.311189</td>\n",
       "      <td>-0.227459</td>\n",
       "      <td>...</td>\n",
       "      <td>0.199282</td>\n",
       "      <td>0.759930</td>\n",
       "      <td>0.069278</td>\n",
       "      <td>-0.536647</td>\n",
       "      <td>-0.483208</td>\n",
       "      <td>-1.090704</td>\n",
       "      <td>-0.785527</td>\n",
       "      <td>-1.256837</td>\n",
       "      <td>0.721944</td>\n",
       "      <td>-0.817703</td>\n",
       "    </tr>\n",
       "    <tr>\n",
       "      <th>191</th>\n",
       "      <td>phon_R01_S50_3</td>\n",
       "      <td>0</td>\n",
       "      <td>1.339202</td>\n",
       "      <td>0.612690</td>\n",
       "      <td>-0.618218</td>\n",
       "      <td>-0.120037</td>\n",
       "      <td>-0.401899</td>\n",
       "      <td>0.001213</td>\n",
       "      <td>-0.191272</td>\n",
       "      <td>0.002258</td>\n",
       "      <td>...</td>\n",
       "      <td>-0.313046</td>\n",
       "      <td>0.037108</td>\n",
       "      <td>-0.167360</td>\n",
       "      <td>-0.620463</td>\n",
       "      <td>-0.644916</td>\n",
       "      <td>-0.631503</td>\n",
       "      <td>-0.469859</td>\n",
       "      <td>-1.168475</td>\n",
       "      <td>1.054135</td>\n",
       "      <td>-0.418929</td>\n",
       "    </tr>\n",
       "    <tr>\n",
       "      <th>192</th>\n",
       "      <td>phon_R01_S50_4</td>\n",
       "      <td>0</td>\n",
       "      <td>0.495578</td>\n",
       "      <td>0.470104</td>\n",
       "      <td>-0.968393</td>\n",
       "      <td>1.526058</td>\n",
       "      <td>1.037674</td>\n",
       "      <td>0.991026</td>\n",
       "      <td>0.797139</td>\n",
       "      <td>0.992069</td>\n",
       "      <td>...</td>\n",
       "      <td>-0.438466</td>\n",
       "      <td>-0.294679</td>\n",
       "      <td>2.041513</td>\n",
       "      <td>-0.906799</td>\n",
       "      <td>-0.877441</td>\n",
       "      <td>-1.130853</td>\n",
       "      <td>-1.014154</td>\n",
       "      <td>-0.818079</td>\n",
       "      <td>0.780338</td>\n",
       "      <td>-0.832410</td>\n",
       "    </tr>\n",
       "    <tr>\n",
       "      <th>193</th>\n",
       "      <td>phon_R01_S50_5</td>\n",
       "      <td>0</td>\n",
       "      <td>1.078761</td>\n",
       "      <td>2.190044</td>\n",
       "      <td>-0.954180</td>\n",
       "      <td>0.243924</td>\n",
       "      <td>-0.113985</td>\n",
       "      <td>0.132963</td>\n",
       "      <td>0.164847</td>\n",
       "      <td>0.131755</td>\n",
       "      <td>...</td>\n",
       "      <td>-0.485202</td>\n",
       "      <td>-0.297970</td>\n",
       "      <td>1.175327</td>\n",
       "      <td>-0.649233</td>\n",
       "      <td>-0.456374</td>\n",
       "      <td>-1.343323</td>\n",
       "      <td>-0.974960</td>\n",
       "      <td>-0.229066</td>\n",
       "      <td>-0.637003</td>\n",
       "      <td>-0.926105</td>\n",
       "    </tr>\n",
       "    <tr>\n",
       "      <th>194</th>\n",
       "      <td>phon_R01_S50_6</td>\n",
       "      <td>0</td>\n",
       "      <td>1.454817</td>\n",
       "      <td>0.692246</td>\n",
       "      <td>-0.883481</td>\n",
       "      <td>-0.113833</td>\n",
       "      <td>-0.401899</td>\n",
       "      <td>-0.120403</td>\n",
       "      <td>-0.100425</td>\n",
       "      <td>-0.120483</td>\n",
       "      <td>...</td>\n",
       "      <td>-0.612397</td>\n",
       "      <td>-0.533645</td>\n",
       "      <td>0.474590</td>\n",
       "      <td>-0.153356</td>\n",
       "      <td>-0.344660</td>\n",
       "      <td>-0.973698</td>\n",
       "      <td>-0.036471</td>\n",
       "      <td>-0.430853</td>\n",
       "      <td>0.454802</td>\n",
       "      <td>-0.645055</td>\n",
       "    </tr>\n",
       "  </tbody>\n",
       "</table>\n",
       "<p>195 rows × 24 columns</p>\n",
       "</div>"
      ],
      "text/plain": [
       "               name  status  MDVP:Fo(Hz)  MDVP:Fhi(Hz)  MDVP:Flo(Hz)  \\\n",
       "0    phon_R01_S01_1       1    -0.829300     -0.436165     -0.952037   \n",
       "1    phon_R01_S01_2       1    -0.770972     -0.530974     -0.057721   \n",
       "2    phon_R01_S01_3       1    -0.909476     -0.723168     -0.109875   \n",
       "3    phon_R01_S01_4       1    -0.909622     -0.649092     -0.114229   \n",
       "4    phon_R01_S01_5       1    -0.925657     -0.606245     -0.130608   \n",
       "..              ...     ...          ...           ...           ...   \n",
       "190  phon_R01_S50_2       0     0.483467      0.371185     -0.508265   \n",
       "191  phon_R01_S50_3       0     1.339202      0.612690     -0.618218   \n",
       "192  phon_R01_S50_4       0     0.495578      0.470104     -0.968393   \n",
       "193  phon_R01_S50_5       0     1.078761      2.190044     -0.954180   \n",
       "194  phon_R01_S50_6       0     1.454817      0.692246     -0.883481   \n",
       "\n",
       "     MDVP:Jitter(%)  MDVP:Jitter(Abs)  MDVP:RAP  MDVP:PPQ  Jitter:DDP  ...  \\\n",
       "0          0.334914          0.749759  0.132963  0.760800    0.131755  ...   \n",
       "1          0.715418          1.037674  0.453892  1.276809    0.452684  ...   \n",
       "2          0.884991          1.325589  0.720770  1.585687    0.721813  ...   \n",
       "3          0.775389          1.325589  0.578885  1.284076    0.577677  ...   \n",
       "4          1.368893          1.901418  1.095750  2.047187    1.096793  ...   \n",
       "..              ...               ...       ...       ...         ...  ...   \n",
       "190       -0.337173         -0.401899 -0.228505 -0.311189   -0.227459  ...   \n",
       "191       -0.120037         -0.401899  0.001213 -0.191272    0.002258  ...   \n",
       "192        1.526058          1.037674  0.991026  0.797139    0.992069  ...   \n",
       "193        0.243924         -0.113985  0.132963  0.164847    0.131755  ...   \n",
       "194       -0.113833         -0.401899 -0.120403 -0.100425   -0.120483  ...   \n",
       "\n",
       "     MDVP:APQ  Shimmer:DDA       NHR       HNR      RPDE       DFA   spread1  \\\n",
       "0    0.332985     0.607532 -0.067893 -0.193225 -0.807838  1.760814  0.801323   \n",
       "1    1.159454     1.548254 -0.137843 -0.634508 -0.387524  1.837562  1.479853   \n",
       "2    0.699187     1.175323 -0.291633 -0.279760 -0.662075  1.942048  1.141445   \n",
       "3    0.806859     1.340229 -0.280719 -0.281346 -0.613134  1.832380  1.440945   \n",
       "4    1.216839     1.899461 -0.178026 -0.506745 -0.783021  1.909364  1.780940   \n",
       "..        ...          ...       ...       ...       ...       ...       ...   \n",
       "190  0.199282     0.759930  0.069278 -0.536647 -0.483208 -1.090704 -0.785527   \n",
       "191 -0.313046     0.037108 -0.167360 -0.620463 -0.644916 -0.631503 -0.469859   \n",
       "192 -0.438466    -0.294679  2.041513 -0.906799 -0.877441 -1.130853 -1.014154   \n",
       "193 -0.485202    -0.297970  1.175327 -0.649233 -0.456374 -1.343323 -0.974960   \n",
       "194 -0.612397    -0.533645  0.474590 -0.153356 -0.344660 -0.973698 -0.036471   \n",
       "\n",
       "      spread2        D2       PPE  \n",
       "0    0.480477 -0.210531  0.868886  \n",
       "1    1.311185  0.275077  1.803605  \n",
       "2    1.017682 -0.103629  1.402661  \n",
       "3    1.293840  0.062145  1.806954  \n",
       "4    0.096195 -0.130026  2.267082  \n",
       "..        ...       ...       ...  \n",
       "190 -1.256837  0.721944 -0.817703  \n",
       "191 -1.168475  1.054135 -0.418929  \n",
       "192 -0.818079  0.780338 -0.832410  \n",
       "193 -0.229066 -0.637003 -0.926105  \n",
       "194 -0.430853  0.454802 -0.645055  \n",
       "\n",
       "[195 rows x 24 columns]"
      ]
     },
     "execution_count": 87,
     "metadata": {},
     "output_type": "execute_result"
    }
   ],
   "source": [
    "data = pd.read_csv('Parkinson.csv')\n",
    "data"
   ]
  },
  {
   "cell_type": "code",
   "execution_count": 92,
   "metadata": {},
   "outputs": [
    {
     "data": {
      "text/html": [
       "<div>\n",
       "<style scoped>\n",
       "    .dataframe tbody tr th:only-of-type {\n",
       "        vertical-align: middle;\n",
       "    }\n",
       "\n",
       "    .dataframe tbody tr th {\n",
       "        vertical-align: top;\n",
       "    }\n",
       "\n",
       "    .dataframe thead th {\n",
       "        text-align: right;\n",
       "    }\n",
       "</style>\n",
       "<table border=\"1\" class=\"dataframe\">\n",
       "  <thead>\n",
       "    <tr style=\"text-align: right;\">\n",
       "      <th></th>\n",
       "      <th>name</th>\n",
       "      <th>status</th>\n",
       "      <th>MDVP:Fo(Hz)</th>\n",
       "      <th>MDVP:Fhi(Hz)</th>\n",
       "      <th>MDVP:Flo(Hz)</th>\n",
       "      <th>MDVP:Jitter(%)</th>\n",
       "      <th>MDVP:Jitter(Abs)</th>\n",
       "      <th>MDVP:RAP</th>\n",
       "      <th>MDVP:PPQ</th>\n",
       "      <th>Jitter:DDP</th>\n",
       "      <th>...</th>\n",
       "      <th>MDVP:APQ</th>\n",
       "      <th>Shimmer:DDA</th>\n",
       "      <th>NHR</th>\n",
       "      <th>HNR</th>\n",
       "      <th>RPDE</th>\n",
       "      <th>DFA</th>\n",
       "      <th>spread1</th>\n",
       "      <th>spread2</th>\n",
       "      <th>D2</th>\n",
       "      <th>PPE</th>\n",
       "    </tr>\n",
       "  </thead>\n",
       "  <tbody>\n",
       "    <tr>\n",
       "      <th>30</th>\n",
       "      <td>phon_R01_S07_1</td>\n",
       "      <td>0</td>\n",
       "      <td>1.037873</td>\n",
       "      <td>0.107292</td>\n",
       "      <td>1.744550</td>\n",
       "      <td>-0.688726</td>\n",
       "      <td>-0.977729</td>\n",
       "      <td>-0.556191</td>\n",
       "      <td>-0.641870</td>\n",
       "      <td>-0.556270</td>\n",
       "      <td>...</td>\n",
       "      <td>-0.950202</td>\n",
       "      <td>-0.990840</td>\n",
       "      <td>-0.532240</td>\n",
       "      <td>1.107517</td>\n",
       "      <td>-0.736018</td>\n",
       "      <td>0.421569</td>\n",
       "      <td>-1.530154</td>\n",
       "      <td>-0.588513</td>\n",
       "      <td>-1.670854</td>\n",
       "      <td>-1.345927</td>\n",
       "    </tr>\n",
       "    <tr>\n",
       "      <th>96</th>\n",
       "      <td>phon_R01_S22_6</td>\n",
       "      <td>1</td>\n",
       "      <td>0.118384</td>\n",
       "      <td>-0.308930</td>\n",
       "      <td>0.656222</td>\n",
       "      <td>-0.579124</td>\n",
       "      <td>-0.689814</td>\n",
       "      <td>-0.515652</td>\n",
       "      <td>-0.583729</td>\n",
       "      <td>-0.514606</td>\n",
       "      <td>...</td>\n",
       "      <td>0.237145</td>\n",
       "      <td>0.236246</td>\n",
       "      <td>-0.404991</td>\n",
       "      <td>0.176021</td>\n",
       "      <td>-1.275204</td>\n",
       "      <td>-0.446972</td>\n",
       "      <td>-0.674119</td>\n",
       "      <td>-0.383252</td>\n",
       "      <td>0.239416</td>\n",
       "      <td>-0.610122</td>\n",
       "    </tr>\n",
       "    <tr>\n",
       "      <th>0</th>\n",
       "      <td>phon_R01_S01_1</td>\n",
       "      <td>1</td>\n",
       "      <td>-0.829300</td>\n",
       "      <td>-0.436165</td>\n",
       "      <td>-0.952037</td>\n",
       "      <td>0.334914</td>\n",
       "      <td>0.749759</td>\n",
       "      <td>0.132963</td>\n",
       "      <td>0.760800</td>\n",
       "      <td>0.131755</td>\n",
       "      <td>...</td>\n",
       "      <td>0.332985</td>\n",
       "      <td>0.607532</td>\n",
       "      <td>-0.067893</td>\n",
       "      <td>-0.193225</td>\n",
       "      <td>-0.807838</td>\n",
       "      <td>1.760814</td>\n",
       "      <td>0.801323</td>\n",
       "      <td>0.480477</td>\n",
       "      <td>-0.210531</td>\n",
       "      <td>0.868886</td>\n",
       "    </tr>\n",
       "    <tr>\n",
       "      <th>187</th>\n",
       "      <td>phon_R01_S49_5</td>\n",
       "      <td>0</td>\n",
       "      <td>-0.917712</td>\n",
       "      <td>4.209930</td>\n",
       "      <td>-0.508611</td>\n",
       "      <td>-0.734221</td>\n",
       "      <td>-0.689814</td>\n",
       "      <td>-0.728479</td>\n",
       "      <td>-0.714548</td>\n",
       "      <td>-0.728558</td>\n",
       "      <td>...</td>\n",
       "      <td>-0.747874</td>\n",
       "      <td>-0.924021</td>\n",
       "      <td>-0.447655</td>\n",
       "      <td>0.710634</td>\n",
       "      <td>0.288879</td>\n",
       "      <td>-0.982268</td>\n",
       "      <td>-0.620393</td>\n",
       "      <td>-1.320738</td>\n",
       "      <td>-0.601711</td>\n",
       "      <td>-0.752978</td>\n",
       "    </tr>\n",
       "    <tr>\n",
       "      <th>89</th>\n",
       "      <td>phon_R01_S21_6</td>\n",
       "      <td>1</td>\n",
       "      <td>0.617248</td>\n",
       "      <td>0.315868</td>\n",
       "      <td>0.657765</td>\n",
       "      <td>0.179817</td>\n",
       "      <td>-0.113985</td>\n",
       "      <td>0.203905</td>\n",
       "      <td>0.270229</td>\n",
       "      <td>0.202697</td>\n",
       "      <td>...</td>\n",
       "      <td>0.619320</td>\n",
       "      <td>0.721749</td>\n",
       "      <td>1.175327</td>\n",
       "      <td>-2.269838</td>\n",
       "      <td>0.891397</td>\n",
       "      <td>0.496921</td>\n",
       "      <td>1.200088</td>\n",
       "      <td>1.791294</td>\n",
       "      <td>3.376831</td>\n",
       "      <td>1.396565</td>\n",
       "    </tr>\n",
       "  </tbody>\n",
       "</table>\n",
       "<p>5 rows × 24 columns</p>\n",
       "</div>"
      ],
      "text/plain": [
       "               name  status  MDVP:Fo(Hz)  MDVP:Fhi(Hz)  MDVP:Flo(Hz)  \\\n",
       "30   phon_R01_S07_1       0     1.037873      0.107292      1.744550   \n",
       "96   phon_R01_S22_6       1     0.118384     -0.308930      0.656222   \n",
       "0    phon_R01_S01_1       1    -0.829300     -0.436165     -0.952037   \n",
       "187  phon_R01_S49_5       0    -0.917712      4.209930     -0.508611   \n",
       "89   phon_R01_S21_6       1     0.617248      0.315868      0.657765   \n",
       "\n",
       "     MDVP:Jitter(%)  MDVP:Jitter(Abs)  MDVP:RAP  MDVP:PPQ  Jitter:DDP  ...  \\\n",
       "30        -0.688726         -0.977729 -0.556191 -0.641870   -0.556270  ...   \n",
       "96        -0.579124         -0.689814 -0.515652 -0.583729   -0.514606  ...   \n",
       "0          0.334914          0.749759  0.132963  0.760800    0.131755  ...   \n",
       "187       -0.734221         -0.689814 -0.728479 -0.714548   -0.728558  ...   \n",
       "89         0.179817         -0.113985  0.203905  0.270229    0.202697  ...   \n",
       "\n",
       "     MDVP:APQ  Shimmer:DDA       NHR       HNR      RPDE       DFA   spread1  \\\n",
       "30  -0.950202    -0.990840 -0.532240  1.107517 -0.736018  0.421569 -1.530154   \n",
       "96   0.237145     0.236246 -0.404991  0.176021 -1.275204 -0.446972 -0.674119   \n",
       "0    0.332985     0.607532 -0.067893 -0.193225 -0.807838  1.760814  0.801323   \n",
       "187 -0.747874    -0.924021 -0.447655  0.710634  0.288879 -0.982268 -0.620393   \n",
       "89   0.619320     0.721749  1.175327 -2.269838  0.891397  0.496921  1.200088   \n",
       "\n",
       "      spread2        D2       PPE  \n",
       "30  -0.588513 -1.670854 -1.345927  \n",
       "96  -0.383252  0.239416 -0.610122  \n",
       "0    0.480477 -0.210531  0.868886  \n",
       "187 -1.320738 -0.601711 -0.752978  \n",
       "89   1.791294  3.376831  1.396565  \n",
       "\n",
       "[5 rows x 24 columns]"
      ]
     },
     "execution_count": 92,
     "metadata": {},
     "output_type": "execute_result"
    }
   ],
   "source": [
    "# 결측치 제거 행으로\n",
    "# 문제 데이터 train /test 데이터로 분활하시오\n",
    "\n",
    "data.dropna(axis=1)\n",
    "train_data , test_data = train_test_split(data, test_size=0.2) # 8;2\n",
    "train_data.head()\n",
    "\n"
   ]
  },
  {
   "cell_type": "code",
   "execution_count": 93,
   "metadata": {},
   "outputs": [],
   "source": [
    "# train_data : status 비율 확인 () # Series"
   ]
  },
  {
   "cell_type": "code",
   "execution_count": null,
   "metadata": {},
   "outputs": [],
   "source": [
    "# 도수분포표 : value_counts()"
   ]
  },
  {
   "cell_type": "code",
   "execution_count": 95,
   "metadata": {},
   "outputs": [
    {
     "data": {
      "text/plain": [
       "1    29\n",
       "0    10\n",
       "Name: status, dtype: int64"
      ]
     },
     "execution_count": 95,
     "metadata": {},
     "output_type": "execute_result"
    }
   ],
   "source": [
    "train_data['status'].value_counts()\n",
    "test_data['status'].value_counts()"
   ]
  },
  {
   "cell_type": "code",
   "execution_count": null,
   "metadata": {},
   "outputs": [],
   "source": [
    "# 전처리 \n",
    "- 결측치 : dropna , fillna , Simplemputer(mean,median) > 열의 평균, 열의 중간숫자 , KNNlmputer(내적이 가까운 값 > 실제값에 가까운값)\n",
    "- 이상치 : boxplot + filter , z -score \n",
    "- 범주화 : LabelEncoder , Binarizer , 0neHotEncoder , DictVectorize\n",
    "- 정규화 : StandardScaler(z 점수 정규화) , Normalizer(방향값)\n",
    "            -MinMaxScaler , RobustScaler\n",
    "        +\n",
    "- 시각화 : 2,3 100개가 있는 경우 > 특성추출 (2,3 개로 줄여서)\n",
    "    -PCA (priciple component analysis) : 주성분분석 - 분석에 사용이 가능         \n",
    "        - 고유값 분해 > 고유값과 고유벡터  100개의 데이터가 모두참여하기 때문\n",
    "        - 상관계수로 부터 나오기 때문에 중요한 데이터부터 나오게됨\n",
    "    -MDS (multi dimmension scale) 다차원 척도법 - 불가능\n",
    "        - 행렬연산 50 x 100 , 100 x 3(임의의 숫자로 결정) > 50x3\n",
    "        \n",
    "    "
   ]
  },
  {
   "cell_type": "code",
   "execution_count": 96,
   "metadata": {},
   "outputs": [
    {
     "data": {
      "image/png": "[encoded data removed]",
      "text/plain": [
       "<Figure size 1080x576 with 5 Axes>"
      ]
     },
     "metadata": {
      "needs_background": "light"
     },
     "output_type": "display_data"
    }
   ],
   "source": [
    "import mglearn\n",
    "mglearn.plots.plot_scaling()\n",
    "# Z 점수 = 데이타 = 평균"
   ]
  },
  {
   "cell_type": "code",
   "execution_count": null,
   "metadata": {},
   "outputs": [],
   "source": [
    "# h : horizontal 수평으로 , v: vertical 수직으로"
   ]
  },
  {
   "cell_type": "code",
   "execution_count": 100,
   "metadata": {},
   "outputs": [
    {
     "name": "stdout",
     "output_type": "stream",
     "text": [
      "[-3. -2. -1.  0.  1.  2.  3.  4.  5.  6.]\n"
     ]
    },
    {
     "data": {
      "text/plain": [
       "<matplotlib.axes._subplots.AxesSubplot at 0x1e79de602e0>"
      ]
     },
     "execution_count": 100,
     "metadata": {},
     "output_type": "execute_result"
    },
    {
     "data": {
      "image/png": "[encoded data removed]",
      "text/plain": [
       "<Figure size 432x288 with 1 Axes>"
      ]
     },
     "metadata": {
      "needs_background": "light"
     },
     "output_type": "display_data"
    }
   ],
   "source": [
    "from sklearn.preprocessing import scale, robust_scale, minmax_scale, maxabs_scale\n",
    "print((np.arange(10, dtype=np.float)-3))\n",
    "x = (np.arange(10, dtype=np.float) - 3).reshape(-1,1)\n",
    "df = pd.DataFrame(np.hstack([x, scale(x), robust_scale(x), minmax_scale(x),maxabs_scale(x)]),\n",
    "                 columns=[\"x\",\"scale(x)\",\"robust_scale(x)\",\"minmax_scale(x)\",\"maxabs_scale(x)\"])\n",
    "df.plot()"
   ]
  },
  {
   "cell_type": "code",
   "execution_count": 109,
   "metadata": {},
   "outputs": [
    {
     "name": "stdout",
     "output_type": "stream",
     "text": [
      "전처리전 평균: [5.84333333 3.05733333 3.758      1.19933333]\n",
      "전처리전 std: [0.82530129 0.43441097 1.75940407 0.75969263]\n",
      "전처리후 평균: [-1.69031455e-15 -1.84297022e-15 -1.69864123e-15 -1.40924309e-15]\n",
      "전처리후 std: [-1.69031455e-15 -1.84297022e-15 -1.69864123e-15 -1.40924309e-15]\n"
     ]
    },
    {
     "data": {
      "image/png": "[encoded data removed]",
      "text/plain": [
       "<Figure size 432x432 with 3 Axes>"
      ]
     },
     "metadata": {
      "needs_background": "light"
     },
     "output_type": "display_data"
    },
    {
     "data": {
      "image/png": "[encoded data removed]",
      "text/plain": [
       "<Figure size 432x432 with 3 Axes>"
      ]
     },
     "metadata": {
      "needs_background": "light"
     },
     "output_type": "display_data"
    }
   ],
   "source": [
    "import seaborn as sns\n",
    "from sklearn.datasets import load_iris\n",
    "iris = load_iris() # 150 x 4 (Sepal_Length , Sepal_width, petal_Length)\n",
    "\n",
    "data1 = iris.data\n",
    "data2 = scale(iris.data)\n",
    "print(\"전처리전 평균:\", np.mean(data1, axis=0)) # 열평균\n",
    "print(\"전처리전 std:\", np.std(data1, axis=0))\n",
    "print(\"전처리후 평균:\", np.mean(data2, axis=0))\n",
    "print(\"전처리후 std:\", np.mean(data2, axis=0))\n",
    "\n",
    "sns.jointplot(data1[:,0], data1[:,1])\n",
    "plt.show()\n",
    "\n",
    "sns.jointplot(data2[:,0], data2[:,1])\n",
    "plt.show()"
   ]
  },
  {
   "cell_type": "code",
   "execution_count": 110,
   "metadata": {},
   "outputs": [
    {
     "data": {
      "text/plain": [
       "array([[ 0.40824829, -0.40824829,  0.81649658],\n",
       "       [ 1.        ,  0.        ,  0.        ],\n",
       "       [ 0.        ,  0.70710678, -0.70710678]])"
      ]
     },
     "execution_count": 110,
     "metadata": {},
     "output_type": "execute_result"
    }
   ],
   "source": [
    "from sklearn import preprocessing\n",
    "X = [[ 1. , -1., 2.],\n",
    "    [2., 0., 0,],\n",
    "    [0., 1., -1.]]\n",
    "# 방향값으로 표현\n",
    "\n",
    "X_normalized = preprocessing.normalize(X, norm='l2') # 피타고라스 생성된 크기값으로 정규화\n",
    "X_normalized"
   ]
  },
  {
   "cell_type": "code",
   "execution_count": 111,
   "metadata": {},
   "outputs": [
    {
     "data": {
      "text/plain": [
       "array([[0, 1],\n",
       "       [2, 3],\n",
       "       [4, 5]])"
      ]
     },
     "execution_count": 111,
     "metadata": {},
     "output_type": "execute_result"
    }
   ],
   "source": [
    "from sklearn.preprocessing import PolynomialFeatures\n",
    "X =np.arange(6).reshape(3,2)\n",
    "X"
   ]
  },
  {
   "cell_type": "code",
   "execution_count": 114,
   "metadata": {},
   "outputs": [
    {
     "data": {
      "text/plain": [
       "array([[ 1.,  0.,  1.,  0.,  0.,  1.],\n",
       "       [ 1.,  2.,  3.,  4.,  6.,  9.],\n",
       "       [ 1.,  4.,  5., 16., 20., 25.]])"
      ]
     },
     "execution_count": 114,
     "metadata": {},
     "output_type": "execute_result"
    }
   ],
   "source": [
    "poly = PolynomialFeatures(2) # [1, a,b,a^2, ab, b^2] > 2차원 > 회귀 (비선형회귀)\n",
    "poly.fit_transform(X)"
   ]
  },
  {
   "cell_type": "code",
   "execution_count": 117,
   "metadata": {},
   "outputs": [
    {
     "name": "stdout",
     "output_type": "stream",
     "text": [
      "[[ 7.   2.   3. ]\n",
      " [ 4.   3.5  6. ]\n",
      " [10.   3.5  9. ]]\n"
     ]
    }
   ],
   "source": [
    "from sklearn.impute import SimpleImputer\n",
    "imp_mean = SimpleImputer(missing_values=np.nan,strategy='mean') # median, most_frequency(최빈수)\n",
    "imp_mean.fit([[7,2,3],[4,np.nan,6],[10,5,9]])\n",
    "X = [[np.nan,2,3],[4,np.nan,6],[10,np.nan,9]]\n",
    "print(imp_mean.transform(X))\n",
    "\n"
   ]
  },
  {
   "cell_type": "code",
   "execution_count": 120,
   "metadata": {},
   "outputs": [
    {
     "data": {
      "text/plain": [
       "array([[1. , 2. , 4. ],\n",
       "       [3. , 4. , 3. ],\n",
       "       [5.5, 6. , 5. ],\n",
       "       [8. , 8. , 7. ]])"
      ]
     },
     "execution_count": 120,
     "metadata": {},
     "output_type": "execute_result"
    }
   ],
   "source": [
    "from sklearn.impute import KNNImputer\n",
    "X = [[1,2,np.nan],[3,4,3],[np.nan,6,5],[8,8,7]]\n",
    "imputer = KNNImputer(n_neighbors= 2 ) #k개 nearset neighbor\n",
    "imputer.fit_transform(X)\n",
    "X"
   ]
  },
  {
   "cell_type": "code",
   "execution_count": null,
   "metadata": {},
   "outputs": [],
   "source": [
    "# 사분위수를 이용한 이상치 제거 `"
   ]
  },
  {
   "cell_type": "code",
   "execution_count": 132,
   "metadata": {},
   "outputs": [
    {
     "name": "stdout",
     "output_type": "stream",
     "text": [
      "[10, 10, 10, 10, 10, 10, 11, 11, 12, 12, 12, 12, 12, 12, 12, 12, 13, 13, 13, 13, 14, 14, 15, 15, 100]\n",
      "8.0\n",
      "16.0\n",
      "[False False False False False False False False False False False False\n",
      " False False False False False False False False False False False False\n",
      " False]\n",
      "[False False False False False False False False False False False False\n",
      " False False False False False False False False False False False False\n",
      "  True]\n"
     ]
    },
    {
     "data": {
      "text/plain": [
       "array([10, 10, 10, 10, 10, 10, 11, 11, 12, 12, 12, 12, 12, 12, 12, 12, 13,\n",
       "       13, 13, 13, 14, 14, 15, 15])"
      ]
     },
     "execution_count": 132,
     "metadata": {},
     "output_type": "execute_result"
    }
   ],
   "source": [
    "from sklearn.datasets import load_boston\n",
    "dataset=[10,12,12,13,12,11,14,13,15,10,10,10,100,12,14,13,12,10,10,11,12,15,12,13,12]\n",
    "dataset = sorted(dataset)\n",
    "print(dataset)\n",
    "\n",
    "q1,q3 = np.percentile(dataset,[25,75])\n",
    "iqr = q3 -q1 # inter quntile range 3 사분위수 - 1사분위수\n",
    "\n",
    "lower_bound = q1 -(1.5 * iqr) # 이상치 하한선\n",
    "upper_bound = q3 +(1.5 * iqr) # 이상치 상한선\n",
    "print(lower_bound)\n",
    "print(upper_bound)\n",
    "print(dataset < lower_bound)\n",
    "print(dataset > upper_bound)\n",
    "# 에러나는것을 수정하시오\n",
    "dataset = np.array(dataset)\n",
    "dataset[dataset < upper_bound] # boolean indexing : numpy pandas"
   ]
  },
  {
   "cell_type": "code",
   "execution_count": 166,
   "metadata": {},
   "outputs": [
    {
     "data": {
      "text/plain": [
       "[array(['evel', 'lion', 'tiger'], dtype='<U5')]"
      ]
     },
     "execution_count": 166,
     "metadata": {},
     "output_type": "execute_result"
    }
   ],
   "source": [
    "from sklearn.preprocessing import OneHotEncoder\n",
    "ohe = OneHotEncoder()\n",
    "x =np.array([[0],[1],[2]])\n",
    "x \n",
    "ohe.fit(x)\n",
    "ohe.categories_"
   ]
  },
  {
   "cell_type": "code",
   "execution_count": 167,
   "metadata": {},
   "outputs": [
    {
     "name": "stdout",
     "output_type": "stream",
     "text": [
      "  (0, 2)\t1.0\n",
      "  (1, 1)\t1.0\n",
      "  (2, 0)\t1.0\n"
     ]
    }
   ],
   "source": [
    "print(ohe.transform(x))"
   ]
  },
  {
   "cell_type": "code",
   "execution_count": 168,
   "metadata": {},
   "outputs": [
    {
     "name": "stdout",
     "output_type": "stream",
     "text": [
      "[[0. 0. 1.]\n",
      " [0. 1. 0.]\n",
      " [1. 0. 0.]]\n"
     ]
    }
   ],
   "source": [
    "print(ohe.transform(x).toarray())"
   ]
  },
  {
   "cell_type": "code",
   "execution_count": 154,
   "metadata": {},
   "outputs": [
    {
     "name": "stdout",
     "output_type": "stream",
     "text": [
      "[array([0, 1]), array([0, 1, 2]), array([0, 1, 2, 3, 4])]\n",
      "[[1. 0. 1. 0. 0. 0. 0. 0. 0. 1.]\n",
      " [0. 1. 0. 1. 0. 1. 0. 0. 0. 0.]\n",
      " [1. 0. 0. 0. 1. 0. 1. 0. 0. 0.]\n",
      " [0. 1. 1. 0. 0. 0. 0. 1. 0. 0.]\n",
      " [0. 1. 0. 1. 0. 0. 0. 0. 1. 0.]]\n"
     ]
    }
   ],
   "source": [
    "#문제  원핫 인코딩\n",
    "y = np.array([[0,0,4],[1,1,0],[0,2,1],[1,0,2],[1,1,3]])\n",
    "y\n",
    "ohe.fit(y)\n",
    "y\n",
    "print(ohe.categories_) #[array([0, 1]), array([0, 1, 2]), array([0, 1, 2, 3, 4])]   2 + 3 + 5\n",
    "\n",
    "ohe.transform(y)\n",
    "print(ohe.transform(y).toarray())\n",
    "\n",
    "\n"
   ]
  },
  {
   "cell_type": "code",
   "execution_count": 177,
   "metadata": {},
   "outputs": [
    {
     "data": {
      "text/plain": [
       "array([1, 2, 6])"
      ]
     },
     "execution_count": 177,
     "metadata": {},
     "output_type": "execute_result"
    }
   ],
   "source": [
    "from sklearn.preprocessing import LabelEncoder # 레이블로 범주화\n",
    "le = LabelEncoder()\n",
    "le.fit([1,2,2,6])\n",
    "le.classes_"
   ]
  },
  {
   "cell_type": "code",
   "execution_count": 159,
   "metadata": {},
   "outputs": [
    {
     "data": {
      "text/plain": [
       "array([0, 0, 1, 2], dtype=int64)"
      ]
     },
     "execution_count": 159,
     "metadata": {},
     "output_type": "execute_result"
    }
   ],
   "source": [
    "le.transform([1,1,2,6])"
   ]
  },
  {
   "cell_type": "code",
   "execution_count": 158,
   "metadata": {},
   "outputs": [
    {
     "data": {
      "text/plain": [
       "array([1, 1, 2, 6])"
      ]
     },
     "execution_count": 158,
     "metadata": {},
     "output_type": "execute_result"
    }
   ],
   "source": [
    "le.inverse_transform([0,0,1,2])"
   ]
  },
  {
   "cell_type": "code",
   "execution_count": 163,
   "metadata": {},
   "outputs": [
    {
     "data": {
      "text/plain": [
       "array([[2., 0., 1.],\n",
       "       [0., 1., 3.]])"
      ]
     },
     "execution_count": 163,
     "metadata": {},
     "output_type": "execute_result"
    }
   ],
   "source": [
    "# Dict 를 벡터로 변환 (범주화)\n",
    "# text mining 할 때 사용\n",
    "# 텍스트으 ㅣ출현횟수\n",
    "# 책을분석 _ 책에 단어 찾고 > 개수를 카운트 \n",
    "# 같이 나타는 단어들\n",
    "from sklearn.feature_extraction import DictVectorizer \n",
    "\n",
    "v = DictVectorizer(sparse = False)\n",
    "D = [{'foo': 1, 'bar': 2}, {'foo':3 , 'baz': 1}]\n",
    "X =v.fit_transform(D)# 학습 > 변형\n",
    "X\n",
    "#array([[2., 0., 1.], key 값으로 범주를 만들고 value는 범주의 순서에 따라 카운팅\n",
    "       [0., 1., 3.]])"
   ]
  },
  {
   "cell_type": "code",
   "execution_count": 164,
   "metadata": {},
   "outputs": [
    {
     "data": {
      "text/plain": [
       "['bar', 'baz', 'foo']"
      ]
     },
     "execution_count": 164,
     "metadata": {},
     "output_type": "execute_result"
    }
   ],
   "source": [
    "v.feature_names_"
   ]
  },
  {
   "cell_type": "code",
   "execution_count": 165,
   "metadata": {},
   "outputs": [
    {
     "data": {
      "text/plain": [
       "[{'bar': 2.0, 'foo': 1.0}, {'baz': 1.0, 'foo': 3.0}]"
      ]
     },
     "execution_count": 165,
     "metadata": {},
     "output_type": "execute_result"
    }
   ],
   "source": [
    "v.inverse_transform(X)"
   ]
  },
  {
   "cell_type": "code",
   "execution_count": null,
   "metadata": {},
   "outputs": [],
   "source": []
  }
 ],
 "metadata": {
  "kernelspec": {
   "display_name": "Python 3",
   "language": "python",
   "name": "python3"
  },
  "language_info": {
   "codemirror_mode": {
    "name": "ipython",
    "version": 3
   },
   "file_extension": ".py",
   "mimetype": "text/x-python",
   "name": "python",
   "nbconvert_exporter": "python",
   "pygments_lexer": "ipython3",
   "version": "3.7.6"
  }
 },
 "nbformat": 4,
 "nbformat_minor": 4
}
