{
 "cells": [
  {
   "cell_type": "code",
   "execution_count": null,
   "metadata": {},
   "outputs": [],
   "source": [
    "# tensorflow 변수의 종류 : constant, variables(가중치), placholder(주입변수)\n",
    "- GPU메모리 영역은 용도가 다름\n",
    "- GPU 메모리는 올양이 작업\n",
    "- GPU 부동소수점 연산기 1024\n",
    "- 데이터 : fully-connected(일렬로 서서) 일렬로 서는 이유 : 내적 연산을 하기 떄문\n",
    "- 가중치학습,cost function(비용함수)은 결과에 대한 판단\n",
    "   결과 : 연속형, identity -> MSE(평균제곱오차)\n",
    "          범주형, softmax -> coross entrypo\n",
    "   activation function(활성화함수)\n",
    "       - sigmoid -> 사용했지만 기울기 소실 문제가 발생함 -> tanh(-1~1) -> -> Relu(0보다 큰놈만 취급)\n",
    "       -> 좀 더 부드럽게 만듬ㅁ - > softplus\n",
    "       LeakyRelu(-1까지 고려) -> elu (지수용으로 부드럽게 곡선을 탐)"
   ]
  },
  {
   "cell_type": "code",
   "execution_count": 5,
   "metadata": {},
   "outputs": [],
   "source": [
    "# tf 1.5 keras tf.2.3의 차이 \n",
    "    #- 정적으로 그래프를 생성\n",
    "    #- 처음 그래프를 정의하고 \n",
    "    #- run에서 실행\n",
    "# constant , variables, placeholder\n",
    "    #-cuda : 과학계산에 행렬연산을 GPU에서 하자 -> 값을 반환 \n",
    "    #-network 요소 > Session\n",
    "# keras 는 모델만 구현해서 작동 \n",
    "# tf.23 은 eager mode 에서 함수 및 class base 로 작동\n",
    "\n",
    "import tensorflow as tf \n",
    "def showvalue(t):\n",
    "    sess = tf.InteractiveSession() # 대화형 세션\n",
    "    tf.global_variables_initializer().run() # 변수가 있으면 반드시 초기화\n",
    "    print(t.eval())\n",
    "    sess.close()"
   ]
  },
  {
   "cell_type": "code",
   "execution_count": 6,
   "metadata": {},
   "outputs": [
    {
     "name": "stdout",
     "output_type": "stream",
     "text": [
      "[ 3.5 10.1]\n",
      "[-8  5 17]\n",
      "[       nan 1.73205081 2.23606798]\n"
     ]
    }
   ],
   "source": [
    "c2, c3 = tf.constant([1.2,5.6]), tf.constant([-4,-1,7])\n",
    "v2, v3 = tf.Variable([2.3,4.5]), tf.Variable([-2,3,5])\n",
    "showvalue(tf.add_n([c2,v2])) # n : 여러개 벡터 행렬연산에서 일반 +-*/ 요소별 연산\n",
    "showvalue(tf.add_n([c3,v3,v3])) \n",
    "showvalue(tf.sqrt(tf.cast(v3,tf.float64)))  #math함수들이 동작"
   ]
  },
  {
   "cell_type": "code",
   "execution_count": 7,
   "metadata": {},
   "outputs": [],
   "source": [
    "# tensorflow 는 numpy 와 호환 "
   ]
  },
  {
   "cell_type": "code",
   "execution_count": 11,
   "metadata": {},
   "outputs": [],
   "source": [
    "def run_variable(variable):\n",
    "    tf.global_variables_initializer()\n",
    "    with tf.Session() as sess:\n",
    "        return sess.run(variable)\n",
    "    "
   ]
  },
  {
   "cell_type": "code",
   "execution_count": 12,
   "metadata": {},
   "outputs": [
    {
     "data": {
      "image/png": "[encoded data removed]",
      "text/plain": [
       "<Figure size 432x288 with 1 Axes>"
      ]
     },
     "metadata": {
      "needs_background": "light"
     },
     "output_type": "display_data"
    }
   ],
   "source": [
    "%matplotlib inline \n",
    "my_distribution = tf.random_uniform((6,4), seed= 42)\n",
    "uniform = run_variable(my_distribution)\n",
    "from matplotlib import pyplot as plt \n",
    "plt.hist(uniform.flatten())\n",
    "plt.show()"
   ]
  },
  {
   "cell_type": "code",
   "execution_count": 23,
   "metadata": {},
   "outputs": [
    {
     "name": "stdout",
     "output_type": "stream",
     "text": [
      "Tensor(\"MatMul_2:0\", shape=(2, 2), dtype=int32)\n"
     ]
    },
    {
     "data": {
      "text/plain": [
       "array([[ 58,  64],\n",
       "       [139, 154]])"
      ]
     },
     "execution_count": 23,
     "metadata": {},
     "output_type": "execute_result"
    }
   ],
   "source": [
    "a = tf.constant([1,2,3,4,5,6],shape=[2,3])\n",
    "b= tf.constant([7,8,9,10,11,12],shape=[3,2])\n",
    "sess = tf.Session() # 세션작업\n",
    "result = tf.matmul(a,b)\n",
    "print(result) # graph 는 node 와 node(계산식) 으로 구성이 되고 연결하는 것은 Tensor\n",
    "sess.run(result) # 호출할때 연산 실행 (앞단의 노드가 모두 실행이 되어야 실행)\n",
    "# 분산처리가 가능하게 하기 위해서"
   ]
  },
  {
   "cell_type": "code",
   "execution_count": 24,
   "metadata": {},
   "outputs": [
    {
     "name": "stdout",
     "output_type": "stream",
     "text": [
      "[[1 0 0 0]\n",
      " [0 2 0 0]\n",
      " [0 0 3 0]\n",
      " [0 0 0 4]]\n"
     ]
    }
   ],
   "source": [
    "diagonal = [1,2,3,4]\n",
    "dia = tf.diag(diagonal) # 대각행렬 > 내부적으로 graph 를 생성 \n",
    "print(sess.run(dia))"
   ]
  },
  {
   "cell_type": "code",
   "execution_count": 25,
   "metadata": {},
   "outputs": [
    {
     "name": "stdout",
     "output_type": "stream",
     "text": [
      "[1 2 3 4]\n"
     ]
    }
   ],
   "source": [
    "print(sess.run(tf.diag_part(dia)))"
   ]
  },
  {
   "cell_type": "code",
   "execution_count": 26,
   "metadata": {},
   "outputs": [
    {
     "name": "stdout",
     "output_type": "stream",
     "text": [
      "10\n"
     ]
    }
   ],
   "source": [
    "print(sess.run(tf.trace(dia)))"
   ]
  },
  {
   "cell_type": "code",
   "execution_count": 27,
   "metadata": {},
   "outputs": [
    {
     "name": "stdout",
     "output_type": "stream",
     "text": [
      "[[1 0 0 0]\n",
      " [0 2 0 0]\n",
      " [0 0 3 0]\n",
      " [0 0 0 4]]\n"
     ]
    }
   ],
   "source": [
    "x = tf.transpose(dia)\n",
    "print(sess.run(x))"
   ]
  },
  {
   "cell_type": "code",
   "execution_count": 29,
   "metadata": {},
   "outputs": [
    {
     "name": "stdout",
     "output_type": "stream",
     "text": [
      "[[1 0 0 0]\n",
      " [0 2 0 0]\n",
      " [0 0 3 0]\n",
      " [0 0 0 4]]\n"
     ]
    }
   ],
   "source": [
    "# 선형대수나 math 사용하는 구조가 numpy 와 동일하다.\n",
    "x = tf.transpose(dia)\n",
    "print(sess.run(x))"
   ]
  },
  {
   "cell_type": "code",
   "execution_count": 30,
   "metadata": {},
   "outputs": [
    {
     "name": "stdout",
     "output_type": "stream",
     "text": [
      "[[1 2 3]\n",
      " [4 5 6]\n",
      " [7 8 9]]\n"
     ]
    }
   ],
   "source": [
    "t = [1,2,3,4,5,6,7,8,9]\n",
    "print(sess.run(tf.reshape(t,[3,3])))"
   ]
  },
  {
   "cell_type": "code",
   "execution_count": 39,
   "metadata": {},
   "outputs": [
    {
     "name": "stdout",
     "output_type": "stream",
     "text": [
      "1\n",
      "2\n",
      "3\n",
      "4\n",
      "5\n",
      "6\n",
      "7\n",
      "8\n",
      "9\n",
      "10\n",
      "1부터 10까지의 합= 55\n"
     ]
    }
   ],
   "source": [
    "x = tf.Variable(0,name='x') # 그래프 출력시 node 를 확인, 모델을 저장하고 로딩시 구분\n",
    "hap = tf.Variable(0, name='hap')\n",
    "model = tf.global_variables_initializer()\n",
    "with tf.Session() as session:\n",
    "    for i in range(10):\n",
    "        session.run(model)\n",
    "        x= x+1\n",
    "        hap = hap + x\n",
    "        print(session.run(x))\n",
    "    print(\"1부터 10까지의 합=\", session.run(hap))"
   ]
  },
  {
   "cell_type": "code",
   "execution_count": 46,
   "metadata": {},
   "outputs": [
    {
     "data": {
      "text/plain": [
       "23"
      ]
     },
     "execution_count": 46,
     "metadata": {},
     "output_type": "execute_result"
    }
   ],
   "source": [
    "import tensorflow as tf \n",
    "import numpy as np \n",
    "# 대량의 데이터\n",
    "# 계산 그래프를 구성( 계싼식은 node , edge : tensor)\n",
    "a = tf.placeholder(tf.int32, shape=[2], name = \"my_input\") # 외부주입변수\n",
    "b = tf.reduce_prod(a, name='prod_b')\n",
    "c = tf.reduce_sum(a,name=\"sum_c\")\n",
    "d = tf.add(b,c,name=\"add_d\")\n",
    "sess = tf.Session()\n",
    "input_dict = {a:np.array([5,3],dtype=np.int32)}\n",
    "sess.run(d, feed_dict = input_dict)\n",
    "\n"
   ]
  },
  {
   "cell_type": "code",
   "execution_count": 64,
   "metadata": {},
   "outputs": [
    {
     "name": "stdout",
     "output_type": "stream",
     "text": [
      "Extracting /tmp/data/train-images-idx3-ubyte.gz\n",
      "Extracting /tmp/data/train-labels-idx1-ubyte.gz\n",
      "Extracting /tmp/data/t10k-images-idx3-ubyte.gz\n",
      "Extracting /tmp/data/t10k-labels-idx1-ubyte.gz\n"
     ]
    }
   ],
   "source": [
    "from tensorflow.examples.tutorials.mnist import input_data\n",
    "mnist = input_data.read_data_sets(\"/tmp/data/\", one_hot=True) # y 값을 one hot encoding\n",
    "learning_rate = 0.01 # 학습율\n",
    "training_epochs = 25 # 반복학습 회수\n",
    "batch_size = 100 # mini batch 사이즈  50000장 이미지 > 500덩어리 학습 * 25\n",
    "display_epoch = 1 \n",
    "logs_path = '/tmp/tensorflow_logs/example/' # tensorboard\n",
    "# 외부 주입변수 : GPU 메모리\n",
    "x = tf.placeholder(tf.float32 , [None,784] , name='InputData')\n",
    "y = tf.placeholder(tf.float32 , [None,10],name = 'LabelData')\n",
    "\n",
    "# 100 X 784 \n",
    "\n",
    "# 역전파가 벌어질때 수정되어야 할 것 \n",
    "W = tf.Variable(tf.zeros([784,10]), name = 'Weights') # 나가는(출력) 값 10 \n",
    "b = tf.Variable(tf.zeros([10]), name='Bias')\n",
    "# 마지막 activation  연속형 : mse ,  활성화 함수  > softmax \n",
    "\n",
    "# 학습\n",
    "pred = tf.nn.softmax(tf.matmul(x,W) + b ) # 행렬곱 # 100X10 # 0.1 0.06 0.3 0.5 0.01 0 0 0 0 0 \n",
    "    # 확률로 표현 > SOFTMAX 결과값을 확률값으로 표현\n",
    "\n",
    "#cross-entropy 실제값 * tf.log(pred) : 분류할때 사용 \n",
    "# 평균 비용함수\n",
    "cost = tf.reduce_mean(-tf.reduce_sum(y * tf.log(pred), reduction_indices=1))\n",
    "optimizer = tf.train.GradientDescentOptimizer(learning_rate).minimize(cost) # 최적화기를 지정 : 경사하강법 optimizer\n",
    "# 숫자 : 0,1,2,3,4,5,6,7,8,9\n",
    "# 실제값 : 0,0,0,0,0,0,1,0,0,0\n",
    "# 인덱스 : 0,1,2,3,4,5,6,7,8,9\n",
    "# 예측값 0.01,0.01,0.8 모두더하면 1\n",
    "\n",
    "\n",
    "acc = tf.equal(tf.argmax(pred,1), tf.argmax(y,1))\n",
    "acc = tf.reduce_mean(tf.cast(acc,tf.float32))\n",
    "init = tf.global_variables_initializer()\n",
    "tf.summary.scalar(\"loss\", cost) # tensorboard 에 정보 저장하기 전에 정보를 모음 \n",
    "tf.summary.scalar(\"accuracy\", acc) \n",
    "merged_summary_op = tf.summary.merge_all()\n"
   ]
  },
  {
   "cell_type": "code",
   "execution_count": 67,
   "metadata": {},
   "outputs": [
    {
     "name": "stdout",
     "output_type": "stream",
     "text": [
      "Epoch: 0001 cost= 1.183574758\n",
      "Epoch: 0002 cost= 0.665345074\n",
      "Epoch: 0003 cost= 0.552781630\n",
      "Epoch: 0004 cost= 0.498740603\n",
      "Epoch: 0005 cost= 0.465501846\n",
      "Epoch: 0006 cost= 0.442600368\n",
      "Epoch: 0007 cost= 0.425515202\n",
      "Epoch: 0008 cost= 0.412205074\n",
      "Epoch: 0009 cost= 0.401431416\n",
      "Epoch: 0010 cost= 0.392380055\n",
      "Epoch: 0011 cost= 0.384785831\n",
      "Epoch: 0012 cost= 0.378191270\n",
      "Epoch: 0013 cost= 0.372430160\n",
      "Epoch: 0014 cost= 0.367326582\n",
      "Epoch: 0015 cost= 0.362759534\n",
      "Epoch: 0016 cost= 0.358564790\n",
      "Epoch: 0017 cost= 0.354889061\n",
      "Epoch: 0018 cost= 0.351511177\n",
      "Epoch: 0019 cost= 0.348324901\n",
      "Epoch: 0020 cost= 0.345407669\n",
      "Epoch: 0021 cost= 0.342718333\n",
      "Epoch: 0022 cost= 0.340230018\n",
      "Epoch: 0023 cost= 0.337958349\n",
      "Epoch: 0024 cost= 0.335748886\n",
      "Epoch: 0025 cost= 0.333704328\n",
      "최적화 종료\n",
      "accuracy : 0.9133\n"
     ]
    }
   ],
   "source": [
    "with tf.Session() as sess:\n",
    "    sess.run(init)\n",
    "    summary_writer = tf.summary.FileWriter(logs_path, graph = tf.get_default_graph())\n",
    "    for epoch in range(training_epochs): # 동일한 데이터\n",
    "        avg_cost = 0.\n",
    "        total_batch = int(mnist.train.num_examples / batch_size)\n",
    "        for i in range(total_batch):\n",
    "            # 데이터를 100개씩 자동으로 피딩\n",
    "            batch_xs , batch_ys = mnist.train.next_batch(batch_size)\n",
    "            _, c, summary = sess.run([optimizer, cost, merged_summary_op], feed_dict={x:batch_xs, y: batch_ys})\n",
    "            summary_writer.add_summary(summary, epoch * total_batch + i)\n",
    "            avg_cost += c / total_batch\n",
    "            \n",
    "        if (epoch+1) % display_epoch == 0:\n",
    "            print(\"Epoch:\", '%04d' % (epoch+1), \"cost=\", \"{:.9f}\".format(avg_cost))\n",
    "            \n",
    "    print(\"최적화 종료\")\n",
    "    # eval : 수식으로 평가 : 테스트 데이터로 평가\n",
    "    print(\"accuracy :\", acc.eval({x:mnist.test.images, y: mnist.test.labels}))"
   ]
  },
  {
   "cell_type": "code",
   "execution_count": null,
   "metadata": {},
   "outputs": [],
   "source": []
  }
 ],
 "metadata": {
  "kernelspec": {
   "display_name": "Python 3",
   "language": "python",
   "name": "python3"
  },
  "language_info": {
   "codemirror_mode": {
    "name": "ipython",
    "version": 3
   },
   "file_extension": ".py",
   "mimetype": "text/x-python",
   "name": "python",
   "nbconvert_exporter": "python",
   "pygments_lexer": "ipython3",
   "version": "3.7.4"
  }
 },
 "nbformat": 4,
 "nbformat_minor": 2
}
