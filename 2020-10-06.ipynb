{
 "cells": [
  {
   "cell_type": "code",
   "execution_count": 6,
   "metadata": {},
   "outputs": [
    {
     "name": "stdout",
     "output_type": "stream",
     "text": [
      "삼격형의 넓이는  100.0\n"
     ]
    }
   ],
   "source": [
    "width = 10\n",
    "height = 20\n",
    "area = 10 * 20 / 2\n",
    "print(\"삼격형의 넓이는 \" , area)"
   ]
  },
  {
   "cell_type": "code",
   "execution_count": 9,
   "metadata": {},
   "outputs": [
    {
     "name": "stdout",
     "output_type": "stream",
     "text": [
      "10 20 100.0\n"
     ]
    }
   ],
   "source": [
    "# 특징 : 멤버변수는 어떤 함수에서도 생성이 가능\n",
    "# 실시간으로 멤버 변수 멤버함수를 추가하는 것이 가능\n",
    "# self는 매개변수의 개수에 불포함\n",
    "# 초기화함수에서 초기화되는 것만 엠버변수(C,java)\n",
    "class Triangle :\n",
    "    def __init__(self,width,height): # 생성자, 생성자는 상속되지 안음\n",
    "        self.width=width\n",
    "    def setData(self, width, height): # 인스턴스 될 떄 한번만 자동, 작동, 명시적 호출불가\n",
    "        # 예외: 상속에서 부모의 생성자ㅏ를 호출시킴\n",
    "        self.width=width\n",
    "        self.height = height\n",
    "    def area(self):\n",
    "        return self.width*self.height/2\n",
    "    \n",
    "tri1 = Triangle()\n",
    "tri1.setData(10,20)\n",
    "print(tri1.width, tri1.height, tri1.area())"
   ]
  },
  {
   "cell_type": "code",
   "execution_count": 10,
   "metadata": {},
   "outputs": [],
   "source": [
    "class MyClass(object):\n",
    "    \"\"\"클래스의 ㅖ예\"\"\"\n",
    "    \n",
    "    i = 12345 # 클래스 ㅂㄴ수 : 인스턴스 되는 오브젝트가 공유변수, 정의되는 순간 메모리 확보\n",
    "    def __init__(self):\n",
    "        self.i=54321 # 멤버변수\n",
    "        mun = 100 # 지역변수\n",
    "        def f(self):\n",
    "            return self.i"
   ]
  },
  {
   "cell_type": "code",
   "execution_count": 28,
   "metadata": {},
   "outputs": [
    {
     "name": "stdout",
     "output_type": "stream",
     "text": [
      "Automatically created module for IPython interactive environment\n",
      "12345\n",
      "54321\n"
     ]
    },
    {
     "ename": "AttributeError",
     "evalue": "'MyClass' object has no attribute 'f'",
     "output_type": "error",
     "traceback": [
      "\u001b[1;31m---------------------------------------------------------------------------\u001b[0m",
      "\u001b[1;31mAttributeError\u001b[0m                            Traceback (most recent call last)",
      "\u001b[1;32m<ipython-input-28-195fec85ce88>\u001b[0m in \u001b[0;36m<module>\u001b[1;34m\u001b[0m\n\u001b[0;32m      3\u001b[0m \u001b[0mmyclass\u001b[0m \u001b[1;33m=\u001b[0m \u001b[0mMyClass\u001b[0m\u001b[1;33m(\u001b[0m\u001b[1;33m)\u001b[0m\u001b[1;33m\u001b[0m\u001b[1;33m\u001b[0m\u001b[0m\n\u001b[0;32m      4\u001b[0m \u001b[0mprint\u001b[0m\u001b[1;33m(\u001b[0m\u001b[0mmyclass\u001b[0m\u001b[1;33m.\u001b[0m\u001b[0mi\u001b[0m\u001b[1;33m)\u001b[0m\u001b[1;33m\u001b[0m\u001b[1;33m\u001b[0m\u001b[0m\n\u001b[1;32m----> 5\u001b[1;33m \u001b[0mmyclass\u001b[0m\u001b[1;33m.\u001b[0m\u001b[0mf\u001b[0m\u001b[1;33m\u001b[0m\u001b[1;33m\u001b[0m\u001b[0m\n\u001b[0m",
      "\u001b[1;31mAttributeError\u001b[0m: 'MyClass' object has no attribute 'f'"
     ]
    }
   ],
   "source": [
    "print(__doc__) # 오브젝트의 멤버변수\n",
    "print(MyClass.i)\n",
    "myclass = MyClass()\n",
    "print(myclass.i)\n",
    "myclass.f()"
   ]
  },
  {
   "cell_type": "code",
   "execution_count": 27,
   "metadata": {
    "scrolled": true
   },
   "outputs": [
    {
     "name": "stdout",
     "output_type": "stream",
     "text": [
      "생성 Tue Oct  6 11:19:35 2020\n",
      "sleeping for 3 sec\n",
      "사망 Tue Oct  6 11:19:38 2020\n"
     ]
    }
   ],
   "source": [
    "# 파이썬에서 시간은 timestamp 로 저장 (1900, 1.1ㅂ터 흐른초로 표현)\n",
    "from time import time, ctime, sleep\n",
    "class Life:\n",
    "    def __init__(self):\n",
    "        self.birth=ctime() # convert time => localtime으로 변환\n",
    "        print('생성',self.birth)\n",
    "    def __del__(self): # 소멸자 작동\n",
    "        print('사망',ctime())\n",
    "    def test(self):\n",
    "        #mylife = Lift()\n",
    "        print(\"sleeping for 3 sec\")\n",
    "        sleep(3)\n",
    "li = Life()\n",
    "li.test()\n",
    "del li"
   ]
  },
  {
   "cell_type": "code",
   "execution_count": 2,
   "metadata": {},
   "outputs": [],
   "source": [
    "# 2.x class 사용이 \n",
    "class Employee: \n",
    "    empCount = 0\n",
    "    def __init__(self, name, salary):\n",
    "        self.name = name\n",
    "        self.salary = salary\n",
    "        Employee.empCount += 1\n",
    "    def displayCount(self):\n",
    "        print('직원 수 = %d' % Employee.empCount)\n",
    "    def displayEmployee(self):\n",
    "        print(\"이름 : \" , self.name, \" , 급여 : \", self.salary)\n",
    "    def __call__(self, *pargs, **kargs):\n",
    "        print(\"called : \" , pargs, kargs)\n",
    "        "
   ]
  },
  {
   "cell_type": "code",
   "execution_count": 5,
   "metadata": {},
   "outputs": [
    {
     "name": "stdout",
     "output_type": "stream",
     "text": [
      "직원 수 = 5\n",
      "이름 :  빅데타  , 급여 :  500\n",
      "직원 수는 6\n",
      "called :  ('빅데타', 500, 100) {'c': 100}\n"
     ]
    }
   ],
   "source": [
    "emp = Employee(\"김종호\",500)\n",
    "emp.displayCount()\n",
    "emp1 = Employee('빅데타',500)\n",
    "emp1.displayEmployee()\n",
    "print(\"직원 수는 %d\" %Employee.empCount)\n",
    "emp(\"빅데타\", 500, 100 , c= 100) # 함수처럼 호출\n",
    "emp1.age = 7j # 실시간으로 추가 \n",
    "del emp1.age\n"
   ]
  },
  {
   "cell_type": "code",
   "execution_count": 7,
   "metadata": {},
   "outputs": [
    {
     "name": "stdout",
     "output_type": "stream",
     "text": [
      "Employee.__bases__: (<class 'object'>,)\n",
      "Employee.__name__: Employee\n",
      "Employee.__dict__: {'__module__': '__main__', 'empCount': 6, '__init__': <function Employee.__init__ at 0x0000019212348040>, 'displayCount': <function Employee.displayCount at 0x00000192123480D0>, 'displayEmployee': <function Employee.displayEmployee at 0x0000019212348160>, '__call__': <function Employee.__call__ at 0x00000192123481F0>, '__dict__': <attribute '__dict__' of 'Employee' objects>, '__weakref__': <attribute '__weakref__' of 'Employee' objects>, '__doc__': None}\n"
     ]
    }
   ],
   "source": [
    "print(\"Employee.__bases__:\",Employee.__bases__)\n",
    "print(\"Employee.__name__:\",Employee.__name__)\n",
    "print(\"Employee.__dict__:\",Employee.__dict__)"
   ]
  },
  {
   "cell_type": "code",
   "execution_count": 10,
   "metadata": {},
   "outputs": [
    {
     "name": "stdout",
     "output_type": "stream",
     "text": [
      "박윤호 25\n",
      "<__main__.Student object at 0x00000192123455E0>\n"
     ]
    }
   ],
   "source": [
    "# 이름과 나이를 저장하는 Student class 를 생성하시오 \n",
    "#- 이름과 나이를 출력하는 print 함수를 생성하세요 \n",
    "\n",
    "class Student:\n",
    "    def __init__(self,name,age):\n",
    "        self.name = name \n",
    "        self.age = age\n",
    "    \n",
    "    def output(self):\n",
    "        print(self.name, self.age)\n",
    "        \n",
    "        \n",
    "aa = Student('박윤호','25')\n",
    "aa.output()\n",
    "print(aa)\n"
   ]
  },
  {
   "cell_type": "code",
   "execution_count": 12,
   "metadata": {},
   "outputs": [
    {
     "name": "stdout",
     "output_type": "stream",
     "text": [
      "<__main__.Student object at 0x0000019212345CA0>\n"
     ]
    }
   ],
   "source": [
    "g = aa.__class__(\"김종호\",34) # 인스턴스가 됨 \n",
    "print(g)"
   ]
  },
  {
   "cell_type": "code",
   "execution_count": null,
   "metadata": {},
   "outputs": [],
   "source": [
    "#Point(x,y) # 크기를 구하고 두 포인트의 충돌여부 확인 "
   ]
  },
  {
   "cell_type": "code",
   "execution_count": 15,
   "metadata": {},
   "outputs": [],
   "source": [
    "import math\n",
    "class Point:\n",
    "    def __init__(self,x,y):\n",
    "        self.x=x\n",
    "        self.y=y\n",
    "    def __str__(self):\n",
    "        return \"좌표는 (%d, %d)\" %(self.x,self.y)\n",
    "    def dist(self, other):\n",
    "        distance = math.sqrt((self.x-other.x) ** 2 + (self.y-other.y) ** 2)\n",
    "        return distance\n",
    "    def collision(self,other):\n",
    "        return self.dist(other) < 3     \n",
    "    "
   ]
  },
  {
   "cell_type": "code",
   "execution_count": 22,
   "metadata": {},
   "outputs": [
    {
     "name": "stdout",
     "output_type": "stream",
     "text": [
      "좌표는 (7, 3)\n",
      "좌표는 (4, 7)\n",
      "두점 사이의 거리는 = 5.0\n",
      "충돌하지 않았습니다\n"
     ]
    }
   ],
   "source": [
    "# (7.3) , (4,7) 두 포인트가 충돌하는지 여부를 확인하시오\n",
    "first = Point(7,3)\n",
    "second = Point(4,7)\n",
    "print(first)\n",
    "print(second)\n",
    "print(\"두점 사이의 거리는 =\",first.dist(second))\n",
    "if first.collision(second):\n",
    "    print('충돌했습니다')\n",
    "else:\n",
    "    print(\"충돌하지 않았습니다\")"
   ]
  },
  {
   "cell_type": "code",
   "execution_count": null,
   "metadata": {},
   "outputs": [],
   "source": [
    "#Point class 를 이용해서 Circle class 를 생성하시오 \n",
    "(중심점, 반지름)\n",
    "- 면적을 구하는 함수 math.pi\n",
    "- 둘레를 구하는 함수 \n",
    "- 원과 원의 충돌을 체크하는 함수를 작성하시오"
   ]
  },
  {
   "cell_type": "code",
   "execution_count": 21,
   "metadata": {},
   "outputs": [
    {
     "name": "stdout",
     "output_type": "stream",
     "text": [
      "원의 중심은 : 좌표는 (7, 3)반지름은1\n",
      "원의 중심은 : 좌표는 (4, 7)반지름은5\n",
      "충돌한다\n"
     ]
    },
    {
     "data": {
      "text/plain": [
       "'충돌한다'"
      ]
     },
     "execution_count": 21,
     "metadata": {},
     "output_type": "execute_result"
    }
   ],
   "source": [
    "import math \n",
    "class Circle:\n",
    "    def __init__(self,center, radius):\n",
    "        self.center = center \n",
    "        self.radius = radius \n",
    "    def area_calc(self):\n",
    "        area = math.pi * float(self.radius **2)\n",
    "        return area \n",
    "    def perimeter(selef):\n",
    "        peri = 2 * math.pi * self.radius\n",
    "        return peri\n",
    "    def collision(self,other):\n",
    "        if self.center.dist(other.center)< self.radius + other.radius : \n",
    "            result = \"충돌한다\"\n",
    "        else:\n",
    "            result = '충돌하지 않음'\n",
    "        return result\n",
    "    def __repr__(self):\n",
    "        return \"원의 중심은 : \" + str(self.center) + \"반지름은\" + str(self.radius)\n",
    "        + \"원의 면적은:\" + str(self.area_calc()) + \"원의 둘레:\" + str(self.perimeter)\n",
    "cir = Circle(first,1)\n",
    "cir2 = Circle(second,5)\n",
    "print(cir)\n",
    "print(cir2)\n",
    "print(cir.collision(cir2))\n",
    "Circle.collision(cir,cir2)    \n",
    "    "
   ]
  },
  {
   "cell_type": "code",
   "execution_count": null,
   "metadata": {},
   "outputs": [],
   "source": [
    "#vector 크기와 방향"
   ]
  },
  {
   "cell_type": "code",
   "execution_count": 31,
   "metadata": {},
   "outputs": [],
   "source": [
    "class Vector:\n",
    "    def __init__(self,x,y):\n",
    "        self.x = x \n",
    "        self.y = y \n",
    "    def __repr__(self):\n",
    "        return \"(좌표는 %d , %d)\"%(self.x,self.y)\n",
    "    def __add__(self,other):\n",
    "        return Vector(self.x + other.x , self.y + other.y)\n",
    "    def __mul__(self,other):\n",
    "        return Vector(self.x * other.x , self.y * other.y)\n",
    "    def __sub__(self,other):\n",
    "        return Vector(self.x-other.x , self.y - other.y)\n",
    "    def __truediv__(self,other):\n",
    "        return Vector(self.x/other.x , self.y/other.y)"
   ]
  },
  {
   "cell_type": "code",
   "execution_count": 32,
   "metadata": {},
   "outputs": [
    {
     "name": "stdout",
     "output_type": "stream",
     "text": [
      "(좌표는 100 , 23)\n",
      "(좌표는 200 , 46)\n",
      "(좌표는 120 , 50)\n",
      "(좌표는 2000 , 621)\n",
      "(좌표는 5 , 0)\n"
     ]
    }
   ],
   "source": [
    "f = Vector(100,23)\n",
    "g = Vector(20,27)\n",
    "print(f)\n",
    "print(f + f) # 사용자 정의 데이터 타입\n",
    "print(f + g)\n",
    "print(f * g)\n",
    "print(f / g)"
   ]
  },
  {
   "cell_type": "code",
   "execution_count": null,
   "metadata": {},
   "outputs": [],
   "source": [
    "# 3차원으로 확장시키시오"
   ]
  },
  {
   "cell_type": "code",
   "execution_count": 37,
   "metadata": {},
   "outputs": [],
   "source": [
    "class Vector:\n",
    "    def __init__(self,x,y,z):\n",
    "        self.x = x \n",
    "        self.y = y \n",
    "        self.z = z\n",
    "    def __repr__(self):\n",
    "        return \"(좌표는 %d , %d , %d)\"%(self.x,self.y,self.z)\n",
    "    def __add__(self,other):\n",
    "        return Vector(self.x + other.x , self.y + other.y, self.z + other.z)\n",
    "    def __mul__(self,other):\n",
    "        return Vector(self.x * other.x , self.y * other.y , self.z + other.z)\n",
    "    def __sub__(self,other):\n",
    "        return Vector(self.x-other.x , self.y - other.y , self.z - other.z)\n",
    "    def __truediv__(self,other):\n",
    "        return Vector(self.x/other.x , self.y/other.y, self.z - other.z)\n",
    "    def norm(self):\n",
    "        return math.sqrt(self.x**2 + self.y **2 + self.z **2)\n",
    "    def normalize(self): # 크기가 1일때의 각 방향값\n",
    "        norm = self.norm()\n",
    "        return self.x/norm, self.y/norm, self.z/norm\n",
    "    def dot(self,other):\n",
    "        return(self.x * other.x + self.y * other.y + self.z * other.z)\n",
    "    def cosangle(self,other):\n",
    "        dot = self.dot(other)\n",
    "        norm1 = self.norm()\n",
    "        norm2 = other.norm()\n",
    "        return dot/(norm1 * norm2)\n",
    "    def theta(self,other):\n",
    "        cosangle = self.cosangle(other)\n",
    "        return math.acos(cosangle) * (180/math.pi) # 각도 변환"
   ]
  },
  {
   "cell_type": "code",
   "execution_count": 41,
   "metadata": {},
   "outputs": [
    {
     "name": "stdout",
     "output_type": "stream",
     "text": [
      "(좌표는 100 , 23 , 32)\n",
      "(좌표는 200 , 46 , 64)\n",
      "(좌표는 120 , 50 , 44)\n",
      "(좌표는 2000 , 621 , 44)\n",
      "(좌표는 5 , 0 , 20)\n",
      "f 벡터의 크기 =  107.48488265798126\n",
      "g 벡터의 크기 =  35.679125549822544\n",
      "f 의 normal vector =  (0.9303633918287999, 0.213983580120624, 0.297716285385216)\n",
      "g 의 normal vector =  (0.5605518546712105, 0.7567450038061342, 0.3363311128027263)\n",
      "두 벡터의 내적 =  3005\n",
      "f 와 g 의 사이각은 =  38.410539965276215\n",
      "f와 g 의 코사인 사이각은 =  0.7835791795237674\n"
     ]
    }
   ],
   "source": [
    "f = Vector(100,23,32)\n",
    "g = Vector(20,27,12)\n",
    "print(f)\n",
    "print(f + f) # 사용자 정의 데이터 타입\n",
    "print(f + g)\n",
    "print(f * g)\n",
    "print(f / g)\n",
    "print(\"f 벡터의 크기 = \" , f.norm())\n",
    "print(\"g 벡터의 크기 = \" , g.norm())\n",
    "print(\"f 의 normal vector = \" , f.normalize()) # 1, 0 , 0 \n",
    "print(\"g 의 normal vector = \" , g.normalize()) # 0, 1, 0\n",
    "print(\"두 벡터의 내적 = \" ,g.dot(f))\n",
    "print(\"f 와 g 의 사이각은 = \" , f.theta(g))\n",
    "print(\"f와 g 의 코사인 사이각은 = \", f.cosangle(g))\n"
   ]
  },
  {
   "cell_type": "code",
   "execution_count": 46,
   "metadata": {},
   "outputs": [],
   "source": [
    "def print_name(first,last):\n",
    "    return('실무는 %s 처럼 , %s 학습'%(last,first))"
   ]
  },
  {
   "cell_type": "code",
   "execution_count": 47,
   "metadata": {},
   "outputs": [],
   "source": [
    "def p_decor(func):\n",
    "    def func_wrapper(*args, **kwargs):\n",
    "        text = func(*args, **kwargs)\n",
    "        return '<p>%s</p>' % text\n",
    "    return func_wrapper\n"
   ]
  },
  {
   "cell_type": "code",
   "execution_count": 48,
   "metadata": {},
   "outputs": [],
   "source": [
    "print_name = p_decor(print_name)"
   ]
  },
  {
   "cell_type": "code",
   "execution_count": 49,
   "metadata": {},
   "outputs": [
    {
     "data": {
      "text/plain": [
       "'<p>실무는 연습 처럼 , 빅데이터 학습</p>'"
      ]
     },
     "execution_count": 49,
     "metadata": {},
     "output_type": "execute_result"
    }
   ],
   "source": [
    "print_name('빅데이터','연습')"
   ]
  },
  {
   "cell_type": "code",
   "execution_count": 51,
   "metadata": {},
   "outputs": [],
   "source": [
    "@p_decor\n",
    "def print_name2(first,last):\n",
    "    return('실무는 %s 처럼 , %s 학습'%(last,first))"
   ]
  },
  {
   "cell_type": "code",
   "execution_count": 52,
   "metadata": {},
   "outputs": [
    {
     "name": "stdout",
     "output_type": "stream",
     "text": [
      "초기화.\n",
      "장식자 시작\n",
      "데코레이터 시작 my_function\n",
      "원래함수의 기능\n",
      "데코레잉터 종료 my_function\n"
     ]
    }
   ],
   "source": [
    "# 장식자를 만들려면 함수 초기화가 되어지도록 하고 \n",
    "# __call__ 함수를 오버라이딩\n",
    "class Verbose:\n",
    "    def __init__(self, f):\n",
    "        print(\"초기화.\")\n",
    "        self.func = f ;\n",
    "    \n",
    "    def __call__(self): # 오버라이딩\n",
    "        print(\"데코레이터 시작\",self.func.__name__)\n",
    "        self.func();\n",
    "        print(\"데코레잉터 종료\", self.func.__name__)\n",
    "\n",
    "@Verbose\n",
    "def my_function():\n",
    "    print(\"원래함수의 기능\")\n",
    "    \n",
    "print(\"장식자 시작\")\n",
    "my_function();\n",
    "            "
   ]
  },
  {
   "cell_type": "code",
   "execution_count": null,
   "metadata": {},
   "outputs": [],
   "source": [
    "#예외처리 ( 프로그램ㄹ은 계속 진행되어야 한다 )\n",
    "try \n",
    "except\n",
    "else 예외가 발생하지 않을 때 실행 \n",
    "finally : 예외가 발생하던 말던 : 메모리 해제 (장치를 해제)\n",
    "# \n",
    "assert : 반드시 가져할 값을  확인\n",
    "raise : 강제로 트리거 (예외) 발생"
   ]
  },
  {
   "cell_type": "code",
   "execution_count": 54,
   "metadata": {},
   "outputs": [
    {
     "name": "stdout",
     "output_type": "stream",
     "text": [
      "list index out of range\n",
      "프로그램이 정상적으로 종료되었습니다\n"
     ]
    }
   ],
   "source": [
    "cities=[]\n",
    "cities.append(\"하늘\")\n",
    "cities.append(\"땅\")\n",
    "try:\n",
    "    print(cities[2])\n",
    "    print('뒤에 출력 가능?')\n",
    "except IndexError as e:\n",
    "    print(e)\n",
    "\n",
    "print(\"프로그램이 정상적으로 종료되었습니다\")\n"
   ]
  },
  {
   "cell_type": "code",
   "execution_count": null,
   "metadata": {},
   "outputs": [],
   "source": [
    "#변수 -> 자료구조(배열), LIST(삽입삭제), DICT(nosql: 빅데이터),\n",
    "-분산처리 (hadoop: 데이터 삭제 , 수정 기능 무) : 컴퓨터 분할 > reduce\n",
    "    -분석 (규칙을 발견 : 정보)\n",
    "-오버로딩 , 오버라이딩\n",
    "-상속을 공통분모를 정의 : 코디생략\n",
    "-데이터 베이스 관계를 이용해서 테이블간의 관계 - 중복데이터를 제거 \n",
    "    -테이블을 찢어서 관계(정규화)\n",
    "    -join (테이블 결합)\n",
    "-양을 줄(자료구조)이고 속도(알고리즘)를 고속으로 처리하는 것 이 목적 (최적화 한다)\n"
   ]
  },
  {
   "cell_type": "code",
   "execution_count": null,
   "metadata": {},
   "outputs": [],
   "source": [
    "# 상속 : 공통분모 > 부모 \n",
    "- 부모는 자식을 가리킬 수 있다 - delgator 대리자 > design pattern (100이상의 종류) "
   ]
  },
  {
   "cell_type": "code",
   "execution_count": 58,
   "metadata": {},
   "outputs": [
    {
     "name": "stdout",
     "output_type": "stream",
     "text": [
      "자식 메소드\n"
     ]
    }
   ],
   "source": [
    "class Parent():\n",
    "    def myMethod(self):\n",
    "        print('부모 메소드')\n",
    "\n",
    "class Child(Parent):\n",
    "    def myMethod(self):\n",
    "        print('자식 메소드')\n",
    "ch = Child()\n",
    "ch.myMethod()"
   ]
  },
  {
   "cell_type": "code",
   "execution_count": 59,
   "metadata": {},
   "outputs": [],
   "source": [
    "class Animal:\n",
    "    def __init__(self, name):\n",
    "        self.name = name\n",
    "    def move(self):\n",
    "        print(\"move\")\n",
    "    def speak(self):\n",
    "        pass\n",
    " \n",
    "class Dog (Animal):\n",
    "    def speak(self):\n",
    "        print(\"bark\")\n",
    " \n",
    "class Duck (Animal):\n",
    "    def speak(self):\n",
    "        print(\"quack\") "
   ]
  },
  {
   "cell_type": "code",
   "execution_count": 62,
   "metadata": {},
   "outputs": [
    {
     "name": "stdout",
     "output_type": "stream",
     "text": [
      "doggy\n",
      "move\n",
      "bark\n"
     ]
    }
   ],
   "source": [
    "dog = Dog(\"doggy\")\n",
    "n = dog.name\n",
    "print(n)\n",
    "dog.move()\n",
    "dog.speak()"
   ]
  },
  {
   "cell_type": "code",
   "execution_count": 63,
   "metadata": {},
   "outputs": [
    {
     "name": "stdout",
     "output_type": "stream",
     "text": [
      "bark\n",
      "quack\n"
     ]
    }
   ],
   "source": [
    "animals = [Dog('doggy'),Duck('duck')] # 100\n",
    "\n",
    "for a in animals:\n",
    "    \n",
    "    a.speak()"
   ]
  },
  {
   "cell_type": "markdown",
   "metadata": {},
   "source": [
    "class Animal:\n",
    "    def Name(self):\n",
    "        pass\n",
    "    def Sleep(self):\n",
    "        print('sleep')\n",
    "    def MakeNoise(self):\n",
    "        pass\n",
    "class Dog(Animal):\n",
    "    def Name(self):\n",
    "        print('개!')\n",
    "    def MakeNoise(self):\n",
    "        print('늑대')\n",
    "class Cat(Animal):\n",
    "    def Name(self):\n",
    "        print('고양이')\n",
    "    def MakeNoise(self):\n",
    "        print('야옹')\n",
    "class Lion(Animal):\n",
    "    def Name(self):\n",
    "        print('사자')\n",
    "    def MakeNoise(self):\n",
    "        print('어흥')\n",
    "class horse(Animal):\n",
    "    def Name(self):\n",
    "        print('말')\n",
    "    def MakeNoise(self):\n",
    "        print('힝이잉')\n",
    "\n",
    "class TestAnimals:\n",
    "    def PrintName(self, animal):\n",
    "        animal.Name()\n",
    "    def GotoSleep(self, animal):\n",
    "        animal.Sleep()\n",
    "    def MakeNoise(self, animal):\n",
    "        animal.MakeNoise()\n",
    "TestAnimals = TestAnimals()\n",
    "dog = Dog()\n",
    "cat = Cat()\n",
    "lion=Lion()\n",
    "\n",
    "TestAnimals.PrintName(dog)\n",
    "TestAnimals.GotoSleep(dog)\n",
    "TestAnimals.MakeNoise(dog)\n",
    "TestAnimals.PrintName(cat)\n",
    "TestAnimals.GotoSleep(cat)\n",
    "TestAnimals.MakeNoise(cat)\n",
    "TestAnimals.PrintName(lion)\n",
    "TestAnimals.GotoSleep(lion)\n",
    "TestAnimals.MakeNoise(lion)\n",
    "\n",
    "mam = []\n",
    "mam.append(dog)\n",
    "mam.append(cat)\n",
    "mam.append(lion)\n",
    "\n",
    "for ma in mam:\n",
    "    TestAnimals.PrintName(ma)\n",
    "    TestAnimals.GotoSleep(ma)\n",
    "    TestAnimals.MakeNoise(ma) \n",
    "    "
   ]
  },
  {
   "cell_type": "markdown",
   "metadata": {},
   "source": [
    "class Evaluation:\n",
    "    def printcalcGrade(self,average):\n",
    "        pass       \n",
    "class Hakjum(Evaluation):\n",
    "    def printcalcGrade(self, average):\n",
    "        if average >= 90:       return \"A\"\n",
    "        elif average >= 80:     return \"B\"\n",
    "        elif average >= 70:     return \"C\"\n",
    "        elif average >= 60:     return \"D\"\n",
    "        else:  return \"F\"\n",
    "       \n",
    "class Pass_Fail(Evaluation):       \n",
    "    def printcalcGrade(self,average):\n",
    "        if average >= 60:       return \"합격\"\n",
    "        else:       return \"불합격\"\n",
    "\n",
    "class Element_Evaluation(Evaluation):       \n",
    "    def printcalcGrade(self,average):\n",
    "        if average >= 90:    return \"수\"\n",
    "        elif average >=80:   return \"우\"\n",
    "        elif average >=70:   return \"미\"\n",
    "        elif average >=60:   return \"양\"\n",
    "        else:  return \"가\"\n",
    "\n",
    "class Evaluation_print:\n",
    "    def print_evalution(self, evaluation):\n",
    "        jumsu = eval(input(\"점수를 입력하시요 \"))\n",
    "        print(evaluation.printcalcGrade(jumsu))\n",
    "       \n",
    "       \n",
    "evaluation_print = Evaluation_print()\n",
    "hakjum    = Hakjum()\n",
    "pass_fail =  Pass_Fail()\n",
    "element   = Element_Evaluation()\n",
    "#if 문 없이 처리가능\n",
    "evaluation_print.print_evalution(hakjum);\n",
    "evaluation_print.print_evalution(pass_fail);\n",
    "\n",
    "evaluation_print.print_evalution(element);\n",
    "\n",
    "\n",
    "evaluation_method = []\n",
    "evaluation_method.append(hakjum)\n",
    "evaluation_method.append(pass_fail)\n",
    "evaluation_method.append(element)\n",
    "\n",
    "for evalu in evaluation_method:\n",
    "    evaluation_print.print_evalution(evalu)"
   ]
  },
  {
   "cell_type": "code",
   "execution_count": null,
   "metadata": {},
   "outputs": [],
   "source": [
    "# diamond : 왼쪽 우선"
   ]
  },
  {
   "cell_type": "code",
   "execution_count": 65,
   "metadata": {},
   "outputs": [
    {
     "name": "stdout",
     "output_type": "stream",
     "text": [
      "B.m()호출\n"
     ]
    }
   ],
   "source": [
    "\n",
    "class A:\n",
    "    def m(self):\n",
    "        print(\"A.m()호출 \")\n",
    "class B(A):\n",
    "    def m(self):\n",
    "        print(\"B.m()호출\")   \n",
    "class C(A):\n",
    "    def m(self):\n",
    "        print(\"C.m()\")\n",
    "class D(B,C):\n",
    "    pass\n",
    "dinc = D()\n",
    "dinc.m()"
   ]
  },
  {
   "cell_type": "code",
   "execution_count": null,
   "metadata": {},
   "outputs": [],
   "source": [
    "class Colock(object):\n",
    "    def__init"
   ]
  },
  {
   "cell_type": "code",
   "execution_count": 72,
   "metadata": {},
   "outputs": [],
   "source": [
    "class Calendar(object):\n",
    "    months = (31,28,31,30,31,30,31,31,30,31,30,31) # 클래스 변수\n",
    "    def __init__(self, day=1, month=1, year=1900): # timestamp 경과시간을 초\n",
    "        self.__day = day # private \n",
    "        self.__month = month\n",
    "        self.__year = year\n",
    "    def leapyear(self,y): # 윤년\n",
    "        if y % 4: # 윤년이 아님\n",
    "           return 0;\n",
    "        else: # 나누어서 떨어진 경우 - 윤년\n",
    "           if y % 100:\n",
    "               return 1;\n",
    "           else: #  나누어서 떨어지지 않으면 29일이 됨\n",
    "               if y % 400: \n",
    "                  return 0\n",
    "               else:\n",
    "                  return 1;\n",
    "    def set(self, day, month, year):\n",
    "         \n",
    "\n",
    "    def advance(self):\n",
    "        months = Calendar.months\n",
    "        max_days = months[self.__month-1] # 인덱스는 0 부터 시작하므로 1을 빼줌\n",
    "        if self.__month == 2: # 2월인 경우\n",
    "            max_days += self.leapyear(self.__year)\n",
    "        if self.__day == max_days:\n",
    "            self.__day = 1\n",
    "            if (self.__month == 12):\n",
    "                self.__month = 1\n",
    "                self.__year += 1\n",
    "            else:\n",
    "                self.__month += 1\n",
    "        else:\n",
    "            self.__day += 1\n",
    "    def __str__(self):\n",
    "        return str(self.__year) +\"/\"+ str(self.__month)+ \"/\"+ str(self.__day)"
   ]
  },
  {
   "cell_type": "code",
   "execution_count": 75,
   "metadata": {},
   "outputs": [
    {
     "ename": "TypeError",
     "evalue": "'Calendar' object is not callable",
     "output_type": "error",
     "traceback": [
      "\u001b[1;31m---------------------------------------------------------------------------\u001b[0m",
      "\u001b[1;31mTypeError\u001b[0m                                 Traceback (most recent call last)",
      "\u001b[1;32m<ipython-input-75-d1cd2e9a8e9b>\u001b[0m in \u001b[0;36m<module>\u001b[1;34m\u001b[0m\n\u001b[0;32m      2\u001b[0m \u001b[1;31m# 날짜를 오늘로 만들어 보세요\u001b[0m\u001b[1;33m\u001b[0m\u001b[1;33m\u001b[0m\u001b[1;33m\u001b[0m\u001b[0m\n\u001b[0;32m      3\u001b[0m \u001b[0mcal\u001b[0m \u001b[1;33m=\u001b[0m \u001b[0mCalendar\u001b[0m\u001b[1;33m(\u001b[0m\u001b[1;33m)\u001b[0m\u001b[1;33m\u001b[0m\u001b[1;33m\u001b[0m\u001b[0m\n\u001b[1;32m----> 4\u001b[1;33m \u001b[0mcal\u001b[0m\u001b[1;33m(\u001b[0m\u001b[1;33m)\u001b[0m\u001b[1;33m\u001b[0m\u001b[1;33m\u001b[0m\u001b[0m\n\u001b[0m",
      "\u001b[1;31mTypeError\u001b[0m: 'Calendar' object is not callable"
     ]
    }
   ],
   "source": [
    "# 두개의 클래스를 결합해서 시분초에서 하루가 지나면 일이 하루 증가하도록 연결시켜보시오\n",
    "# 날짜를 오늘로 만들어 보세요 \n",
    "cal = Calendar()\n",
    "cal()"
   ]
  },
  {
   "cell_type": "code",
   "execution_count": 76,
   "metadata": {},
   "outputs": [
    {
     "ename": "NameError",
     "evalue": "name 'CalendarClock' is not defined",
     "output_type": "error",
     "traceback": [
      "\u001b[1;31m---------------------------------------------------------------------------\u001b[0m",
      "\u001b[1;31mNameError\u001b[0m                                 Traceback (most recent call last)",
      "\u001b[1;32m<ipython-input-76-23027859ee05>\u001b[0m in \u001b[0;36m<module>\u001b[1;34m\u001b[0m\n\u001b[0;32m      1\u001b[0m \u001b[1;31m# 날짜를 오늘로 만들어 보세요\u001b[0m\u001b[1;33m\u001b[0m\u001b[1;33m\u001b[0m\u001b[1;33m\u001b[0m\u001b[0m\n\u001b[1;32m----> 2\u001b[1;33m \u001b[0mx\u001b[0m \u001b[1;33m=\u001b[0m \u001b[0mCalendarClock\u001b[0m\u001b[1;33m\u001b[0m\u001b[1;33m\u001b[0m\u001b[0m\n\u001b[0m",
      "\u001b[1;31mNameError\u001b[0m: name 'CalendarClock' is not defined"
     ]
    }
   ],
   "source": [
    "# 날짜를 오늘로 만들어 보세요 \n",
    "x = CalendarClock"
   ]
  },
  {
   "cell_type": "code",
   "execution_count": null,
   "metadata": {},
   "outputs": [],
   "source": [
    "# Student class 는 1인분에 대해서만 정의합니다. \n",
    "    -bunho , name , kor , mat , eng , total , average ,grade(A,B,C,D,F)\n",
    "    -inputData\n",
    "    -calc_total_average\n",
    "    -calcSemGrade\n",
    "    - __repr__ 개인 점수 출력 \n",
    "\n",
    "# Management class ( 3 인분 )\n",
    "    - 입력 출력 성적 계산 \n",
    "\n",
    "# 메뉴를 이용해서 Management 를 구동 \n",
    "menu = ['입력(1), 출력(2), 계산(3)']\n",
    "\n",
    "# menu = [\"입력(1), 출력(2),계산(3), 검색)4, 이름수정(5), 이름삭제(6), 정렬(8),종료(9)\"]`\n",
    "# 등수를 계산하는 메뉴\n",
    "    -총점으로 정렬하고 , 변수하나를 추가해서 순서대로 넘버링 (1,2,3,4)\n",
    "    - 다시 번호순으로 정렬\n",
    "    - append 를 사용하면 , 추각됨\n",
    "    - 등수를 내기 전에 등수를 지우고 다시 등수를 내는 방향으로 문제를 해결\n",
    "# 저장메뉴 : \n",
    "    -저장 : pickle : pickle.dump(data,f)\n",
    "    -로딩 : data= pickle.load(f)\n",
    "\n",
    "# 통계 : 과목별 평균 , 분산 , 표준편차 를 출력하는 함수 \n",
    "    - 과목별 데이터를 분리 \n",
    "    - 평균(average) = 합계 / 개수 \n",
    "    - 분산(variance) = sigma(데이터 - 평균) ** 2 / 개수 \n",
    "    - 표준편차(deviation) : math.sqrt(분산)"
   ]
  },
  {
   "cell_type": "code",
   "execution_count": 98,
   "metadata": {},
   "outputs": [
    {
     "ename": "TypeError",
     "evalue": "calculate_average() missing 1 required positional argument: 'self'",
     "output_type": "error",
     "traceback": [
      "\u001b[1;31m---------------------------------------------------------------------------\u001b[0m",
      "\u001b[1;31mTypeError\u001b[0m                                 Traceback (most recent call last)",
      "\u001b[1;32m<ipython-input-98-88118fbedc29>\u001b[0m in \u001b[0;36m<module>\u001b[1;34m\u001b[0m\n\u001b[0;32m     15\u001b[0m \u001b[1;31m# person_list에 Person클래스로 a, b, c, d, e의 사람을 추가하였다.\u001b[0m\u001b[1;33m\u001b[0m\u001b[1;33m\u001b[0m\u001b[1;33m\u001b[0m\u001b[0m\n\u001b[0;32m     16\u001b[0m \u001b[0mPerson\u001b[0m\u001b[1;33m(\u001b[0m\u001b[1;36m15\u001b[0m\u001b[1;33m,\u001b[0m\u001b[1;34m'a'\u001b[0m\u001b[1;33m,\u001b[0m \u001b[1;36m50\u001b[0m\u001b[1;33m,\u001b[0m \u001b[1;36m60\u001b[0m\u001b[1;33m,\u001b[0m \u001b[1;36m80\u001b[0m\u001b[1;33m)\u001b[0m\u001b[1;33m;\u001b[0m\u001b[1;33m\u001b[0m\u001b[1;33m\u001b[0m\u001b[0m\n\u001b[1;32m---> 17\u001b[1;33m \u001b[0mPerson\u001b[0m\u001b[1;33m.\u001b[0m\u001b[0mcalculate_average\u001b[0m\u001b[1;33m(\u001b[0m\u001b[1;33m)\u001b[0m\u001b[1;33m\u001b[0m\u001b[1;33m\u001b[0m\u001b[0m\n\u001b[0m\u001b[0;32m     18\u001b[0m \u001b[1;31m# 각 인원의 평균을 구한다.\u001b[0m\u001b[1;33m\u001b[0m\u001b[1;33m\u001b[0m\u001b[1;33m\u001b[0m\u001b[0m\n\u001b[0;32m     19\u001b[0m \u001b[1;32mfor\u001b[0m \u001b[0mp\u001b[0m \u001b[1;32min\u001b[0m \u001b[0mperson_list\u001b[0m\u001b[1;33m:\u001b[0m\u001b[1;33m\u001b[0m\u001b[1;33m\u001b[0m\u001b[0m\n",
      "\u001b[1;31mTypeError\u001b[0m: calculate_average() missing 1 required positional argument: 'self'"
     ]
    }
   ],
   "source": [
    "class Person():\n",
    "# 생성자에서는 name과 korean, math, english의 값을 받는다.\n",
    "    def __init__(self,bun, name, korean, math, english):\n",
    "        self.__bun = bun\n",
    "        self.__name = name;\n",
    "        self.__korean = korean;\n",
    "        self.__math = math;\n",
    "        self.__english = english;\n",
    "# 평균을 구한다.\n",
    "    def calculate_average(self):\n",
    "        average = int((self.__korean + self.__math + self.__english)/3);\n",
    "        return print(self.__bun + ' ' + self.__name)\n",
    "person_list = [];\n",
    "\n",
    "# person_list에 Person클래스로 a, b, c, d, e의 사람을 추가하였다.\n",
    "Person(15,'a', 50, 60, 80);\n",
    "Person.calculate_average()\n",
    "# 각 인원의 평균을 구한다.\n",
    "for p in person_list:\n",
    "    print(p.calculate_average());\n",
    "\n",
    "\n",
    "\n",
    "\n",
    "        \n",
    "    \n",
    "    "
   ]
  },
  {
   "cell_type": "code",
   "execution_count": null,
   "metadata": {},
   "outputs": [],
   "source": [
    "#  검색\n",
    "\n",
    " def search_name(self):       \n",
    "        name = input(\"검색할 학생 이름을 입력하시요\")\n",
    "        sel = 0\n",
    "        for per in self.sungjuk:        \n",
    "            if (per.name == name):\n",
    "                print( per)\n",
    "                return sel\n",
    "            sel += 1\n",
    "        print(\"검색하고자 하는 학생이 없읍니다.\" )\n",
    "        return\n",
    "\n",
    "# 등수\n",
    "\n",
    "   def rank(self, Students):\n",
    "        if len(Students[len(Students)-1]) == 5:\n",
    "            print('총점과 평균을 계산하시오.')\n",
    "            return\n",
    "\n",
    "        Students.sort(key = lambda x : x[5], reverse = True)\n",
    "        rank_num = 1\n",
    "        for i in range(len(Students)):\n",
    "            if len(Students[i]) == 8:\n",
    "                del Students[i][7]\n",
    "            Students[i].append(rank_num)\n",
    "            rank_num+=1\n",
    "        Students.sort(key = lambda x : x[0])\n",
    "        return Students\n",
    "\n",
    "# 저장\n",
    "\n",
    "    def SavePickle(self, saveDir=\"d://\", saveFileName = \"sungjuck.txt\"):\n",
    "        f = open(saveDir + saveFileName, 'wb')\n",
    "        data = []\n",
    "        for a in self.student:\n",
    "            data.append(a())\n",
    "        pickle.dump(data, f)\n",
    "        f.close()\n",
    "\n",
    " \n",
    "\n",
    "# 통계\n",
    "\n",
    "   def Statistics(self):\n",
    "        average = [0,0,0]\n",
    "        variance = [0,0,0]\n",
    "        deviation = [0,0,0]\n",
    "        korList = []\n",
    "        engList = []\n",
    "        mathList = []\n",
    "        for one in self.student:\n",
    "            average[0] += one.kor\n",
    "            average[1] += one.eng\n",
    "            average[2] += one.mat\n",
    "            korList.append(one.kor)\n",
    "            engList.append(one.eng)\n",
    "            mathList.append(one.mat)\n",
    "           \n",
    "        average[0] = round(average[0]/len(self.student),2)\n",
    "        average[1] = round(average[1]/len(self.student),2)\n",
    "        average[2] = round(average[2]/len(self.student),2)\n",
    "       \n",
    "        allList = [korList, engList, mathList]\n",
    "        for one in range(len(average)):\n",
    "            vsum = 0\n",
    "            for x in allList[one]:\n",
    "                vsum +=  (x - average[one])**2\n",
    "            variance[one] = round(vsum / len(allList[one]),2)\n",
    "            deviation[one] = round(math.sqrt(variance[one]),2)\n",
    "        print(\"평균:%s\\t 표준편차:%s\\t 분산:%s\"%(average, variance, deviation))     "
   ]
  }
 ],
 "metadata": {
  "kernelspec": {
   "display_name": "Python 3",
   "language": "python",
   "name": "python3"
  },
  "language_info": {
   "codemirror_mode": {
    "name": "ipython",
    "version": 3
   },
   "file_extension": ".py",
   "mimetype": "text/x-python",
   "name": "python",
   "nbconvert_exporter": "python",
   "pygments_lexer": "ipython3",
   "version": "3.8.3"
  }
 },
 "nbformat": 4,
 "nbformat_minor": 4
}
