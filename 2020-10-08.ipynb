{
 "cells": [
  {
   "cell_type": "code",
   "execution_count": 1,
   "metadata": {},
   "outputs": [
    {
     "name": "stdout",
     "output_type": "stream",
     "text": [
      "6, 깅만덕, 100, 99\n",
      "7, 고려인, 100, 99\n",
      "8, 종로구, 100, 80\n",
      "9, 전공인, 81, 81\n",
      "10, 전공이, 81, 81\n",
      "11, 전공삼, 91, 100\n",
      "12, 전공사, 100, 100\n",
      "18, 에이콘, 90, 80\n",
      "19, 1, 90, 80\n",
      "20, typoon, 100, 100\n",
      "21, 에이콘, 90, 80\n",
      "22, 에어콘, 90, 80\n",
      "['bunho', 'name', 'kor', 'mat', 'eng', 'total', 'average', 'grade', 'school_code']\n"
     ]
    }
   ],
   "source": [
    "# pip install pymysql\n",
    "import pymysql\n",
    "con = pymysql.connect(host=\"192.168.0.53\", port=3306, \n",
    "                      user='root', passwd='root', db='sungjuk_test', \n",
    "                      charset='utf8', autocommit=True)\n",
    "\n",
    "try:\n",
    "    with con.cursor() as cur:\n",
    "        cur.execute(\"select * from student\")\n",
    "        rows = cur.fetchall() # recordset 생성, fetchone, fetchmany, fetchall\n",
    "        desc = cur.description\n",
    "        for row in rows: # 한 행씩 불러오기 tuple형태임\n",
    "            print(f'{row[0]}, {row[1]}, {row[2]}, {row[3]}')\n",
    "finally:\n",
    "    con.close()\n",
    "    \n",
    "print([i[0] for i in cur.description]) # 테이블의 필드 이름"
   ]
  },
  {
   "cell_type": "code",
   "execution_count": 2,
   "metadata": {},
   "outputs": [
    {
     "name": "stdout",
     "output_type": "stream",
     "text": [
      "새로운 학생 등록\n"
     ]
    }
   ],
   "source": [
    "import pymysql\n",
    "con = pymysql.connect(host=\"192.168.0.53\", port=3306, \n",
    "                      user='root', passwd='root', db='sungjuk_test', \n",
    "                      charset='utf8', autocommit=True)\n",
    "\n",
    "person = (\"typoon\", 100,100,100,'CH0000001')\n",
    "\n",
    "try:\n",
    "    with con.cursor() as cur:\n",
    "        cur.execute(\"insert into student(name, kor, mat, eng, school_code) values (%s, %s, %s, %s, %s)\"\n",
    "                    ,(person[0],person[1],person[2],person[3], person[4]))\n",
    "        con.commit()\n",
    "        print(\"새로운 학생 등록\")\n",
    "finally:\n",
    "    con.close()"
   ]
  },
  {
   "cell_type": "code",
   "execution_count": 3,
   "metadata": {},
   "outputs": [
    {
     "name": "stdout",
     "output_type": "stream",
     "text": [
      "((6, '깅만덕', 100, 99, 99, 298, 93.0, 'A', 'CH0000001'), (7, '고려인', 100, 99, 99, 298, 93.0, 'A', 'SE0000001'), (8, '종로구', 100, 80, 70, 250, 78.0, 'C', 'IC0000001'), (9, '전공인', 81, 81, 81, 243, 76.0, 'C', 'se0000001'), (10, '전공이', 81, 81, 81, 243, 76.0, 'C', 'se0000001'), (11, '전공삼', 91, 100, 100, 291, 91.0, 'A', 'se0000001'), (12, '전공사', 100, 100, 100, 300, 94.0, 'A', 'se0000001'), (18, '에이콘', 90, 80, 100, 270, 84.0, 'B', 'CH00000001'), (19, '1', 90, 80, 100, 270, 84.0, 'B', 'CH00000001'), (20, 'typoon', 100, 100, 100, 300, 94.0, 'A', 'CH0000001'))\n"
     ]
    }
   ],
   "source": [
    "import pymysql\n",
    "con = pymysql.connect(host=\"192.168.0.53\", port=3306, \n",
    "                      user='root', passwd='root', db='sungjuk_test', \n",
    "                      charset='utf8', autocommit=True)\n",
    "\n",
    "try:\n",
    "    with con.cursor() as cur:\n",
    "        cur.callproc('student_select')\n",
    "        if(cur.rowcount):\n",
    "            print(cur.fetchall())\n",
    "finally:\n",
    "    cur.close()\n",
    "    con.close()"
   ]
  },
  {
   "cell_type": "code",
   "execution_count": 3,
   "metadata": {},
   "outputs": [
    {
     "name": "stdout",
     "output_type": "stream",
     "text": [
      "새로운 학생 등록\n"
     ]
    }
   ],
   "source": [
    "import pymysql\n",
    "con = pymysql.connect(host=\"192.168.0.53\", port=3306, \n",
    "                      user='root', passwd='root', db='sungjuk_test', \n",
    "                      charset='utf8', autocommit=True)\n",
    "\n",
    "person = ('에이콘',90,80,100,'CH00000001')\n",
    "\n",
    "try:\n",
    "    with con.cursor() as cur:\n",
    "        cur.execute(\"insert into student(name, kor, mat, eng, school_code) values (%s, %s, %s, %s, %s)\"\n",
    "                    ,(person[0],person[1],person[2],person[3], person[4]))\n",
    "        con.commit()\n",
    "        print(\"새로운 학생 등록\")\n",
    "finally:\n",
    "    con.close()\n"
   ]
  },
  {
   "cell_type": "code",
   "execution_count": 4,
   "metadata": {},
   "outputs": [
    {
     "name": "stdout",
     "output_type": "stream",
     "text": [
      "0\n"
     ]
    }
   ],
   "source": [
    "con = pymysql.connect(host=\"192.168.0.53\", port=3306, \n",
    "                      user='root', passwd='root', db='sungjuk_test', \n",
    "                      charset='utf8', cursorclass=pymysql.cursors.DictCursor, autocommit=True)\n",
    "\n",
    "data = ('에어콘',90,80,100,'CH00000001',0)\n",
    "try:\n",
    "    with con.cursor() as cur:\n",
    "        cur.callproc('student_insert', data)\n",
    "        cur.execute('select @_student_insert_5')\n",
    "        result = cur.fetchone()\n",
    "        print(result['@_student_insert_5'])\n",
    "        \n",
    "finally:\n",
    "    cur.close()\n",
    "    con.close()"
   ]
  },
  {
   "cell_type": "code",
   "execution_count": 5,
   "metadata": {},
   "outputs": [
    {
     "name": "stdout",
     "output_type": "stream",
     "text": [
      "0\n",
      "에러2\n"
     ]
    }
   ],
   "source": [
    "con = pymysql.connect(host=\"192.168.0.53\", port=3306, \n",
    "                      user='root', passwd='root', db='sungjuk_test', \n",
    "                      charset='utf8', cursorclass=pymysql.cursors.DictCursor, autocommit=True)\n",
    "\n",
    "data = (8,'에잌ㄴ', 100,90,80,0)\n",
    "try:\n",
    "    with con.cursor() as cursor:\n",
    "        cursor.callproc('student_update', data)\n",
    "        cursor.execute('select @_student_update_5')\n",
    "        result = cursor.fetchone()\n",
    "        print(result['@_student_update_5'])\n",
    "        if result['@_student_update_5'] == 2:\n",
    "            print('수정할 이름x')\n",
    "        elif result['@_student_update_5'] == -1:\n",
    "            print(\"에러\")\n",
    "        elif result['@_student_update_5'] == 0:\n",
    "            print(\"에러2\")\n",
    "        else:\n",
    "            print(\"알 수 x \")\n",
    "finally:\n",
    "    cur.close()\n",
    "    con.close()"
   ]
  },
  {
   "cell_type": "code",
   "execution_count": 6,
   "metadata": {},
   "outputs": [
    {
     "ename": "Error",
     "evalue": "Already closed",
     "output_type": "error",
     "traceback": [
      "\u001b[1;31m---------------------------------------------------------------------------\u001b[0m",
      "\u001b[1;31mInterfaceError\u001b[0m                            Traceback (most recent call last)",
      "\u001b[1;32m<ipython-input-6-1cd5f5fcda8e>\u001b[0m in \u001b[0;36m<module>\u001b[1;34m\u001b[0m\n\u001b[0;32m      2\u001b[0m     \u001b[1;32mwith\u001b[0m \u001b[0mcon\u001b[0m\u001b[1;33m.\u001b[0m\u001b[0mcursor\u001b[0m\u001b[1;33m(\u001b[0m\u001b[1;33m)\u001b[0m \u001b[1;32mas\u001b[0m \u001b[0mcursor\u001b[0m\u001b[1;33m:\u001b[0m\u001b[1;33m\u001b[0m\u001b[1;33m\u001b[0m\u001b[0m\n\u001b[1;32m----> 3\u001b[1;33m         \u001b[0mcursor\u001b[0m\u001b[1;33m.\u001b[0m\u001b[0mcallproc\u001b[0m\u001b[1;33m(\u001b[0m\u001b[1;34m'student_delete'\u001b[0m\u001b[1;33m,\u001b[0m \u001b[0mdata\u001b[0m\u001b[1;33m)\u001b[0m\u001b[1;33m\u001b[0m\u001b[1;33m\u001b[0m\u001b[0m\n\u001b[0m\u001b[0;32m      4\u001b[0m         \u001b[0mcursor\u001b[0m\u001b[1;33m.\u001b[0m\u001b[0mexecute\u001b[0m\u001b[1;33m(\u001b[0m\u001b[1;34m'select @_student_delete_1'\u001b[0m\u001b[1;33m)\u001b[0m\u001b[1;33m\u001b[0m\u001b[1;33m\u001b[0m\u001b[0m\n",
      "\u001b[1;32m~\\anaconda3\\lib\\site-packages\\pymysql\\cursors.py\u001b[0m in \u001b[0;36mcallproc\u001b[1;34m(self, procname, args)\u001b[0m\n\u001b[0;32m    261\u001b[0m             \u001b[0mfmt\u001b[0m \u001b[1;33m=\u001b[0m \u001b[1;34m'@_{0}_%d=%s'\u001b[0m\u001b[1;33m.\u001b[0m\u001b[0mformat\u001b[0m\u001b[1;33m(\u001b[0m\u001b[0mprocname\u001b[0m\u001b[1;33m)\u001b[0m\u001b[1;33m\u001b[0m\u001b[1;33m\u001b[0m\u001b[0m\n\u001b[1;32m--> 262\u001b[1;33m             self._query('SET %s' % ','.join(fmt % (index, conn.escape(arg))\n\u001b[0m\u001b[0;32m    263\u001b[0m                                             for index, arg in enumerate(args)))\n",
      "\u001b[1;32m~\\anaconda3\\lib\\site-packages\\pymysql\\cursors.py\u001b[0m in \u001b[0;36m_query\u001b[1;34m(self, q)\u001b[0m\n\u001b[0;32m    320\u001b[0m         \u001b[0mself\u001b[0m\u001b[1;33m.\u001b[0m\u001b[0m_clear_result\u001b[0m\u001b[1;33m(\u001b[0m\u001b[1;33m)\u001b[0m\u001b[1;33m\u001b[0m\u001b[1;33m\u001b[0m\u001b[0m\n\u001b[1;32m--> 321\u001b[1;33m         \u001b[0mconn\u001b[0m\u001b[1;33m.\u001b[0m\u001b[0mquery\u001b[0m\u001b[1;33m(\u001b[0m\u001b[0mq\u001b[0m\u001b[1;33m)\u001b[0m\u001b[1;33m\u001b[0m\u001b[1;33m\u001b[0m\u001b[0m\n\u001b[0m\u001b[0;32m    322\u001b[0m         \u001b[0mself\u001b[0m\u001b[1;33m.\u001b[0m\u001b[0m_do_get_result\u001b[0m\u001b[1;33m(\u001b[0m\u001b[1;33m)\u001b[0m\u001b[1;33m\u001b[0m\u001b[1;33m\u001b[0m\u001b[0m\n",
      "\u001b[1;32m~\\anaconda3\\lib\\site-packages\\pymysql\\connections.py\u001b[0m in \u001b[0;36mquery\u001b[1;34m(self, sql, unbuffered)\u001b[0m\n\u001b[0;32m    503\u001b[0m                 \u001b[0msql\u001b[0m \u001b[1;33m=\u001b[0m \u001b[0msql\u001b[0m\u001b[1;33m.\u001b[0m\u001b[0mencode\u001b[0m\u001b[1;33m(\u001b[0m\u001b[0mself\u001b[0m\u001b[1;33m.\u001b[0m\u001b[0mencoding\u001b[0m\u001b[1;33m,\u001b[0m \u001b[1;34m'surrogateescape'\u001b[0m\u001b[1;33m)\u001b[0m\u001b[1;33m\u001b[0m\u001b[1;33m\u001b[0m\u001b[0m\n\u001b[1;32m--> 504\u001b[1;33m         \u001b[0mself\u001b[0m\u001b[1;33m.\u001b[0m\u001b[0m_execute_command\u001b[0m\u001b[1;33m(\u001b[0m\u001b[0mCOMMAND\u001b[0m\u001b[1;33m.\u001b[0m\u001b[0mCOM_QUERY\u001b[0m\u001b[1;33m,\u001b[0m \u001b[0msql\u001b[0m\u001b[1;33m)\u001b[0m\u001b[1;33m\u001b[0m\u001b[1;33m\u001b[0m\u001b[0m\n\u001b[0m\u001b[0;32m    505\u001b[0m         \u001b[0mself\u001b[0m\u001b[1;33m.\u001b[0m\u001b[0m_affected_rows\u001b[0m \u001b[1;33m=\u001b[0m \u001b[0mself\u001b[0m\u001b[1;33m.\u001b[0m\u001b[0m_read_query_result\u001b[0m\u001b[1;33m(\u001b[0m\u001b[0munbuffered\u001b[0m\u001b[1;33m=\u001b[0m\u001b[0munbuffered\u001b[0m\u001b[1;33m)\u001b[0m\u001b[1;33m\u001b[0m\u001b[1;33m\u001b[0m\u001b[0m\n",
      "\u001b[1;32m~\\anaconda3\\lib\\site-packages\\pymysql\\connections.py\u001b[0m in \u001b[0;36m_execute_command\u001b[1;34m(self, command, sql)\u001b[0m\n\u001b[0;32m    741\u001b[0m         \u001b[1;32mif\u001b[0m \u001b[1;32mnot\u001b[0m \u001b[0mself\u001b[0m\u001b[1;33m.\u001b[0m\u001b[0m_sock\u001b[0m\u001b[1;33m:\u001b[0m\u001b[1;33m\u001b[0m\u001b[1;33m\u001b[0m\u001b[0m\n\u001b[1;32m--> 742\u001b[1;33m             \u001b[1;32mraise\u001b[0m \u001b[0merr\u001b[0m\u001b[1;33m.\u001b[0m\u001b[0mInterfaceError\u001b[0m\u001b[1;33m(\u001b[0m\u001b[1;36m0\u001b[0m\u001b[1;33m,\u001b[0m \u001b[1;34m''\u001b[0m\u001b[1;33m)\u001b[0m\u001b[1;33m\u001b[0m\u001b[1;33m\u001b[0m\u001b[0m\n\u001b[0m\u001b[0;32m    743\u001b[0m \u001b[1;33m\u001b[0m\u001b[0m\n",
      "\u001b[1;31mInterfaceError\u001b[0m: (0, '')",
      "\nDuring handling of the above exception, another exception occurred:\n",
      "\u001b[1;31mError\u001b[0m                                     Traceback (most recent call last)",
      "\u001b[1;32m<ipython-input-6-1cd5f5fcda8e>\u001b[0m in \u001b[0;36m<module>\u001b[1;34m\u001b[0m\n\u001b[0;32m     13\u001b[0m \u001b[1;32mfinally\u001b[0m\u001b[1;33m:\u001b[0m\u001b[1;33m\u001b[0m\u001b[1;33m\u001b[0m\u001b[0m\n\u001b[0;32m     14\u001b[0m     \u001b[0mcursor\u001b[0m\u001b[1;33m.\u001b[0m\u001b[0mclose\u001b[0m\u001b[1;33m(\u001b[0m\u001b[1;33m)\u001b[0m\u001b[1;33m\u001b[0m\u001b[1;33m\u001b[0m\u001b[0m\n\u001b[1;32m---> 15\u001b[1;33m     \u001b[0mcon\u001b[0m\u001b[1;33m.\u001b[0m\u001b[0mclose\u001b[0m\u001b[1;33m(\u001b[0m\u001b[1;33m)\u001b[0m\u001b[1;33m\u001b[0m\u001b[1;33m\u001b[0m\u001b[0m\n\u001b[0m",
      "\u001b[1;32m~\\anaconda3\\lib\\site-packages\\pymysql\\connections.py\u001b[0m in \u001b[0;36mclose\u001b[1;34m(self)\u001b[0m\n\u001b[0;32m    354\u001b[0m         \"\"\"\n\u001b[0;32m    355\u001b[0m         \u001b[1;32mif\u001b[0m \u001b[0mself\u001b[0m\u001b[1;33m.\u001b[0m\u001b[0m_closed\u001b[0m\u001b[1;33m:\u001b[0m\u001b[1;33m\u001b[0m\u001b[1;33m\u001b[0m\u001b[0m\n\u001b[1;32m--> 356\u001b[1;33m             \u001b[1;32mraise\u001b[0m \u001b[0merr\u001b[0m\u001b[1;33m.\u001b[0m\u001b[0mError\u001b[0m\u001b[1;33m(\u001b[0m\u001b[1;34m\"Already closed\"\u001b[0m\u001b[1;33m)\u001b[0m\u001b[1;33m\u001b[0m\u001b[1;33m\u001b[0m\u001b[0m\n\u001b[0m\u001b[0;32m    357\u001b[0m         \u001b[0mself\u001b[0m\u001b[1;33m.\u001b[0m\u001b[0m_closed\u001b[0m \u001b[1;33m=\u001b[0m \u001b[1;32mTrue\u001b[0m\u001b[1;33m\u001b[0m\u001b[1;33m\u001b[0m\u001b[0m\n\u001b[0;32m    358\u001b[0m         \u001b[1;32mif\u001b[0m \u001b[0mself\u001b[0m\u001b[1;33m.\u001b[0m\u001b[0m_sock\u001b[0m \u001b[1;32mis\u001b[0m \u001b[1;32mNone\u001b[0m\u001b[1;33m:\u001b[0m\u001b[1;33m\u001b[0m\u001b[1;33m\u001b[0m\u001b[0m\n",
      "\u001b[1;31mError\u001b[0m: Already closed"
     ]
    }
   ],
   "source": [
    "try:\n",
    "    with con.cursor() as cursor:\n",
    "        cursor.callproc('student_delete', data)\n",
    "        cursor.execute('select @_student_delete_1')\n",
    "        reslt = cursor.fetchone()\n",
    "        print(result['@_student_delete_1'])\n",
    "        if result['@_student_delete_1'] == 2:\n",
    "            print('삭제할 이름x')\n",
    "        elif result['@_student_delete_1'] == 0:\n",
    "            print('삭제완료')\n",
    "        else:\n",
    "            print('알수x')\n",
    "finally:\n",
    "    cursor.close()\n",
    "    con.close()"
   ]
  },
  {
   "cell_type": "code",
   "execution_count": 18,
   "metadata": {},
   "outputs": [],
   "source": [
    "import requests\n",
    "import pandas as pd\n",
    "from bs4 import BeautifulSoup\n",
    "class HTMLTableParser:\n",
    "    def parse_url(self, url):\n",
    "        response = requests.get(url)\n",
    "        soup = BeautifulSoup(response.text, 'lxml')\n",
    "        return [(table('id'), self.parse_html_table(table))\n",
    "                for table in soup.find_all('table')]\n",
    "\n",
    "    def parse_html_table(self, table):\n",
    "        n_columns = 0\n",
    "        n_rows = 0\n",
    "        column_names = []\n",
    "        for row in table.find_all('tr'):# 행\n",
    "            td_tags = row.find_all('td')# 열\n",
    "            if len(td_tags) > 0:\n",
    "                n_rows += 1 # 행 누적\n",
    "                if n_columns == 0:# 처음인 경우\n",
    "                    # Set the number of columns for our table\n",
    "                    n_columns = len(td_tags)\n",
    "            th_tags = row.find_all('th')# 헤더 열 이름\n",
    "            if len(th_tags) > 0 and len(column_names) == 0:\n",
    "                for th in th_tags:\n",
    "                    column_names.append(th.get_text())\n",
    "\n",
    "        if len(column_names) > 0 and len(column_names) != n_columns:\n",
    "            raise Exception(\"컬럼 타이틀이 컬럼과 숫자가 맞지 않음 \")\n",
    "\n",
    "        columns = column_names if len(column_names) > 0 else range(0, n_columns)\n",
    "        # pandas  데이터프레임\n",
    "        df = pd.DataFrame(columns=columns, index=range(0, n_rows))# 공백\n",
    "        row_marker = 0 # 행을 확인하는 것\n",
    "        for row in table.find_all('tr'):\n",
    "            column_marker = 0 # 열을 확인하는 변수\n",
    "            columns = row.find_all('td')\n",
    "            for column in columns:\n",
    "                df.iloc[row_marker, column_marker] = column.get_text()\n",
    "                # 태그, 속성, 텍스트\n",
    "                column_marker += 1\n",
    "            if len(columns) > 0:\n",
    "                row_marker += 1\n",
    "        for col in df:#   형변환\n",
    "            try:# 문자 -> 숫자변경\n",
    "                df[col] = df[col].astype(float)\n",
    "            except ValueError:\n",
    "                pass\n",
    "        return df \n",
    "                     "
   ]
  },
  {
   "cell_type": "code",
   "execution_count": 20,
   "metadata": {},
   "outputs": [
    {
     "ename": "Exception",
     "evalue": "컬럼 타이틀이 컬럼과 숫자가 맞지 않음 ",
     "output_type": "error",
     "traceback": [
      "\u001b[1;31m---------------------------------------------------------------------------\u001b[0m",
      "\u001b[1;31mException\u001b[0m                                 Traceback (most recent call last)",
      "\u001b[1;32m<ipython-input-20-eaf525227ea5>\u001b[0m in \u001b[0;36m<module>\u001b[1;34m\u001b[0m\n\u001b[0;32m      3\u001b[0m \u001b[0murl\u001b[0m \u001b[1;33m=\u001b[0m \u001b[1;34m'http://127.0.0.1:5000/sungjuk_call'\u001b[0m\u001b[1;33m\u001b[0m\u001b[1;33m\u001b[0m\u001b[0m\n\u001b[0;32m      4\u001b[0m \u001b[0mhp\u001b[0m \u001b[1;33m=\u001b[0m \u001b[0mHTMLTableParser\u001b[0m\u001b[1;33m(\u001b[0m\u001b[1;33m)\u001b[0m\u001b[1;33m\u001b[0m\u001b[1;33m\u001b[0m\u001b[0m\n\u001b[1;32m----> 5\u001b[1;33m \u001b[0mtable\u001b[0m \u001b[1;33m=\u001b[0m \u001b[0mhp\u001b[0m\u001b[1;33m.\u001b[0m\u001b[0mparse_url\u001b[0m\u001b[1;33m(\u001b[0m\u001b[0murl\u001b[0m\u001b[1;33m)\u001b[0m\u001b[1;33m\u001b[0m\u001b[1;33m\u001b[0m\u001b[0m\n\u001b[0m",
      "\u001b[1;32m<ipython-input-18-0ec5311bf178>\u001b[0m in \u001b[0;36mparse_url\u001b[1;34m(self, url)\u001b[0m\n\u001b[0;32m      6\u001b[0m         \u001b[0mresponse\u001b[0m \u001b[1;33m=\u001b[0m \u001b[0mrequests\u001b[0m\u001b[1;33m.\u001b[0m\u001b[0mget\u001b[0m\u001b[1;33m(\u001b[0m\u001b[0murl\u001b[0m\u001b[1;33m)\u001b[0m\u001b[1;33m\u001b[0m\u001b[1;33m\u001b[0m\u001b[0m\n\u001b[0;32m      7\u001b[0m         \u001b[0msoup\u001b[0m \u001b[1;33m=\u001b[0m \u001b[0mBeautifulSoup\u001b[0m\u001b[1;33m(\u001b[0m\u001b[0mresponse\u001b[0m\u001b[1;33m.\u001b[0m\u001b[0mtext\u001b[0m\u001b[1;33m,\u001b[0m \u001b[1;34m'lxml'\u001b[0m\u001b[1;33m)\u001b[0m\u001b[1;33m\u001b[0m\u001b[1;33m\u001b[0m\u001b[0m\n\u001b[1;32m----> 8\u001b[1;33m         return [(table('id'), self.parse_html_table(table))\n\u001b[0m\u001b[0;32m      9\u001b[0m                 for table in soup.find_all('table')]\n\u001b[0;32m     10\u001b[0m \u001b[1;33m\u001b[0m\u001b[0m\n",
      "\u001b[1;32m<ipython-input-18-0ec5311bf178>\u001b[0m in \u001b[0;36m<listcomp>\u001b[1;34m(.0)\u001b[0m\n\u001b[0;32m      6\u001b[0m         \u001b[0mresponse\u001b[0m \u001b[1;33m=\u001b[0m \u001b[0mrequests\u001b[0m\u001b[1;33m.\u001b[0m\u001b[0mget\u001b[0m\u001b[1;33m(\u001b[0m\u001b[0murl\u001b[0m\u001b[1;33m)\u001b[0m\u001b[1;33m\u001b[0m\u001b[1;33m\u001b[0m\u001b[0m\n\u001b[0;32m      7\u001b[0m         \u001b[0msoup\u001b[0m \u001b[1;33m=\u001b[0m \u001b[0mBeautifulSoup\u001b[0m\u001b[1;33m(\u001b[0m\u001b[0mresponse\u001b[0m\u001b[1;33m.\u001b[0m\u001b[0mtext\u001b[0m\u001b[1;33m,\u001b[0m \u001b[1;34m'lxml'\u001b[0m\u001b[1;33m)\u001b[0m\u001b[1;33m\u001b[0m\u001b[1;33m\u001b[0m\u001b[0m\n\u001b[1;32m----> 8\u001b[1;33m         return [(table('id'), self.parse_html_table(table))\n\u001b[0m\u001b[0;32m      9\u001b[0m                 for table in soup.find_all('table')]\n\u001b[0;32m     10\u001b[0m \u001b[1;33m\u001b[0m\u001b[0m\n",
      "\u001b[1;32m<ipython-input-18-0ec5311bf178>\u001b[0m in \u001b[0;36mparse_html_table\u001b[1;34m(self, table)\u001b[0m\n\u001b[0;32m     26\u001b[0m \u001b[1;33m\u001b[0m\u001b[0m\n\u001b[0;32m     27\u001b[0m         \u001b[1;32mif\u001b[0m \u001b[0mlen\u001b[0m\u001b[1;33m(\u001b[0m\u001b[0mcolumn_names\u001b[0m\u001b[1;33m)\u001b[0m \u001b[1;33m>\u001b[0m \u001b[1;36m0\u001b[0m \u001b[1;32mand\u001b[0m \u001b[0mlen\u001b[0m\u001b[1;33m(\u001b[0m\u001b[0mcolumn_names\u001b[0m\u001b[1;33m)\u001b[0m \u001b[1;33m!=\u001b[0m \u001b[0mn_columns\u001b[0m\u001b[1;33m:\u001b[0m\u001b[1;33m\u001b[0m\u001b[1;33m\u001b[0m\u001b[0m\n\u001b[1;32m---> 28\u001b[1;33m             \u001b[1;32mraise\u001b[0m \u001b[0mException\u001b[0m\u001b[1;33m(\u001b[0m\u001b[1;34m\"컬럼 타이틀이 컬럼과 숫자가 맞지 않음 \"\u001b[0m\u001b[1;33m)\u001b[0m\u001b[1;33m\u001b[0m\u001b[1;33m\u001b[0m\u001b[0m\n\u001b[0m\u001b[0;32m     29\u001b[0m \u001b[1;33m\u001b[0m\u001b[0m\n\u001b[0;32m     30\u001b[0m         \u001b[0mcolumns\u001b[0m \u001b[1;33m=\u001b[0m \u001b[0mcolumn_names\u001b[0m \u001b[1;32mif\u001b[0m \u001b[0mlen\u001b[0m\u001b[1;33m(\u001b[0m\u001b[0mcolumn_names\u001b[0m\u001b[1;33m)\u001b[0m \u001b[1;33m>\u001b[0m \u001b[1;36m0\u001b[0m \u001b[1;32melse\u001b[0m \u001b[0mrange\u001b[0m\u001b[1;33m(\u001b[0m\u001b[1;36m0\u001b[0m\u001b[1;33m,\u001b[0m \u001b[0mn_columns\u001b[0m\u001b[1;33m)\u001b[0m\u001b[1;33m\u001b[0m\u001b[1;33m\u001b[0m\u001b[0m\n",
      "\u001b[1;31mException\u001b[0m: 컬럼 타이틀이 컬럼과 숫자가 맞지 않음 "
     ]
    }
   ],
   "source": [
    "import pprint\n",
    "import requests \n",
    "url = 'http://127.0.0.1:5000/sungjuk_call'\n",
    "hp = HTMLTableParser()\n",
    "table = hp.parse_url(url)"
   ]
  }
 ],
 "metadata": {
  "kernelspec": {
   "display_name": "Python 3",
   "language": "python",
   "name": "python3"
  },
  "language_info": {
   "codemirror_mode": {
    "name": "ipython",
    "version": 3
   },
   "file_extension": ".py",
   "mimetype": "text/x-python",
   "name": "python",
   "nbconvert_exporter": "python",
   "pygments_lexer": "ipython3",
   "version": "3.8.3"
  }
 },
 "nbformat": 4,
 "nbformat_minor": 4
}
