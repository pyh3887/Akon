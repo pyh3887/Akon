{
 "cells": [
  {
   "cell_type": "code",
   "execution_count": 3,
   "metadata": {},
   "outputs": [
    {
     "name": "stdout",
     "output_type": "stream",
     "text": [
      "10\n",
      "10\n",
      "주소값대입 140734352013376 140734352013376\n",
      "20\n",
      "10\n",
      "대입후 140734352013696 140734352013376\n",
      "20\n"
     ]
    }
   ],
   "source": [
    "# 데이터 타입 미지정 - 주소값을 지정(주소개념)\n",
    "a=10 \n",
    "b=a # a 가 가리키는 주소\n",
    "print(a)\n",
    "print(b)\n",
    "print(\"주소값대입\",id(a),id(b))\n",
    "a = 20\n",
    "print(a)\n",
    "print(b)\n",
    "print(\"대입후\",id(a),id(b))\n",
    "c=a #포인터 반드시 초기화 필요, 데이터 타입 결정\n",
    "print(c)"
   ]
  },
  {
   "cell_type": "code",
   "execution_count": 2,
   "metadata": {},
   "outputs": [
    {
     "data": {
      "text/plain": [
       "int"
      ]
     },
     "execution_count": 2,
     "metadata": {},
     "output_type": "execute_result"
    }
   ],
   "source": [
    "type(a)"
   ]
  },
  {
   "cell_type": "code",
   "execution_count": 4,
   "metadata": {},
   "outputs": [
    {
     "name": "stdout",
     "output_type": "stream",
     "text": [
      "10\n",
      "20\n"
     ]
    }
   ],
   "source": [
    "a = 10 \n",
    "A = 20\n",
    "print(a)\n",
    "print(A)"
   ]
  },
  {
   "cell_type": "markdown",
   "metadata": {},
   "source": [
    "# 파이썬은 대소문자 구분함\n",
    "- 명령행 모드와 편집모드 \n",
    "- esc\n",
    "\n",
    "comment mode > command 'm'"
   ]
  },
  {
   "cell_type": "code",
   "execution_count": 7,
   "metadata": {},
   "outputs": [
    {
     "name": "stdout",
     "output_type": "stream",
     "text": [
      "수식을 입력하세요10+3\n",
      "10+3\n",
      "13\n"
     ]
    }
   ],
   "source": [
    "problem = input(\"수식을 입력하세요\") # 문자열로 입력\n",
    "print(problem)\n",
    "print(eval(problem)) #  input 으로 받은데이터를 수치형으로 변환"
   ]
  },
  {
   "cell_type": "code",
   "execution_count": null,
   "metadata": {},
   "outputs": [],
   "source": [
    "# casting(형변환)\n",
    "int, float 형"
   ]
  },
  {
   "cell_type": "code",
   "execution_count": null,
   "metadata": {},
   "outputs": [],
   "source": [
    "print(int(\"23\"))\n",
    "print(float(\"23\"))\n",
    "print(eval(\"23\"))\n",
    "print(eval(\"23.5\"))\n",
    "x = 5 \n",
    "print(eval(\"23 + (2 * x)\")) # 변수도 문자열로 입력이 가능 \n",
    "x = 5.0\n",
    "print(eval(\"23 + (2*x)\"))"
   ]
  },
  {
   "cell_type": "code",
   "execution_count": 10,
   "metadata": {},
   "outputs": [
    {
     "name": "stdout",
     "output_type": "stream",
     "text": [
      "0.00424\n",
      "127\n",
      "143\n",
      "<class 'int'>\n"
     ]
    }
   ],
   "source": [
    "a3 = 4.24e-3 # exponent\n",
    "a4 = 0o177 # 8진수\n",
    "a5 = 0x8f\n",
    "print(a3)\n",
    "print(a4)\n",
    "print(a5)\n",
    "print(type(a5)) # class : 모든 것이 객체다 (class , 함수도 괙체다 - 일급함수다)"
   ]
  },
  {
   "cell_type": "code",
   "execution_count": null,
   "metadata": {},
   "outputs": [],
   "source": [
    "# 문자열 출력 방법 \n",
    "- C , C# , F문자열\n",
    "- %문자열\n",
    "- ' , \" , \"\"\" 형식대로 출력 \"\"\""
   ]
  },
  {
   "cell_type": "code",
   "execution_count": 13,
   "metadata": {},
   "outputs": [
    {
     "name": "stdout",
     "output_type": "stream",
     "text": [
      "My name is AI and i am from 박윤호 , 10 ,\n",
      "My name is AI and I am from 박윤호 and I like cats\n",
      "이름은 박윤호 나이는 20\n"
     ]
    }
   ],
   "source": [
    "print('My name is %s and i am from %s , %i ,' %('AI','박윤호',10))\n",
    "print('My name is {1} and I am from {0} and I like {thing}'.format('박윤호','AI',thing='cats'))\n",
    "name ='박윤호'\n",
    "age = 20\n",
    "print(f\"이름은 {name} 나이는 {age}\")"
   ]
  },
  {
   "cell_type": "code",
   "execution_count": null,
   "metadata": {},
   "outputs": [],
   "source": [
    "#문자열 입력\n",
    "- 문자열도 클래스 \n",
    "- 문자열은 기본적으로 1차원 배열\n",
    "- 인덱스 접근 가능(0부터 시작, 범위값의 뒤는 제외함)\n",
    "- - 인덱스는 뒤에서 부터라는 의미\n",
    "- 문자열은 순서형 자료구조(문자열 , list , tuple) 이기 때문에 +,* 연산을 지원"
   ]
  },
  {
   "cell_type": "code",
   "execution_count": 15,
   "metadata": {},
   "outputs": [
    {
     "name": "stdout",
     "output_type": "stream",
     "text": [
      "이름을 입력하세요:박 윤호\n",
      "박\n",
      " \n",
      "윤\n",
      "1\n",
      "이름: 윤호\n",
      "성(s): 박\n"
     ]
    }
   ],
   "source": [
    "fullName = input('이름을 입력하세요:')\n",
    "n = fullName.rfind(\" \") #reverse find\n",
    "\n",
    "print(fullName[0])\n",
    "print(fullName[1])\n",
    "print(fullName[2])\n",
    "print(n)\n",
    "print(\"이름:\", fullName[n+1:]) # 끝까지\n",
    "print(\"성(s):\", fullName[:n]) # 처음부터\n",
    "\n",
    "\n"
   ]
  },
  {
   "cell_type": "code",
   "execution_count": null,
   "metadata": {},
   "outputs": [],
   "source": [
    "s = 'korea'\n",
    "print(s+s) # 순서형 자료 구조에 지원 \n",
    "print(s*3) # 순서형 자료구조에 지원\n",
    "print(s[0:])\n",
    "print(s[4])\n",
    "print(s[-1]) # reverse\n",
    "print(s[1:3])\n",
    "print(s[-2:])\n",
    "print(s[-2:5]) # 혼합사용이 가능 R에서는 불가\n",
    "print(s[3:-1]) \n",
    "print(len(s)) # 순서형 자료구조에 지원 글자수 > len\n",
    "s.split('r') # 리스트 출력\n",
    "# [] 리스트 , { } dict ,set () tuple 이나 함수 , 거짓의 의미 False 의미 \"\"\n",
    "# 괄호를 지정하지 않으면 디폴트가 tuple임"
   ]
  },
  {
   "cell_type": "code",
   "execution_count": 20,
   "metadata": {},
   "outputs": [
    {
     "name": "stdout",
     "output_type": "stream",
     "text": [
      "<class 'str'>\n",
      "Korea\n",
      "2\n",
      "1\n",
      "True\n",
      "False\n",
      "koRea\n",
      "True\n",
      "True\n",
      "korea\n"
     ]
    }
   ],
   "source": [
    "# 문자열은 수정이 불가 \n",
    "s = 'korea'\n",
    "print(type(s))# str clss\n",
    "print(s.capitalize())\n",
    "print(s.find('r'))\n",
    "print(s.count('re'))\n",
    "print(s.isalpha()) # identity 함수\n",
    "print(s.isdigit())\n",
    "print(s.replace('r','R')) # 대치 \n",
    "print(s.startswith('K')) #시작점 \n",
    "print(s.endswith('a')) # 끝나는점\n",
    "print(s) # 대입에 의해서만 변화됨"
   ]
  },
  {
   "cell_type": "markdown",
   "metadata": {},
   "source": [
    "f = 1.23\n",
    "g = str(f)\n",
    "h = repr(f) # 유리함 \n",
    "print(g,\"     \", h)"
   ]
  },
  {
   "cell_type": "code",
   "execution_count": 25,
   "metadata": {},
   "outputs": [
    {
     "name": "stdout",
     "output_type": "stream",
     "text": [
      "7 -1 12 0.75\n",
      "3\n",
      "0\n"
     ]
    }
   ],
   "source": [
    "a = 3 \n",
    "b = 4 \n",
    "print(a + b , a - b ,a*b , a/b)\n",
    "print(a % b) # 나머지 연산자 # 경우의 수 \n",
    "print(a // b) # 몫연산자 \n"
   ]
  },
  {
   "cell_type": "code",
   "execution_count": null,
   "metadata": {},
   "outputs": [],
   "source": [
    "print(\"sum([1,2,3]): \" , sum([1,2,3]))\n",
    "print(\"min([1,2,3]) : \", min([1,2,3]))\n",
    "print(\"abs(-11) : \", abs(-11)) # 절대값\n",
    "print(\"pow(2,10) : \", pow(2,10)) # 승\n",
    "print(\"round(3.141595): \", round(3.14592,2)) # 부동소수점에서 에러가 존재\n"
   ]
  },
  {
   "cell_type": "code",
   "execution_count": null,
   "metadata": {},
   "outputs": [],
   "source": [
    "# if 문 , 블록문 , indent 에 대한 설명 "
   ]
  },
  {
   "cell_type": "code",
   "execution_count": null,
   "metadata": {},
   "outputs": [],
   "source": [
    "num1 = input(\"정수를 입력하시오:\")\n",
    "num2 = input(\"정수를 입력하시오:\")\n",
    "hab = int(num1) + int(num2)\n",
    "quotient = hab //2\n",
    "remainder = hab % 2 \n",
    "print(\"입력된 수를 2로 나눈 결과 몫 = \", quotient,\"나머지=\",remainder)\n",
    "if remainder == 0:\n",
    "    print(\"짝수입니다\")\n",
    "else:\n",
    "    print(\"홀수입니다\")\n",
    "    \n",
    "    \n",
    "    "
   ]
  },
  {
   "cell_type": "code",
   "execution_count": 30,
   "metadata": {},
   "outputs": [
    {
     "name": "stdout",
     "output_type": "stream",
     "text": [
      "200\n",
      "200\n"
     ]
    }
   ],
   "source": [
    "# 전역변수와 지역변수 \n",
    "x= 300 \n",
    "def myfunc(): #파이썬의 함수는 리턴값을 지정하지 않음 , 매개변수의 타입도 지정하지 않음\n",
    "    global x # x > 전역변수\n",
    "    x = 200 # stack 안에서만 작동 (함수는 스택에 필요한 변수와 매개변수)\n",
    "    print(x)\n",
    "\n",
    "myfunc()\n",
    "print(x)"
   ]
  },
  {
   "cell_type": "code",
   "execution_count": 31,
   "metadata": {},
   "outputs": [
    {
     "name": "stdout",
     "output_type": "stream",
     "text": [
      "정수를 입력하시오: 2\n",
      "보\n"
     ]
    }
   ],
   "source": [
    "select = int(input(\"정수를 입력하시오: \"))%3\n",
    "if select == 0:\n",
    "    print(\"가위\")\n",
    "    print(\"가위이다.\")\n",
    "elif select == 1 :\n",
    "    print(\"바위\")\n",
    "elif select == 2:\n",
    "    print(\"보\")"
   ]
  },
  {
   "cell_type": "code",
   "execution_count": 32,
   "metadata": {},
   "outputs": [
    {
     "name": "stdout",
     "output_type": "stream",
     "text": [
      "6 5\n"
     ]
    }
   ],
   "source": [
    "x = 5 \n",
    "y = 6 \n",
    "# temp = x \n",
    "# x = y \n",
    "# y = temp \n",
    "x,y = y, x\n",
    "print(x,y)\n"
   ]
  },
  {
   "cell_type": "code",
   "execution_count": null,
   "metadata": {},
   "outputs": [],
   "source": [
    "# list , tuple, dict , set \n",
    "# int , float , bool , str \n",
    "# list , tuple ,str 순서형 자료구조 - 인덱스 , + , - , len \n",
    "# 수정이 불가능한 자료구조 : tuple ,str \n",
    "# 자료구조 CRUD (create, read ,update ,delete) = 데이터베이스(select ,insert ,update , delete)\n"
   ]
  },
  {
   "cell_type": "code",
   "execution_count": 33,
   "metadata": {},
   "outputs": [
    {
     "name": "stdout",
     "output_type": "stream",
     "text": [
      "[3, ['a', 'b', 'c'], 4]\n",
      "['a', 'b']\n"
     ]
    }
   ],
   "source": [
    "a = [1,2,3,['a','b','c'],4,5]\n",
    "print(a[2:5])\n",
    "print(a[3][:2])"
   ]
  },
  {
   "cell_type": "code",
   "execution_count": 38,
   "metadata": {},
   "outputs": [
    {
     "name": "stdout",
     "output_type": "stream",
     "text": [
      "Life\n"
     ]
    }
   ],
   "source": [
    "a = [1,2,['a','b',['Life','is']]]\n",
    "print(a[2][2][0])"
   ]
  },
  {
   "cell_type": "code",
   "execution_count": 37,
   "metadata": {},
   "outputs": [
    {
     "name": "stdout",
     "output_type": "stream",
     "text": [
      "[[1, 2, 3], [4, 5, 6], [7, 8, 9]]\n"
     ]
    }
   ],
   "source": [
    "mat = [[1,2,3],[4,5,6],[7,8,9]] # 3X3 행렬 \n",
    "print(mat)"
   ]
  },
  {
   "cell_type": "code",
   "execution_count": null,
   "metadata": {},
   "outputs": [],
   "source": [
    "#변수에 저장되는 것은 주소값 \n",
    "mat = [[0] * 4 ] * 3\n",
    "mat[0][0] = 100 # 주소값의 함정 \n",
    "print(mat)"
   ]
  },
  {
   "cell_type": "code",
   "execution_count": null,
   "metadata": {},
   "outputs": [],
   "source": [
    "# 삽입삭제가 용이한 자료구조\n",
    "[10,20,30,40,50,60]"
   ]
  },
  {
   "cell_type": "code",
   "execution_count": 40,
   "metadata": {},
   "outputs": [
    {
     "name": "stdout",
     "output_type": "stream",
     "text": [
      "60\n",
      "60\n",
      "80\n"
     ]
    }
   ],
   "source": [
    "a = [10,20,30,40,50]\n",
    "a.append(60)\n",
    "print(a.pop())\n",
    "a.append(60)\n",
    "print(a.pop())\n",
    "a.append(70)\n",
    "a.append(80)\n",
    "print(a.pop()) # 뒤에서 출력\n"
   ]
  },
  {
   "cell_type": "code",
   "execution_count": null,
   "metadata": {},
   "outputs": [],
   "source": [
    "print(a.pop(0)) # queue \n"
   ]
  },
  {
   "cell_type": "code",
   "execution_count": 42,
   "metadata": {},
   "outputs": [
    {
     "name": "stdout",
     "output_type": "stream",
     "text": [
      "7 12\n",
      "7\n"
     ]
    },
    {
     "data": {
      "text/plain": [
       "(9, 20)"
      ]
     },
     "execution_count": 42,
     "metadata": {},
     "output_type": "execute_result"
    }
   ],
   "source": [
    "#주소값만 릴턴 \n",
    "def calc(a,b): # 오버로딩의 데이터타입이 다르면 다른 함수로 인식한다\n",
    "    return a+b , a*b \n",
    "x,y = calc(3,4)\n",
    "print(x,y)\n",
    "print(x)\n",
    "x,y\n",
    "args=(4,5) \n",
    "calc(*args) # 리스트 매개변수 , ** : dict매개변수 \n",
    "# argument 를 각각 a,b로 찢어져서 들어감\n",
    "\n",
    "\n",
    "\n"
   ]
  },
  {
   "cell_type": "code",
   "execution_count": 45,
   "metadata": {},
   "outputs": [
    {
     "name": "stdout",
     "output_type": "stream",
     "text": [
      "이름을 입력하세요:박\n",
      "국어 점수를 입력하세요!32\n",
      "이름을 입력하세요:이\n",
      "국어 점수를 입력하세요!62\n",
      "이름을 입력하세요:윤\n",
      "국어 점수를 입력하세요!21\n",
      "이름을 입력하세요:소\n",
      "국어 점수를 입력하세요!25\n",
      "[['윤', 21], ['소', 25], ['박', 32], ['이', 62]]\n"
     ]
    }
   ],
   "source": [
    "school = []\n",
    "for i in range(0,4,1): # iterator 초기값, 최종값, 증감값\n",
    "    jumsu = []\n",
    "    name = input(\"이름을 입력하세요:\")\n",
    "    kor = eval(input(\"국어 점수를 입력하세요!\"))\n",
    "    jumsu.append(name)\n",
    "    jumsu.append(kor)\n",
    "    school.append(jumsu) #2차원 리스트\n",
    "    \n",
    "#람다 함수 : 무명함수 : \n",
    "# 파이썬에서의 함수는 일급함수(함수의 매개변수, 변수의 대입가능, 함수의 리턴값)\n",
    "la = lambda row: row[1]\n",
    "school.sort(key=lambda row: row[1]) # 재사용하지 않는 경우 , 간단한 경우\n",
    "print(school)\n",
    "\n"
   ]
  },
  {
   "cell_type": "code",
   "execution_count": 51,
   "metadata": {},
   "outputs": [
    {
     "name": "stdout",
     "output_type": "stream",
     "text": [
      "[['유재석', 99, 99, 98], ['추신수', 90, 98, 91], ['하하', 100, 100, 100]]\n",
      "[['추신수', 90, 98, 91], ['유재석', 99, 99, 98], ['하하', 100, 100, 100]]\n"
     ]
    }
   ],
   "source": [
    "sungjuk=[['하하',100,100,100],['유재석',99,99,98],['추신수',90,98,91]]\n",
    "sungjuk.sort()\n",
    "print(sungjuk)\n",
    "def getKey(a1): #key 의 함수 형태\n",
    "    return a1[1]\n",
    "sungjuk.sort(key = getKey)\n",
    "print(sungjuk)"
   ]
  },
  {
   "cell_type": "code",
   "execution_count": null,
   "metadata": {},
   "outputs": [],
   "source": [
    "# dict :검색속도가 빠름(키를 주소값으로 변환하는 hash 함수)\n",
    "# hash 함수는 중복되지 않아야함 , 변환속도가 빨라야함\n",
    "- list에 list  \n",
    "- list 에 dict\n",
    "- dict에 list \n",
    "- dict에 dict "
   ]
  },
  {
   "cell_type": "code",
   "execution_count": 55,
   "metadata": {},
   "outputs": [
    {
     "name": "stdout",
     "output_type": "stream",
     "text": [
      "10\n",
      "-1\n"
     ]
    },
    {
     "data": {
      "text/plain": [
       "4"
      ]
     },
     "execution_count": 55,
     "metadata": {},
     "output_type": "execute_result"
    }
   ],
   "source": [
    "d = {'a':10,'b':20,'c':30}\n",
    "print(d['a'])\n",
    "#print(d['z'']) # 에러발생\n",
    "print(d.get('z',-1))\n",
    "b"
   ]
  },
  {
   "cell_type": "code",
   "execution_count": 57,
   "metadata": {},
   "outputs": [
    {
     "ename": "SyntaxError",
     "evalue": "invalid syntax (<ipython-input-57-bd412c580592>, line 4)",
     "output_type": "error",
     "traceback": [
      "\u001b[1;36m  File \u001b[1;32m\"<ipython-input-57-bd412c580592>\"\u001b[1;36m, line \u001b[1;32m4\u001b[0m\n\u001b[1;33m    'method' :lambda x * x**2\u001b[0m\n\u001b[1;37m                       ^\u001b[0m\n\u001b[1;31mSyntaxError\u001b[0m\u001b[1;31m:\u001b[0m invalid syntax\n"
     ]
    }
   ],
   "source": [
    "foo = {\n",
    "    'bar':1 ,\n",
    "    'foobar': 2 ,\n",
    "    'method' :lambda x * x**2\n",
    "}\n",
    "foo['method'](2)"
   ]
  },
  {
   "cell_type": "raw",
   "metadata": {},
   "source": [
    "# 기본적으로 python 의 객체는 object 를 상속\n",
    "print(foo.__class___) # 부모의 properties\n",
    "print(foo.key\n",
    "'bar' in foo\n",
    "foo.values()\n",
    "foo,items()"
   ]
  },
  {
   "cell_type": "code",
   "execution_count": null,
   "metadata": {},
   "outputs": [],
   "source": [
    "for x = range(2,4):\n",
    "    print()\n",
    "    fore y = range(2,10)\n",
    "    print(y,'x')\n",
    "   "
   ]
  },
  {
   "cell_type": "code",
   "execution_count": 63,
   "metadata": {},
   "outputs": [
    {
     "ename": "SyntaxError",
     "evalue": "invalid syntax (<ipython-input-63-12f6d5ce3aed>, line 1)",
     "output_type": "error",
     "traceback": [
      "\u001b[1;36m  File \u001b[1;32m\"<ipython-input-63-12f6d5ce3aed>\"\u001b[1;36m, line \u001b[1;32m1\u001b[0m\n\u001b[1;33m    [i[0]:i**3 for i in range(10)] # dict 형성\u001b[0m\n\u001b[1;37m         ^\u001b[0m\n\u001b[1;31mSyntaxError\u001b[0m\u001b[1;31m:\u001b[0m invalid syntax\n"
     ]
    }
   ],
   "source": [
    "[i0:i**3 for i in range(10)] # dict 형성\n",
    "{0:0,1:1,2:8,3:27,4:64,5:125,6:126,7:343,8:512,9:729}\n",
    "(i ** 2 for i range(10) if i%2 ==0] # 짝수 인것만\n",
    " "
   ]
  },
  {
   "cell_type": "code",
   "execution_count": 59,
   "metadata": {},
   "outputs": [
    {
     "data": {
      "text/plain": [
       "[(1, 10),\n",
       " (1, 11),\n",
       " (1, 12),\n",
       " (1, 13),\n",
       " (1, 14),\n",
       " (2, 10),\n",
       " (2, 11),\n",
       " (2, 12),\n",
       " (2, 13),\n",
       " (2, 14),\n",
       " (3, 10),\n",
       " (3, 11),\n",
       " (3, 12),\n",
       " (3, 13),\n",
       " (3, 14),\n",
       " (4, 10),\n",
       " (4, 11),\n",
       " (4, 12),\n",
       " (4, 13),\n",
       " (4, 14)]"
      ]
     },
     "execution_count": 59,
     "metadata": {},
     "output_type": "execute_result"
    }
   ],
   "source": [
    "rows = range(1,5) # 1,2,3,4\n",
    "cols = range(10,15) # 10,11,12,13,14\n",
    "vectors = [(r,c) for r in rows for c in cols] # 20개의 데이터 생성\n",
    "vectors\n",
    "\n"
   ]
  },
  {
   "cell_type": "code",
   "execution_count": 60,
   "metadata": {},
   "outputs": [
    {
     "data": {
      "text/plain": [
       "[(1, 11), (1, 13), (3, 11), (3, 13)]"
      ]
     },
     "execution_count": 60,
     "metadata": {},
     "output_type": "execute_result"
    }
   ],
   "source": [
    "vectors = [(r,c) for r in rows if r%2 for c in cols if c%2]\n",
    "vectors"
   ]
  },
  {
   "cell_type": "markdown",
   "metadata": {},
   "source": [
    "1부터 20까지의 수중에 3의 배수이면 \"3의배수\", 5의 배수이면 \"5의 배수\" 아니면 숫자가 출력되도록 내장리스트를 이용해서 구현해 보시오 "
   ]
  },
  {
   "cell_type": "code",
   "execution_count": 67,
   "metadata": {},
   "outputs": [
    {
     "data": {
      "text/plain": [
       "[1,\n",
       " 2,\n",
       " '3의 배수',\n",
       " 4,\n",
       " '5의 배수',\n",
       " '3의 배수',\n",
       " 7,\n",
       " 8,\n",
       " '3의 배수',\n",
       " '5의 배수',\n",
       " 11,\n",
       " '3의 배수',\n",
       " 13,\n",
       " 14,\n",
       " '3의 배수5의 배수',\n",
       " 16,\n",
       " 17,\n",
       " '3의 배수',\n",
       " 19,\n",
       " '5의 배수']"
      ]
     },
     "execution_count": 67,
     "metadata": {},
     "output_type": "execute_result"
    }
   ],
   "source": [
    "#True ==1 , False= 0 \n",
    "[\"3의 배수\" * (i%3==0) + \"5의 배수\" * (i%5==0) or i for i in range(1,21)]"
   ]
  },
  {
   "cell_type": "code",
   "execution_count": null,
   "metadata": {},
   "outputs": [],
   "source": [
    "#수학 함수 \n",
    "-컴퓨터에서는 각도를 사용하지 못함 > radian 으로 사용 \n",
    "- exp, log , sqrt\n"
   ]
  },
  {
   "cell_type": "code",
   "execution_count": 70,
   "metadata": {},
   "outputs": [
    {
     "name": "stdout",
     "output_type": "stream",
     "text": [
      "숫자를 입력하세요:10\n",
      "*\n",
      "**\n",
      "***\n",
      "****\n",
      "*****\n",
      "******\n",
      "*******\n",
      "********\n",
      "*********\n",
      "**********\n"
     ]
    }
   ],
   "source": [
    "numberOfRows = int(input(\"숫자를 입력하세요:\"))\n",
    "for i in range(numberOfRows):\n",
    "    for j in range(i+1):\n",
    "        print(\"*\", end=\"\")    \n",
    "    print()\n",
    "            "
   ]
  },
  {
   "cell_type": "code",
   "execution_count": 74,
   "metadata": {},
   "outputs": [
    {
     "name": "stdout",
     "output_type": "stream",
     "text": [
      "숫자를 입력하세요:10\n",
      "          *\n",
      "         **\n",
      "        ***\n",
      "       ****\n",
      "      *****\n",
      "     ******\n",
      "    *******\n",
      "   ********\n",
      "  *********\n",
      " **********\n"
     ]
    }
   ],
   "source": [
    "numberOfRows = int(input(\"숫자를 입력하세요:\"))\n",
    "for i in range(numberOfRows):\n",
    "    for k in range(numberOfRows-i):\n",
    "        print(\" \",end='')\n",
    "    for j in range(i+1):\n",
    "        print(\"*\", end=\"\")    \n",
    "    print()"
   ]
  },
  {
   "cell_type": "code",
   "execution_count": 75,
   "metadata": {},
   "outputs": [
    {
     "name": "stdout",
     "output_type": "stream",
     "text": [
      "          *\n",
      "         **\n",
      "        ***\n",
      "       ****\n",
      "      *****\n",
      "     ******\n",
      "    *******\n",
      "   ********\n",
      "  *********\n",
      " **********\n"
     ]
    }
   ],
   "source": [
    "for i in range(1,11):\n",
    "    print(\" \"*(10-i),\"*\"*i)"
   ]
  },
  {
   "cell_type": "code",
   "execution_count": null,
   "metadata": {},
   "outputs": [],
   "source": [
    "# 함수 function\n",
    "- 매개변수의 종류 \n",
    "    - required parameter 반드시 매개변수 개수 일치 시켜야 함\n",
    "    - default parameter (param = 10 : 생략이 가능) range(10)\n",
    "    - key paramete (함수에 값을 전달할 때 key 를 사용하면 순서를 변경)\n",
    "    - variable - length parameter 변동 매개변수 *list, **dict \n",
    "-매개변수 전달방식 \n",
    "    - reference 전달방식 (주소값에 의해 전달)\n",
    "    - value 에 의한 전달방식은 함수 내부에서 대입이 벌어지는 경우는 \n",
    "-함수의 변수 종류\n",
    "    - 지역변수 , 매개변수 , 멤버변수 , 스태틱 변수(static)\n",
    "-구조적 프로그래밍 - > 객체 지향프로그래밍 -> 일반화프로그래밍 -> 함수적프로그래밍 \n",
    "-일반화프로그래밍(stl<T>) -> 파이썬에서는 데이터 타입을 지정하지 않음으로 처리 \n",
    "- 함수적 프로그래밍( 반복문 없이 데이터를 변형)\n",
    "    - map : 데이터에 함수적용\n",
    "    - filter : 원하는 값만 필터링\n",
    "    - reduce : 종합\n",
    "-벡터와 연산\n",
    "- 재귀함수 (함수 자신이 자신을 호출 : 반드시 종료조건)\n",
    "- clouser - decorator -> javascript 에 있었던 기능 ( 함수로 클래스를 대신하던 것 )\n",
    "    -함수가 함수를 리턴\n",
    "    "
   ]
  },
  {
   "cell_type": "code",
   "execution_count": null,
   "metadata": {},
   "outputs": [],
   "source": [
    "#  y = ax + b \n",
    "# x : 정의역 : 실수 , 독립변수 , 매개변수\n",
    "# y : 치역 , 종속변수 , 리턴값\n",
    "def reg(x,a=10,b=30)\n",
    "    return a*x + b \n",
    "\n"
   ]
  },
  {
   "cell_type": "code",
   "execution_count": 76,
   "metadata": {},
   "outputs": [
    {
     "name": "stdout",
     "output_type": "stream",
     "text": [
      "시작\n",
      "add의 결과 : 30\n",
      "addition의 결과 : 30\n",
      "결과 : 30\n"
     ]
    }
   ],
   "source": [
    "def add(a,b):\n",
    "    return a+b \n",
    "def subtract(a,b):\n",
    "    return a-b\n",
    "def multiply(a,b):\n",
    "    return a*b\n",
    "def divide(a,b):\n",
    "    return a/b\n",
    "\n",
    "def changefun(g,a,b):\n",
    "    return g(a,b)\n",
    "print('시작')\n",
    "print('add의 결과 :', add(10,20))\n",
    "addition = add # 변수에 함수를 대입 - 함수의 주소값을 전달\n",
    "print('addition의 결과 :', addition(10,20))\n",
    "print('결과 :', changefun(add, 10, 20))  # 함수의 매개변수 함수가 전달 됨 "
   ]
  },
  {
   "cell_type": "code",
   "execution_count": 81,
   "metadata": {},
   "outputs": [
    {
     "name": "stdout",
     "output_type": "stream",
     "text": [
      "함수 내부에서 출력: [10, 20, 30, [1, 2, 3, 4]]\n",
      "함수 외부에서 출력 : [10, 20, 30, [1, 2, 3, 4]]\n"
     ]
    }
   ],
   "source": [
    "# 모두가 주소값 \n",
    "def changeme(mylist):\n",
    "    mylist.append([1,2,3,4]) # call by reference\n",
    "    #mylist = [1,2,3,4] # call by value 방식 \n",
    "    print('함수 내부에서 출력:', mylist)\n",
    "    return\n",
    "mylist = [10,20,30];\n",
    "changeme(mylist)\n",
    "print(\"함수 외부에서 출력 :\" , mylist)"
   ]
  },
  {
   "cell_type": "code",
   "execution_count": null,
   "metadata": {},
   "outputs": [],
   "source": [
    "def say_hello_then_call(f , *args , **kwargs): #변동 매개변수\n",
    "    print('args is', args)\n",
    "    print('kwargs is ', kwargs)\n",
    "    print(\"Hello Now I'm going to call %s\" % f) # 함수의 주소가 출력\n",
    "    return f(*args, **kwargs)\n",
    "\n",
    "def g(x,y,z = 1):\n",
    "    print(x)\n",
    "    print(y)\n",
    "    print(z)\n",
    "    return (x+y) / z \n",
    "say_hello_then_call(g,1,2,z=5.) # 카이 매개변수"
   ]
  },
  {
   "cell_type": "code",
   "execution_count": 84,
   "metadata": {},
   "outputs": [],
   "source": [
    "# 커링 ( 함수의 매개변수를 제한)"
   ]
  },
  {
   "cell_type": "code",
   "execution_count": 85,
   "metadata": {},
   "outputs": [
    {
     "name": "stdout",
     "output_type": "stream",
     "text": [
      "15\n"
     ]
    }
   ],
   "source": [
    "def all_number(x,y):\n",
    "    return x+y\n",
    "add_five = lambda y : all_number(5,y) # wrapper 겹겹이 쌓다 \n",
    "print(add_five(10))\n"
   ]
  },
  {
   "cell_type": "code",
   "execution_count": 86,
   "metadata": {},
   "outputs": [
    {
     "name": "stdout",
     "output_type": "stream",
     "text": [
      "8\n"
     ]
    }
   ],
   "source": [
    "def power(r,n):\n",
    "    if n == 1 :\n",
    "        return r\n",
    "    else: \n",
    "        return r * power(r, n - 1) # 2 * 2 * 2 \n",
    "\n",
    "print(power(2,3))    \n"
   ]
  },
  {
   "cell_type": "code",
   "execution_count": null,
   "metadata": {},
   "outputs": [],
   "source": [
    "# generator \n",
    "# for 문 뒤에 올수 있는 것 \n",
    "    - collections(list,tuple,dict,set)\n",
    "    - iteratiors(range)\n",
    "    - generators (생성기 - 비동기 방식 yield 이용해서 실행)\n",
    "    - enumerate(범주화)\n",
    "    \n",
    "    "
   ]
  },
  {
   "cell_type": "code",
   "execution_count": 87,
   "metadata": {},
   "outputs": [
    {
     "name": "stdout",
     "output_type": "stream",
     "text": [
      "0.7026002556828904\n",
      "0.797941143922395\n",
      "0.7495762175890434\n",
      "0.08921797877380733\n",
      "0.44403075216685994\n"
     ]
    }
   ],
   "source": [
    "import random # 난부 발생기 - 의사난수 (순서가 결정)\n",
    "def gaus_dist(n):\n",
    "    while n> 0 :\n",
    "        yield random.random() # 비동기 방식 (멈춤상태)\n",
    "        n-=1 \n",
    "gd = gaus_dist(5) # [5,4,3,2,1] 10000만개 : 메모리 낭비 \n",
    "for i in gd:\n",
    "    print(i)"
   ]
  },
  {
   "cell_type": "code",
   "execution_count": null,
   "metadata": {},
   "outputs": [],
   "source": [
    "# 총근무시간과 시간당 급여를 입력받아 주급을 계산하는 프로그램을 작성하시오 \n",
    "- 조건 : 40시간이 넘으면 1.5배해서 지급합니다 \n",
    "함수의 매개변수는 시간당 급여와 주 작업시간 \n"
   ]
  },
  {
   "cell_type": "code",
   "execution_count": 2,
   "metadata": {},
   "outputs": [
    {
     "name": "stdout",
     "output_type": "stream",
     "text": [
      "시간당급여는:2\n",
      "근무시간은:40\n",
      "주간 수입은 : 80원\n"
     ]
    }
   ],
   "source": [
    "basictime = 40\n",
    "\n",
    "def pay(wage,hours):\n",
    "    if hours <= basictime:\n",
    "        amount = wage * hours\n",
    "    else: # 초과분만\n",
    "        amount = (wage * basictime) + ((1.5)*wage*(hours-basictime))\n",
    "    return amount\n",
    "\n",
    "hourlyWage = eval(input('시간당급여는:'))\n",
    "hoursWorked = eval(input('근무시간은:'))\n",
    "earnings = pay(hourlyWage,hoursWorked)\n",
    "print(f\"주간 수입은 : {round(earnings)}원\")\n"
   ]
  },
  {
   "cell_type": "code",
   "execution_count": null,
   "metadata": {},
   "outputs": [],
   "source": [
    "# 이진 검색( 정렬된 데이터) > 순차 검색 \n",
    "-데이터를 순서적으로 정렬\n",
    "-가운데서 데이터를 검색\n",
    "-반을 검색 대상에서 제거\n"
   ]
  },
  {
   "cell_type": "code",
   "execution_count": 1,
   "metadata": {},
   "outputs": [
    {
     "name": "stdout",
     "output_type": "stream",
     "text": [
      "['김종호', '다함께', '동계팀', '신념인', '진정인', '협동이', '희망이']\n"
     ]
    }
   ],
   "source": [
    "name_list = ['진정인','김종호','희망이','협동이','동계팀','신념인','다함께']\n",
    "name_list.sort()\n",
    "print(name_list)"
   ]
  },
  {
   "cell_type": "code",
   "execution_count": 34,
   "metadata": {},
   "outputs": [],
   "source": [
    "def binary_serch_recursive(search_list, key, lower_bound, upper_bound):\n",
    "    if lower_bound > upper_bound:\n",
    "        print(\"데이터가 존재하지 않습니다\")\n",
    "        return\n",
    "    \n",
    "    middle_pos = (lower_bound + upper_bound) // 2 #중심위치 계산\n",
    "    \n",
    "    if search_list[middle_pos] < key: # 오른쪽\n",
    "        binary_serch_recursive(search_list,\n",
    "                               key,\n",
    "                               middle_pos +1,\n",
    "                               upper_bound)\n",
    "    elif search_list[middle_pos] > key: # 왼쪽 \n",
    "        binary_serch_recursive(search_list,\n",
    "                               key,\n",
    "                               lower_bound,\n",
    "                              middle_pos -1)\n",
    "   \n",
    "    \n",
    "    else:\n",
    "        print(\"데이터가 있는 인덱스\", middle_pos) "
   ]
  },
  {
   "cell_type": "code",
   "execution_count": 38,
   "metadata": {},
   "outputs": [
    {
     "name": "stdout",
     "output_type": "stream",
     "text": [
      "데이터가 있는 인덱스 6\n"
     ]
    }
   ],
   "source": [
    "lower_bound = 0 \n",
    "upper_bound = len(name_list) - 1 \n",
    "result = binary_serch_recursive(name_list,'희망이',lower_bound,upper_bound)"
   ]
  }
 ],
 "metadata": {
  "kernelspec": {
   "display_name": "Python 3",
   "language": "python",
   "name": "python3"
  },
  "language_info": {
   "codemirror_mode": {
    "name": "ipython",
    "version": 3
   },
   "file_extension": ".py",
   "mimetype": "text/x-python",
   "name": "python",
   "nbconvert_exporter": "python",
   "pygments_lexer": "ipython3",
   "version": "3.8.3"
  }
 },
 "nbformat": 4,
 "nbformat_minor": 4
}
